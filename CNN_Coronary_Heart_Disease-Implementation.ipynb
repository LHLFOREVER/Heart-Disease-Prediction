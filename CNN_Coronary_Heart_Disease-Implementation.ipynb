{
 "cells": [
  {
   "cell_type": "markdown",
   "metadata": {},
   "source": [
    "# CNN using coronary heart disease data "
   ]
  },
  {
   "cell_type": "markdown",
   "metadata": {},
   "source": [
    "This work is aiming at the design and testing of a deep neural network architecture on Coronary heart disease using Tensorflow and Keras."
   ]
  },
  {
   "cell_type": "markdown",
   "metadata": {},
   "source": [
    "## Importing libraries"
   ]
  },
  {
   "cell_type": "code",
   "execution_count": 126,
   "metadata": {},
   "outputs": [],
   "source": [
    "import numpy as np\n",
    "import copy\n",
    "from sklearn import preprocessing"
   ]
  },
  {
   "cell_type": "code",
   "execution_count": 127,
   "metadata": {},
   "outputs": [],
   "source": [
    "import tensorflow as tf\n",
    "from tensorflow import keras\n",
    "import os\n",
    "import pandas as pd\n",
    "from matplotlib import pyplot as plt\n",
    "from numpy.random import seed\n",
    "np.random.seed(2095)"
   ]
  },
  {
   "cell_type": "markdown",
   "metadata": {},
   "source": [
    "## Reading the data"
   ]
  },
  {
   "cell_type": "code",
   "execution_count": 128,
   "metadata": {
    "scrolled": false
   },
   "outputs": [
    {
     "name": "stdout",
     "output_type": "stream",
     "text": [
      "Index(['SEQN', 'Gender', 'Age', 'Annual-Family-Income',\n",
      "       'Ratio-Family-Income-Poverty', 'X60-sec-pulse', 'Systolic', 'Diastolic',\n",
      "       'Weight', 'Height', 'Body-Mass-Index', 'White-Blood-Cells',\n",
      "       'Lymphocyte', 'Monocyte', 'Eosinophils', 'Basophils', 'Red-Blood-Cells',\n",
      "       'Hemoglobin', 'Mean-Cell-Vol', 'Mean-Cell-Hgb-Conc.',\n",
      "       'Mean-cell-Hemoglobin', 'Platelet-count', 'Mean-Platelet-Vol',\n",
      "       'Segmented-Neutrophils', 'Hematocrit', 'Red-Cell-Distribution-Width',\n",
      "       'Albumin', 'ALP', 'AST', 'ALT', 'Cholesterol', 'Creatinine', 'Glucose',\n",
      "       'GGT', 'Iron', 'LDH', 'Phosphorus', 'Bilirubin', 'Protein', 'Uric.Acid',\n",
      "       'Triglycerides', 'Total-Cholesterol', 'HDL', 'Glycohemoglobin',\n",
      "       'Vigorous-work', 'Moderate-work', 'Health-Insurance', 'Diabetes',\n",
      "       'Blood-Rel-Diabetes', 'Blood-Rel-Stroke', 'CoronaryHeartDisease'],\n",
      "      dtype='object')\n"
     ]
    }
   ],
   "source": [
    "# read input file\n",
    "file = '/Users/lhlforever/Heart-Disease-Prediction/Heart-Disease-Prediction/CardiacPrediction.xlsx'\n",
    "#ipData = pd.read_excel(file, sheet_name='Stroke')\n",
    "ipData = pd.read_excel(file, sheet_name='CoroHeartDis')\n",
    "print(ipData.columns) "
   ]
  },
  {
   "cell_type": "markdown",
   "metadata": {},
   "source": [
    "## Drop variables"
   ]
  },
  {
   "cell_type": "code",
   "execution_count": 129,
   "metadata": {},
   "outputs": [],
   "source": [
    "# data drop\n",
    "opLabel = np.array(ipData['CoronaryHeartDisease'])\n",
    "ipData.drop(['SEQN','CoronaryHeartDisease','Annual-Family-Income','Height','Ratio-Family-Income-Poverty','X60-sec-pulse',\n",
    "          'Health-Insurance','Lymphocyte','Monocyte','Eosinophils','Total-Cholesterol','Mean-Cell-Vol','Mean-Cell-Hgb-Conc.','Hematocrit','Segmented-Neutrophils'], axis = 1, inplace=True)\n",
    "\n",
    "\n",
    "#opLabel = np.array(ipData['Stroke'])\n",
    "#ipData.drop(['SEQN','Stroke','Annual-Family-Income','Height','Ratio-Family-Income-Poverty','X60-sec-pulse',\n",
    "#          'Health-Insurance','Lymphocyte','Monocyte','Eosinophils','Total-Cholesterol','Mean-Cell-Vol','Mean-Cell-Hgb-Conc.','Hematocrit','Segmented-Neutrophils'], axis = 1, inplace=True)\n",
    "\n"
   ]
  },
  {
   "cell_type": "code",
   "execution_count": 130,
   "metadata": {},
   "outputs": [],
   "source": [
    "# dummy variable for categorical variables\n",
    "ipData = pd.get_dummies(ipData,columns=[\"Gender\",\"Diabetes\",\"Blood-Rel-Diabetes\",\"Blood-Rel-Stroke\",\"Vigorous-work\",\"Moderate-work\"]) \n",
    "\n",
    "varb = np.array(ipData.columns)\n",
    "ipData = np.array(ipData)"
   ]
  },
  {
   "cell_type": "code",
   "execution_count": 131,
   "metadata": {
    "scrolled": true
   },
   "outputs": [
    {
     "name": "stdout",
     "output_type": "stream",
     "text": [
      "(37079, 45)\n",
      "['Age' 'Systolic' 'Diastolic' 'Weight' 'Body-Mass-Index'\n",
      " 'White-Blood-Cells' 'Basophils' 'Red-Blood-Cells' 'Hemoglobin'\n",
      " 'Mean-cell-Hemoglobin' 'Platelet-count' 'Mean-Platelet-Vol'\n",
      " 'Red-Cell-Distribution-Width' 'Albumin' 'ALP' 'AST' 'ALT' 'Cholesterol'\n",
      " 'Creatinine' 'Glucose' 'GGT' 'Iron' 'LDH' 'Phosphorus' 'Bilirubin'\n",
      " 'Protein' 'Uric.Acid' 'Triglycerides' 'HDL' 'Glycohemoglobin' 'Gender_1'\n",
      " 'Gender_2' 'Diabetes_1' 'Diabetes_2' 'Diabetes_3' 'Blood-Rel-Diabetes_1'\n",
      " 'Blood-Rel-Diabetes_2' 'Blood-Rel-Stroke_1' 'Blood-Rel-Stroke_2'\n",
      " 'Vigorous-work_1' 'Vigorous-work_2' 'Vigorous-work_3' 'Moderate-work_1'\n",
      " 'Moderate-work_2' 'Moderate-work_3']\n",
      "35571\n",
      "1508\n"
     ]
    }
   ],
   "source": [
    "print(ipData.shape)\n",
    "print(varb)\n",
    "print(len(opLabel[opLabel==0]))\n",
    "print(len(opLabel[opLabel==1]))"
   ]
  },
  {
   "cell_type": "markdown",
   "metadata": {},
   "source": [
    "## Feature Nomination using Ridge"
   ]
  },
  {
   "cell_type": "code",
   "execution_count": 132,
   "metadata": {},
   "outputs": [
    {
     "name": "stdout",
     "output_type": "stream",
     "text": [
      "(45,)\n"
     ]
    }
   ],
   "source": [
    "from sklearn.linear_model import Ridge  # Import Ridge\n",
    "from sklearn import preprocessing\n",
    "import numpy as np\n",
    "\n",
    "featureVote = np.zeros(ipData.shape[1])\n",
    "print(featureVote.shape)\n",
    "\n",
    "# Calculate sizes for train, test, and validation sets\n",
    "total_size = ipData.shape[0]\n",
    "train_size = int(0.70 * total_size)\n",
    "test_size = val_size = int(0.15 * total_size)\n",
    "iteR=100\n",
    "for num in range(iteR):\n",
    "    # Shuffle the indices for each label\n",
    "    label0_indx = np.where(opLabel == 0)[0]\n",
    "    label1_indx = np.where(opLabel == 1)[0]\n",
    "    np.random.shuffle(label0_indx)\n",
    "    np.random.shuffle(label1_indx)\n",
    "\n",
    "    # Split indices into train, test, and validation sets for each label\n",
    "    label0_indx_train = label0_indx[:train_size // 2]\n",
    "    label1_indx_train = label1_indx[:train_size // 2]\n",
    "    label0_indx_test = label0_indx[train_size // 2:train_size // 2 + test_size // 2]\n",
    "    label1_indx_test = label1_indx[train_size // 2:train_size // 2 + test_size // 2]\n",
    "    label0_indx_val = label0_indx[train_size // 2 + test_size // 2:train_size // 2 + test_size // 2 + val_size // 2]\n",
    "    label1_indx_val = label1_indx[train_size // 2 + test_size // 2:train_size // 2 + test_size // 2 + val_size // 2]\n",
    "\n",
    "    # Combine indices for each set\n",
    "    trainIndx = np.append(label0_indx_train, label1_indx_train)\n",
    "    testIndx = np.append(label0_indx_test, label1_indx_test)\n",
    "    valIndx = np.append(label0_indx_val, label1_indx_val)\n",
    "\n",
    "    # Select data for each set\n",
    "    trainData = ipData[trainIndx]\n",
    "    trainLabel = opLabel[trainIndx]\n",
    "    testData = ipData[testIndx]\n",
    "    testLabel = opLabel[testIndx]\n",
    "    valData = ipData[valIndx]\n",
    "    valLabel = opLabel[valIndx]\n",
    "\n",
    "    # Data standardization\n",
    "    scaler = preprocessing.StandardScaler().fit(trainData)\n",
    "    trainData_scaled = scaler.transform(trainData)\n",
    "    testData_scaled = scaler.transform(testData)\n",
    "    valData_scaled = scaler.transform(valData)\n",
    "\n",
    "    # Use Ridge instead of Lasso\n",
    "    regr = Ridge(random_state=0, alpha=0.006, tol=0.000001, max_iter=100000)\n",
    "    regr.fit(trainData_scaled, trainLabel)\n",
    "\n"
   ]
  },
  {
   "cell_type": "code",
   "execution_count": 133,
   "metadata": {
    "scrolled": false
   },
   "outputs": [
    {
     "name": "stdout",
     "output_type": "stream",
     "text": [
      "[0. 0. 0. 0. 0. 0. 0. 0. 0. 0. 0. 0. 0. 0. 0. 0. 0. 0. 0. 0. 0. 0. 0. 0.\n",
      " 0. 0. 0. 0. 0. 0. 0. 0. 0. 0. 0. 0. 0. 0. 0. 0. 0. 0. 0. 0. 0.]\n",
      "<built-in function iter>\n"
     ]
    }
   ],
   "source": [
    "print(featureVote)\n",
    "print(iter)"
   ]
  },
  {
   "cell_type": "code",
   "execution_count": 134,
   "metadata": {
    "scrolled": false
   },
   "outputs": [
    {
     "name": "stdout",
     "output_type": "stream",
     "text": [
      "['Age' 'Systolic' 'Diastolic' 'Weight' 'Body-Mass-Index'\n",
      " 'White-Blood-Cells' 'Basophils' 'Red-Blood-Cells' 'Hemoglobin'\n",
      " 'Mean-cell-Hemoglobin' 'Platelet-count' 'Mean-Platelet-Vol'\n",
      " 'Red-Cell-Distribution-Width' 'Albumin' 'ALP' 'AST' 'ALT' 'Cholesterol'\n",
      " 'Creatinine' 'Glucose' 'GGT' 'Iron' 'LDH' 'Phosphorus' 'Bilirubin'\n",
      " 'Protein' 'Uric.Acid' 'Triglycerides' 'HDL' 'Glycohemoglobin' 'Gender_1'\n",
      " 'Gender_2' 'Diabetes_1' 'Diabetes_2' 'Diabetes_3' 'Blood-Rel-Diabetes_1'\n",
      " 'Blood-Rel-Diabetes_2' 'Blood-Rel-Stroke_1' 'Blood-Rel-Stroke_2'\n",
      " 'Vigorous-work_1' 'Vigorous-work_2' 'Vigorous-work_3' 'Moderate-work_1'\n",
      " 'Moderate-work_2' 'Moderate-work_3']\n"
     ]
    }
   ],
   "source": [
    "# feature nomination via Lasso (from feature 1 to 30)\n",
    "# We keep the dummy variables\n",
    "\n",
    "#thresH = iteR//5. Pick features occuring more than 5 times\n",
    "thresH = 0\n",
    "featureIndx = np.where(featureVote[0:30]>=thresH)[0]\n",
    "featureIndx = np.append(featureIndx, np.arange(30,ipData.shape[1]))\n",
    "print(varb[featureIndx])"
   ]
  },
  {
   "cell_type": "code",
   "execution_count": 135,
   "metadata": {},
   "outputs": [
    {
     "data": {
      "text/plain": [
       "(45,)"
      ]
     },
     "execution_count": 135,
     "metadata": {},
     "output_type": "execute_result"
    }
   ],
   "source": [
    "featureIndx.shape"
   ]
  },
  {
   "cell_type": "code",
   "execution_count": 136,
   "metadata": {
    "scrolled": true
   },
   "outputs": [
    {
     "name": "stdout",
     "output_type": "stream",
     "text": [
      "[]\n"
     ]
    }
   ],
   "source": [
    "tInx = np.arange(ipData.shape[1])\n",
    "rrInx = tInx[~np.isin(tInx,featureIndx)]\n",
    "print(varb[rrInx])"
   ]
  },
  {
   "cell_type": "markdown",
   "metadata": {},
   "source": [
    "# Dataset reduction (Re-run every time you change the number of training data)"
   ]
  },
  {
   "cell_type": "code",
   "execution_count": 137,
   "metadata": {},
   "outputs": [],
   "source": [
    "reduced_data = ipData[:,featureIndx]\n",
    "\n",
    "label0_indx = np.where(opLabel==0)[0]   #no cardiac arrest\n",
    "label1_indx = np.where(opLabel==1)[0]   #cardiac arrest \n",
    "\n",
    "# Calculate sizes for train, test, and validation sets\n",
    "total_size0 = len(label0_indx)\n",
    "total_size1 = len(label1_indx)\n",
    "train_size0 = int(0.70 * total_size0)\n",
    "train_size1 = int(0.70 * total_size1)\n",
    "val_size0 = test_size0 = int(0.15 * total_size0)\n",
    "val_size1 = test_size1 = int(0.15 * total_size1)\n",
    "\n",
    "np.random.shuffle(label0_indx)\n",
    "np.random.shuffle(label1_indx)\n",
    "\n",
    "# Splitting indices into train, validation, and test sets\n",
    "label0_indx_train = label0_indx[:train_size0]\n",
    "label1_indx_train = label1_indx[:train_size1]\n",
    "label0_indx_val = label0_indx[train_size0:train_size0 + val_size0]\n",
    "label1_indx_val = label1_indx[train_size1:train_size1 + val_size1]\n",
    "label0_indx_test = label0_indx[train_size0 + val_size0:]\n",
    "label1_indx_test = label1_indx[train_size1 + val_size1:]\n",
    "\n",
    "# Combine indices for each set\n",
    "trainIndx = np.append(label0_indx_train, label1_indx_train)\n",
    "valIndx = np.append(label0_indx_val, label1_indx_val)\n",
    "testIndx = np.append(label0_indx_test, label1_indx_test)\n",
    "\n",
    "# Select data for each set\n",
    "x_train = reduced_data[trainIndx]\n",
    "y_train = opLabel[trainIndx]\n",
    "x_val = reduced_data[valIndx]\n",
    "y_val = opLabel[valIndx]\n",
    "x_test = reduced_data[testIndx]\n",
    "y_test = opLabel[testIndx]\n"
   ]
  },
  {
   "cell_type": "code",
   "execution_count": 138,
   "metadata": {},
   "outputs": [
    {
     "name": "stdout",
     "output_type": "stream",
     "text": [
      "5337\n"
     ]
    }
   ],
   "source": [
    "print(len(label0_indx_test))"
   ]
  },
  {
   "cell_type": "code",
   "execution_count": 139,
   "metadata": {},
   "outputs": [],
   "source": [
    "x_train = x_train.reshape(x_train.shape[0], -1)\n",
    "x_val = x_val.reshape(x_val.shape[0], -1)\n",
    "x_test = x_test.reshape(x_test.shape[0], -1)\n",
    "\n",
    "# Then proceed with scaling\n",
    "scaler = preprocessing.StandardScaler().fit(x_train)\n",
    "x_train = scaler.transform(x_train)\n",
    "x_val = scaler.transform(x_val)\n",
    "x_test = scaler.transform(x_test)\n",
    "\n",
    "# Create deep copies\n",
    "x_train_org = copy.deepcopy(x_train)\n",
    "x_val_org = copy.deepcopy(x_val)\n",
    "x_test_org = copy.deepcopy(x_test)\n",
    "y_train_org = copy.deepcopy(y_train)\n",
    "y_val_org = copy.deepcopy(y_val)\n",
    "y_test_org = copy.deepcopy(y_test)\n"
   ]
  },
  {
   "cell_type": "markdown",
   "metadata": {},
   "source": [
    "## t-SNE visualization"
   ]
  },
  {
   "cell_type": "code",
   "execution_count": 140,
   "metadata": {},
   "outputs": [],
   "source": [
    "# t-SNE visualization\n",
    "import imblearn\n",
    "from collections import Counter\n",
    "from sklearn.manifold import TSNE\n",
    "import seaborn as sns"
   ]
  },
  {
   "cell_type": "code",
   "execution_count": 141,
   "metadata": {},
   "outputs": [
    {
     "name": "stdout",
     "output_type": "stream",
     "text": [
      "[t-SNE] Computing 91 nearest neighbors...\n",
      "[t-SNE] Indexed 25954 samples in 0.000s...\n"
     ]
    },
    {
     "name": "stdout",
     "output_type": "stream",
     "text": [
      "[t-SNE] Computed neighbors for 25954 samples in 0.937s...\n",
      "[t-SNE] Computed conditional probabilities for sample 1000 / 25954\n",
      "[t-SNE] Computed conditional probabilities for sample 2000 / 25954\n",
      "[t-SNE] Computed conditional probabilities for sample 3000 / 25954\n",
      "[t-SNE] Computed conditional probabilities for sample 4000 / 25954\n",
      "[t-SNE] Computed conditional probabilities for sample 5000 / 25954\n",
      "[t-SNE] Computed conditional probabilities for sample 6000 / 25954\n",
      "[t-SNE] Computed conditional probabilities for sample 7000 / 25954\n",
      "[t-SNE] Computed conditional probabilities for sample 8000 / 25954\n",
      "[t-SNE] Computed conditional probabilities for sample 9000 / 25954\n",
      "[t-SNE] Computed conditional probabilities for sample 10000 / 25954\n",
      "[t-SNE] Computed conditional probabilities for sample 11000 / 25954\n",
      "[t-SNE] Computed conditional probabilities for sample 12000 / 25954\n",
      "[t-SNE] Computed conditional probabilities for sample 13000 / 25954\n",
      "[t-SNE] Computed conditional probabilities for sample 14000 / 25954\n",
      "[t-SNE] Computed conditional probabilities for sample 15000 / 25954\n",
      "[t-SNE] Computed conditional probabilities for sample 16000 / 25954\n",
      "[t-SNE] Computed conditional probabilities for sample 17000 / 25954\n",
      "[t-SNE] Computed conditional probabilities for sample 18000 / 25954\n",
      "[t-SNE] Computed conditional probabilities for sample 19000 / 25954\n",
      "[t-SNE] Computed conditional probabilities for sample 20000 / 25954\n",
      "[t-SNE] Computed conditional probabilities for sample 21000 / 25954\n",
      "[t-SNE] Computed conditional probabilities for sample 22000 / 25954\n",
      "[t-SNE] Computed conditional probabilities for sample 23000 / 25954\n",
      "[t-SNE] Computed conditional probabilities for sample 24000 / 25954\n",
      "[t-SNE] Computed conditional probabilities for sample 25000 / 25954\n",
      "[t-SNE] Computed conditional probabilities for sample 25954 / 25954\n",
      "[t-SNE] Mean sigma: 1.488350\n",
      "[t-SNE] KL divergence after 250 iterations with early exaggeration: 88.978325\n",
      "[t-SNE] KL divergence after 300 iterations: 3.387448\n"
     ]
    }
   ],
   "source": [
    "X_embedded = TSNE(n_components=3, n_iter = 300, verbose=1).fit_transform(x_train)\n"
   ]
  },
  {
   "cell_type": "code",
   "execution_count": 142,
   "metadata": {},
   "outputs": [
    {
     "name": "stderr",
     "output_type": "stream",
     "text": [
      "/var/folders/gp/y2m6w9cs0l903346k_cz_31w0000gn/T/ipykernel_844/505496209.py:10: UserWarning: *c* argument looks like a single numeric RGB or RGBA sequence, which should be avoided as value-mapping will have precedence in case its length matches with *x* & *y*.  Please use the *color* keyword-argument or provide a 2D array with a single row if you intend to specify the same RGB or RGBA value for all points.\n",
      "  ax.scatter(0,0,0,c=cin,edgecolors='k',label='CHD')\n"
     ]
    },
    {
     "data": {
      "image/png": "[encoded data removed]",
      "text/plain": [
       "<Figure size 750x750 with 1 Axes>"
      ]
     },
     "metadata": {},
     "output_type": "display_data"
    }
   ],
   "source": [
    "from mpl_toolkits.mplot3d import Axes3D\n",
    "\n",
    "cin = sns.color_palette(\"Set1\")[1]\n",
    "edge_color = []\n",
    "fig = plt.figure()\n",
    "ax = fig.add_subplot(111, projection='3d')\n",
    "ax.set_facecolor('w')\n",
    "ax.scatter(X_embedded[:,0],X_embedded[:,1],X_embedded[:,2],c=[sns.color_palette(\"Set1\")[x] for x in y_train],\\\n",
    "           edgecolors='k',label='no-CHD')\n",
    "ax.scatter(0,0,0,c=cin,edgecolors='k',label='CHD')\n",
    "ax.azim = 20\n",
    "ax.elev = 20\n",
    "ax.set_xlabel(\"t-SNE Dim 1\", size=\"x-large\")\n",
    "ax.set_ylabel(\"t-SNE Dim 2\", size=\"x-large\")\n",
    "ax.set_zlabel(\"t-SNE Dim 3\", size=\"x-large\")\n",
    "plt.title(\"Random subsampling 3:1\",size=\"xx-large\")\n",
    "ax.legend(loc='upper left')\n",
    "fig.set_size_inches(7.5,7.5)\n",
    "fig.savefig('tSNE_RUS.png', dpi=100)"
   ]
  },
  {
   "cell_type": "code",
   "execution_count": 143,
   "metadata": {},
   "outputs": [],
   "source": [
    "x_train = x_train.reshape(x_train.shape[0],x_train.shape[1],1)\n",
    "x_test = x_test.reshape(x_test.shape[0],x_test.shape[1],1)"
   ]
  },
  {
   "cell_type": "code",
   "execution_count": 144,
   "metadata": {},
   "outputs": [],
   "source": [
    "#%% one-hot-encoding\n",
    "y_train = keras.utils.to_categorical(y_train,2)\n",
    "y_test  = keras.utils.to_categorical(y_test,2)"
   ]
  },
  {
   "cell_type": "code",
   "execution_count": 145,
   "metadata": {},
   "outputs": [
    {
     "data": {
      "text/plain": [
       "array([0, 0, 0, ..., 1, 1, 1])"
      ]
     },
     "execution_count": 145,
     "metadata": {},
     "output_type": "execute_result"
    }
   ],
   "source": [
    "#y_train.shape\n",
    "#y_train\n",
    "y_train_org"
   ]
  },
  {
   "cell_type": "markdown",
   "metadata": {},
   "source": [
    "# Running the part above is MANDATORY for training any Network below"
   ]
  },
  {
   "cell_type": "markdown",
   "metadata": {},
   "source": [
    "# Introducing convolutional layers"
   ]
  },
  {
   "cell_type": "markdown",
   "metadata": {},
   "source": [
    "## MLP+Conv :: Input => Hidden(128)  => Conv(4) => Output (2)"
   ]
  },
  {
   "cell_type": "code",
   "execution_count": 146,
   "metadata": {},
   "outputs": [
    {
     "name": "stderr",
     "output_type": "stream",
     "text": [
      "WARNING:absl:At this time, the v2.11+ optimizer `tf.keras.optimizers.Adam` runs slowly on M1/M2 Macs, please use the legacy Keras optimizer instead, located at `tf.keras.optimizers.legacy.Adam`.\n",
      "WARNING:absl:There is a known slowdown when using v2.11+ Keras optimizers on M1/M2 Macs. Falling back to the legacy Keras optimizer, i.e., `tf.keras.optimizers.legacy.Adam`.\n"
     ]
    },
    {
     "name": "stdout",
     "output_type": "stream",
     "text": [
      "Model: \"model_12\"\n",
      "_________________________________________________________________\n",
      " Layer (type)                Output Shape              Param #   \n",
      "=================================================================\n",
      " input_13 (InputLayer)       [(None, 45, 1)]           0         \n",
      "                                                                 \n",
      " reshape_26 (Reshape)        (None, 45)                0         \n",
      "                                                                 \n",
      " dense_30 (Dense)            (None, 128)               5888      \n",
      "                                                                 \n",
      " batch_normalization_40 (Ba  (None, 128)               512       \n",
      " tchNormalization)                                               \n",
      "                                                                 \n",
      " activation_52 (Activation)  (None, 128)               0         \n",
      "                                                                 \n",
      " dropout_16 (Dropout)        (None, 128)               0         \n",
      "                                                                 \n",
      " reshape_27 (Reshape)        (None, 128, 1)            0         \n",
      "                                                                 \n",
      " conv1d_22 (Conv1D)          (None, 126, 4)            16        \n",
      "                                                                 \n",
      " batch_normalization_41 (Ba  (None, 126, 4)            16        \n",
      " tchNormalization)                                               \n",
      "                                                                 \n",
      " activation_53 (Activation)  (None, 126, 4)            0         \n",
      "                                                                 \n",
      " max_pooling1d_4 (MaxPoolin  (None, 63, 4)             0         \n",
      " g1D)                                                            \n",
      "                                                                 \n",
      " flatten_14 (Flatten)        (None, 252)               0         \n",
      "                                                                 \n",
      " dense_31 (Dense)            (None, 2)                 506       \n",
      "                                                                 \n",
      " activation_54 (Activation)  (None, 2)                 0         \n",
      "                                                                 \n",
      "=================================================================\n",
      "Total params: 6938 (27.10 KB)\n",
      "Trainable params: 6674 (26.07 KB)\n",
      "Non-trainable params: 264 (1.03 KB)\n",
      "_________________________________________________________________\n"
     ]
    }
   ],
   "source": [
    "\n",
    "inputs = keras.layers.Input(shape=(x_train.shape[1],1))\n",
    "RS0    = keras.layers.Reshape((x_train.shape[1], ))(inputs)\n",
    "FC0    = keras.layers.Dense(128, bias_initializer=keras.initializers.VarianceScaling())(RS0)\n",
    "BN0    = keras.layers.BatchNormalization(axis=-1)(FC0)\n",
    "AC0    = keras.layers.Activation('relu')(BN0)\n",
    "DP0    = keras.layers.Dropout(0.2)(AC0)\n",
    "\n",
    "RS1    = keras.layers.Reshape((128,1))(DP0)\n",
    "FC1    = keras.layers.Conv1D(4,3,strides=1)(RS1)\n",
    "BN1    = keras.layers.BatchNormalization(axis=-1)(FC1)\n",
    "AC1    = keras.layers.Activation('relu')(BN1)\n",
    "Pool1 = keras.layers.MaxPool1D(pool_size=2)(AC1)\n",
    "FL1   = keras.layers.Flatten()(Pool1)\n",
    "\n",
    "FC3 =   keras.layers.Dense(2, bias_initializer=keras.initializers.VarianceScaling())(FL1)\n",
    "outputs = keras.layers.Activation('softmax')(FC3)\n",
    "\n",
    "myCNN1D1 = keras.Model(inputs=inputs,outputs=outputs)\n",
    "myCNN1D1.compile(optimizer=keras.optimizers.Adam(),\n",
    "                 loss='categorical_crossentropy',\n",
    "                 metrics=['accuracy'])\n",
    "\n",
    "myCNN1D1.summary()\n"
   ]
  },
  {
   "cell_type": "code",
   "execution_count": 147,
   "metadata": {
    "scrolled": true
   },
   "outputs": [
    {
     "name": "stdout",
     "output_type": "stream",
     "text": [
      "812/812 [==============================] - 1s 1ms/step - loss: 0.3830 - accuracy: 0.9311\n"
     ]
    },
    {
     "data": {
      "text/plain": [
       "<keras.src.callbacks.History at 0x2ea272bd0>"
      ]
     },
     "execution_count": 147,
     "metadata": {},
     "output_type": "execute_result"
    }
   ],
   "source": [
    "class_weight = {0: 1, 1: 4}\n",
    "\n",
    "myCNN1D1.fit(x_train,y_train,epochs=1,verbose=1, class_weight=class_weight)"
   ]
  },
  {
   "cell_type": "code",
   "execution_count": 148,
   "metadata": {},
   "outputs": [
    {
     "name": "stdout",
     "output_type": "stream",
     "text": [
      "174/174 [==============================] - 0s 558us/step - loss: 0.1585 - accuracy: 0.9473\n",
      "0.9473400712013245\n"
     ]
    }
   ],
   "source": [
    "test_loss,test_acc = myCNN1D1.evaluate(x_test,y_test)\n",
    "print(test_acc)"
   ]
  },
  {
   "cell_type": "code",
   "execution_count": 149,
   "metadata": {},
   "outputs": [
    {
     "name": "stdout",
     "output_type": "stream",
     "text": [
      "174/174 [==============================] - 0s 479us/step\n",
      "[[5241   96]\n",
      " [ 197   30]]\n"
     ]
    }
   ],
   "source": [
    "from sklearn import metrics\n",
    "predlabel = myCNN1D1.predict(x_test)\n",
    "f = np.argmax(predlabel,axis=1)\n",
    "confMat = metrics.confusion_matrix(np.argmax(y_test,axis=1),f)\n",
    "print(confMat)"
   ]
  },
  {
   "cell_type": "markdown",
   "metadata": {},
   "source": [
    "##  MLP+CONV: Input => Hidden(128)  => Conv(4) => Conv(8) => Output (2)"
   ]
  },
  {
   "cell_type": "code",
   "execution_count": 150,
   "metadata": {},
   "outputs": [
    {
     "name": "stderr",
     "output_type": "stream",
     "text": [
      "WARNING:absl:At this time, the v2.11+ optimizer `tf.keras.optimizers.Adam` runs slowly on M1/M2 Macs, please use the legacy Keras optimizer instead, located at `tf.keras.optimizers.legacy.Adam`.\n",
      "WARNING:absl:There is a known slowdown when using v2.11+ Keras optimizers on M1/M2 Macs. Falling back to the legacy Keras optimizer, i.e., `tf.keras.optimizers.legacy.Adam`.\n"
     ]
    },
    {
     "name": "stdout",
     "output_type": "stream",
     "text": [
      "Model: \"model_13\"\n",
      "_________________________________________________________________\n",
      " Layer (type)                Output Shape              Param #   \n",
      "=================================================================\n",
      " input_14 (InputLayer)       [(None, 45, 1)]           0         \n",
      "                                                                 \n",
      " reshape_28 (Reshape)        (None, 45)                0         \n",
      "                                                                 \n",
      " dense_32 (Dense)            (None, 128)               5888      \n",
      "                                                                 \n",
      " batch_normalization_42 (Ba  (None, 128)               512       \n",
      " tchNormalization)                                               \n",
      "                                                                 \n",
      " activation_55 (Activation)  (None, 128)               0         \n",
      "                                                                 \n",
      " dropout_17 (Dropout)        (None, 128)               0         \n",
      "                                                                 \n",
      " reshape_29 (Reshape)        (None, 128, 1)            0         \n",
      "                                                                 \n",
      " conv1d_23 (Conv1D)          (None, 126, 4)            16        \n",
      "                                                                 \n",
      " batch_normalization_43 (Ba  (None, 126, 4)            16        \n",
      " tchNormalization)                                               \n",
      "                                                                 \n",
      " activation_56 (Activation)  (None, 126, 4)            0         \n",
      "                                                                 \n",
      " average_pooling1d_18 (Aver  (None, 63, 4)             0         \n",
      " agePooling1D)                                                   \n",
      "                                                                 \n",
      " conv1d_24 (Conv1D)          (None, 59, 8)             168       \n",
      "                                                                 \n",
      " batch_normalization_44 (Ba  (None, 59, 8)             32        \n",
      " tchNormalization)                                               \n",
      "                                                                 \n",
      " activation_57 (Activation)  (None, 59, 8)             0         \n",
      "                                                                 \n",
      " average_pooling1d_19 (Aver  (None, 29, 8)             0         \n",
      " agePooling1D)                                                   \n",
      "                                                                 \n",
      " flatten_15 (Flatten)        (None, 232)               0         \n",
      "                                                                 \n",
      " dense_33 (Dense)            (None, 2)                 466       \n",
      "                                                                 \n",
      " activation_58 (Activation)  (None, 2)                 0         \n",
      "                                                                 \n",
      "=================================================================\n",
      "Total params: 7098 (27.73 KB)\n",
      "Trainable params: 6818 (26.63 KB)\n",
      "Non-trainable params: 280 (1.09 KB)\n",
      "_________________________________________________________________\n"
     ]
    }
   ],
   "source": [
    "inputs = keras.layers.Input(shape=(x_train.shape[1],1))\n",
    "RS0    = keras.layers.Reshape((x_train.shape[1], ))(inputs)\n",
    "FC0    = keras.layers.Dense(128, bias_initializer=keras.initializers.VarianceScaling())(RS0)\n",
    "BN0    = keras.layers.BatchNormalization(axis=-1)(FC0)\n",
    "AC0    = keras.layers.Activation('relu')(BN0)\n",
    "DP0    = keras.layers.Dropout(0.2)(AC0)\n",
    "\n",
    "RS1    = keras.layers.Reshape((128,1))(DP0)\n",
    "FC1    = keras.layers.Conv1D(4,3,strides=1)(RS1)\n",
    "BN1    = keras.layers.BatchNormalization(axis=-1)(FC1)\n",
    "AC1    = keras.layers.Activation('relu')(BN1)\n",
    "Pool1 = keras.layers.AveragePooling1D(pool_size=2)(AC1)\n",
    "\n",
    "FC2    = keras.layers.Conv1D(8,5,strides=1)(Pool1)\n",
    "BN2    = keras.layers.BatchNormalization(axis=-1)(FC2)\n",
    "AC2    = keras.layers.Activation('relu')(BN2)\n",
    "Pool2 = keras.layers.AveragePooling1D(pool_size=2)(AC2)\n",
    "\n",
    "FL1   = keras.layers.Flatten()(Pool2)\n",
    "\n",
    "FC3 =   keras.layers.Dense(2, bias_initializer=keras.initializers.VarianceScaling())(FL1)\n",
    "outputs = keras.layers.Activation('softmax')(FC3)\n",
    "\n",
    "myCNN1D2 = keras.Model(inputs=inputs,outputs=outputs)\n",
    "myCNN1D2.compile(optimizer=keras.optimizers.Adam(),\n",
    "                 loss='categorical_crossentropy',\n",
    "                 metrics=['accuracy'])\n",
    "\n",
    "myCNN1D2.summary()"
   ]
  },
  {
   "cell_type": "code",
   "execution_count": 151,
   "metadata": {
    "scrolled": false
   },
   "outputs": [
    {
     "name": "stdout",
     "output_type": "stream",
     "text": [
      "812/812 [==============================] - 2s 2ms/step - loss: 0.4085 - accuracy: 0.9318\n"
     ]
    },
    {
     "data": {
      "text/plain": [
       "<keras.src.callbacks.History at 0x29064a310>"
      ]
     },
     "execution_count": 151,
     "metadata": {},
     "output_type": "execute_result"
    }
   ],
   "source": [
    "class_weight = {0: 1, 1: 4.5}\n",
    "\n",
    "myCNN1D2.fit(x_train,y_train,epochs=1,verbose=1, class_weight=class_weight)"
   ]
  },
  {
   "cell_type": "code",
   "execution_count": 152,
   "metadata": {
    "scrolled": true
   },
   "outputs": [
    {
     "name": "stdout",
     "output_type": "stream",
     "text": [
      "174/174 [==============================] - 0s 691us/step - loss: 0.1949 - accuracy: 0.9346\n",
      "0.9345794320106506\n"
     ]
    }
   ],
   "source": [
    "test_loss,test_acc = myCNN1D2.evaluate(x_test,y_test)\n",
    "print(test_acc)"
   ]
  },
  {
   "cell_type": "code",
   "execution_count": 153,
   "metadata": {},
   "outputs": [
    {
     "name": "stdout",
     "output_type": "stream",
     "text": [
      "174/174 [==============================] - 0s 626us/step\n",
      "[[5134  203]\n",
      " [ 161   66]]\n"
     ]
    }
   ],
   "source": [
    "from sklearn import metrics\n",
    "predlabel = myCNN1D2.predict(x_test)\n",
    "f = np.argmax(predlabel,axis=1)\n",
    "confMat = metrics.confusion_matrix(np.argmax(y_test,axis=1),f)\n",
    "print(confMat)"
   ]
  },
  {
   "cell_type": "markdown",
   "metadata": {},
   "source": [
    "## MLP+Conv :: Input => Hidden(64) => Conv(2) => Hidden(512)  "
   ]
  },
  {
   "cell_type": "code",
   "execution_count": 154,
   "metadata": {
    "scrolled": true
   },
   "outputs": [
    {
     "name": "stderr",
     "output_type": "stream",
     "text": [
      "WARNING:absl:At this time, the v2.11+ optimizer `tf.keras.optimizers.Adam` runs slowly on M1/M2 Macs, please use the legacy Keras optimizer instead, located at `tf.keras.optimizers.legacy.Adam`.\n",
      "WARNING:absl:There is a known slowdown when using v2.11+ Keras optimizers on M1/M2 Macs. Falling back to the legacy Keras optimizer, i.e., `tf.keras.optimizers.legacy.Adam`.\n"
     ]
    },
    {
     "name": "stdout",
     "output_type": "stream",
     "text": [
      "Model: \"model_14\"\n",
      "_________________________________________________________________\n",
      " Layer (type)                Output Shape              Param #   \n",
      "=================================================================\n",
      " input_15 (InputLayer)       [(None, 45, 1)]           0         \n",
      "                                                                 \n",
      " reshape_30 (Reshape)        (None, 45)                0         \n",
      "                                                                 \n",
      " dense_34 (Dense)            (None, 32)                1472      \n",
      "                                                                 \n",
      " batch_normalization_45 (Ba  (None, 32)                128       \n",
      " tchNormalization)                                               \n",
      "                                                                 \n",
      " activation_59 (Activation)  (None, 32)                0         \n",
      "                                                                 \n",
      " dropout_18 (Dropout)        (None, 32)                0         \n",
      "                                                                 \n",
      " reshape_31 (Reshape)        (None, 32, 1)             0         \n",
      "                                                                 \n",
      " conv1d_25 (Conv1D)          (None, 30, 2)             8         \n",
      "                                                                 \n",
      " batch_normalization_46 (Ba  (None, 30, 2)             8         \n",
      " tchNormalization)                                               \n",
      "                                                                 \n",
      " activation_60 (Activation)  (None, 30, 2)             0         \n",
      "                                                                 \n",
      " max_pooling1d_5 (MaxPoolin  (None, 15, 2)             0         \n",
      " g1D)                                                            \n",
      "                                                                 \n",
      " flatten_16 (Flatten)        (None, 30)                0         \n",
      "                                                                 \n",
      " dense_35 (Dense)            (None, 512)               15872     \n",
      "                                                                 \n",
      " batch_normalization_47 (Ba  (None, 512)               2048      \n",
      " tchNormalization)                                               \n",
      "                                                                 \n",
      " activation_61 (Activation)  (None, 512)               0         \n",
      "                                                                 \n",
      " dense_36 (Dense)            (None, 2)                 1026      \n",
      "                                                                 \n",
      " activation_62 (Activation)  (None, 2)                 0         \n",
      "                                                                 \n",
      "=================================================================\n",
      "Total params: 20562 (80.32 KB)\n",
      "Trainable params: 19470 (76.05 KB)\n",
      "Non-trainable params: 1092 (4.27 KB)\n",
      "_________________________________________________________________\n"
     ]
    }
   ],
   "source": [
    "\n",
    "inputs = keras.layers.Input(shape=(x_train.shape[1],1))\n",
    "RS0    = keras.layers.Reshape((x_train.shape[1], ))(inputs)\n",
    "FC0    = keras.layers.Dense(32, bias_initializer=keras.initializers.VarianceScaling())(RS0)\n",
    "BN0    = keras.layers.BatchNormalization(axis=-1)(FC0)\n",
    "AC0    = keras.layers.Activation('relu')(BN0)\n",
    "DP0    = keras.layers.Dropout(0.2)(AC0)\n",
    "\n",
    "RS1    = keras.layers.Reshape((32,1))(DP0)\n",
    "FC1    = keras.layers.Conv1D(2,3,strides=1)(RS1)\n",
    "BN1    = keras.layers.BatchNormalization(axis=-1)(FC1)\n",
    "AC1    = keras.layers.Activation('relu')(BN1)\n",
    "Pool1 = keras.layers.MaxPool1D(pool_size=2)(AC1)\n",
    "FL1   = keras.layers.Flatten()(Pool1)\n",
    "\n",
    "FC2    = keras.layers.Dense(512, bias_initializer=keras.initializers.VarianceScaling())(FL1)\n",
    "BN2    = keras.layers.BatchNormalization(axis=-1)(FC2)\n",
    "AC2    = keras.layers.Activation('relu')(BN2)\n",
    "#DP2    = keras.layers.Dropout(0.2)(AC2)\n",
    "\n",
    "\n",
    "FC3 =   keras.layers.Dense(2, bias_initializer=keras.initializers.VarianceScaling())(AC2)\n",
    "outputs = keras.layers.Activation('softmax')(FC3)\n",
    "\n",
    "myCNN1D3 = keras.Model(inputs=inputs,outputs=outputs)\n",
    "myCNN1D3.compile(optimizer=keras.optimizers.Adam(),\n",
    "                 loss='categorical_crossentropy',\n",
    "                 metrics=['accuracy'])\n",
    "myCNN1D3.summary()"
   ]
  },
  {
   "cell_type": "code",
   "execution_count": 155,
   "metadata": {
    "scrolled": true
   },
   "outputs": [
    {
     "name": "stdout",
     "output_type": "stream",
     "text": [
      "Epoch 1/5\n",
      "812/812 [==============================] - 2s 1ms/step - loss: 1.7676 - accuracy: 0.5002\n",
      "Epoch 2/5\n",
      "812/812 [==============================] - 1s 1ms/step - loss: 1.4697 - accuracy: 0.5811\n",
      "Epoch 3/5\n",
      "812/812 [==============================] - 1s 1ms/step - loss: 1.3376 - accuracy: 0.6190\n",
      "Epoch 4/5\n",
      "812/812 [==============================] - 1s 1ms/step - loss: 1.3413 - accuracy: 0.6148\n",
      "Epoch 5/5\n",
      "812/812 [==============================] - 1s 1ms/step - loss: 1.2831 - accuracy: 0.6325\n"
     ]
    },
    {
     "data": {
      "text/plain": [
       "<keras.src.callbacks.History at 0x2db214950>"
      ]
     },
     "execution_count": 155,
     "metadata": {},
     "output_type": "execute_result"
    }
   ],
   "source": [
    "class_weight = {0: 1, 1: 50}\n",
    "\n",
    "myCNN1D3.fit(x_train,y_train,epochs=5,verbose=1, class_weight=class_weight)"
   ]
  },
  {
   "cell_type": "code",
   "execution_count": 156,
   "metadata": {
    "scrolled": true
   },
   "outputs": [
    {
     "name": "stdout",
     "output_type": "stream",
     "text": [
      "174/174 [==============================] - 0s 475us/step - loss: 0.6493 - accuracy: 0.6517\n",
      "0.6516894102096558\n"
     ]
    }
   ],
   "source": [
    "test_loss,test_acc = myCNN1D3.evaluate(x_test,y_test)\n",
    "print(test_acc)"
   ]
  },
  {
   "cell_type": "code",
   "execution_count": 157,
   "metadata": {
    "scrolled": true
   },
   "outputs": [
    {
     "name": "stdout",
     "output_type": "stream",
     "text": [
      "174/174 [==============================] - 0s 416us/step\n",
      "[[3423 1914]\n",
      " [  24  203]]\n"
     ]
    }
   ],
   "source": [
    "from sklearn import metrics\n",
    "predlabel = myCNN1D3.predict(x_test)\n",
    "f = np.argmax(predlabel,axis=1)\n",
    "confMat = metrics.confusion_matrix(np.argmax(y_test,axis=1),f)\n",
    "print(confMat)"
   ]
  },
  {
   "cell_type": "markdown",
   "metadata": {},
   "source": [
    "## MLP+ CONV: Input => Dense(64) => Conv(2) => Conv(4) = Dense(512) => Dense (2) [Best model]"
   ]
  },
  {
   "cell_type": "code",
   "execution_count": 158,
   "metadata": {},
   "outputs": [
    {
     "name": "stderr",
     "output_type": "stream",
     "text": [
      "WARNING:absl:At this time, the v2.11+ optimizer `tf.keras.optimizers.Adam` runs slowly on M1/M2 Macs, please use the legacy Keras optimizer instead, located at `tf.keras.optimizers.legacy.Adam`.\n",
      "WARNING:absl:There is a known slowdown when using v2.11+ Keras optimizers on M1/M2 Macs. Falling back to the legacy Keras optimizer, i.e., `tf.keras.optimizers.legacy.Adam`.\n"
     ]
    }
   ],
   "source": [
    "inputs = keras.layers.Input(shape=(x_train.shape[1],1))\n",
    "RS0    = keras.layers.Reshape((x_train.shape[1], ))(inputs)\n",
    "FC0    = keras.layers.Dense(64, bias_initializer=keras.initializers.VarianceScaling())(RS0)\n",
    "BN0    = keras.layers.BatchNormalization(axis=-1)(FC0)\n",
    "AC0    = keras.layers.Activation('relu')(BN0)\n",
    "DP0    = keras.layers.Dropout(0.2)(AC0)\n",
    "\n",
    "RS1    = keras.layers.Reshape((64,1))(DP0)\n",
    "FC1    = keras.layers.Conv1D(2,3,strides=1)(RS1)\n",
    "BN1    = keras.layers.BatchNormalization(axis=-1)(FC1)\n",
    "AC1    = keras.layers.Activation('relu')(BN1)\n",
    "Pool1  = keras.layers.AveragePooling1D(pool_size=2)(AC1)\n",
    "\n",
    "FC2    = keras.layers.Conv1D(4,5,strides=1)(Pool1)\n",
    "BN2    = keras.layers.BatchNormalization(axis=-1)(FC2)\n",
    "AC2    = keras.layers.Activation('relu')(BN2)\n",
    "Pool2  = keras.layers.AveragePooling1D(pool_size=2)(AC2)\n",
    "\n",
    "FL1    = keras.layers.Flatten()(Pool2)\n",
    "\n",
    "FC3    = keras.layers.Dense(512, bias_initializer=keras.initializers.VarianceScaling())(FL1)\n",
    "BN3    = keras.layers.BatchNormalization(axis=-1)(FC3)\n",
    "AC3    = keras.layers.Activation('relu')(BN3)\n",
    "DP3    = keras.layers.Dropout(0.2)(AC3)\n",
    "\n",
    "\n",
    "FC4    = keras.layers.Dense(2)(DP3)\n",
    "outputs = keras.layers.Activation('softmax')(FC4)\n",
    "\n",
    "myCNN1D4 = keras.Model(inputs=inputs,outputs=outputs)\n",
    "myCNN1D4.compile(optimizer=keras.optimizers.Adam(),\n",
    "                 loss='categorical_crossentropy',\n",
    "                 metrics=['accuracy'])\n",
    "\n",
    "#myCNN1D4.summary()"
   ]
  },
  {
   "cell_type": "code",
   "execution_count": 159,
   "metadata": {
    "scrolled": true
   },
   "outputs": [
    {
     "name": "stdout",
     "output_type": "stream",
     "text": [
      "812/812 [==============================] - 2s 2ms/step - loss: 0.3696 - accuracy: 0.9373\n"
     ]
    },
    {
     "data": {
      "text/plain": [
       "<keras.src.callbacks.History at 0x2cc29c950>"
      ]
     },
     "execution_count": 159,
     "metadata": {},
     "output_type": "execute_result"
    }
   ],
   "source": [
    "class_weight = {0: 1, 1: 2.9}\n",
    "\n",
    "myCNN1D4.fit(x_train,y_train,epochs=1,verbose=1, class_weight=class_weight)"
   ]
  },
  {
   "cell_type": "code",
   "execution_count": 160,
   "metadata": {
    "scrolled": true
   },
   "outputs": [
    {
     "name": "stdout",
     "output_type": "stream",
     "text": [
      "174/174 [==============================] - 0s 622us/step - loss: 0.1760 - accuracy: 0.9439\n",
      "0.9439252614974976\n"
     ]
    }
   ],
   "source": [
    "test_loss,test_acc = myCNN1D4.evaluate(x_test,y_test)\n",
    "print(test_acc)"
   ]
  },
  {
   "cell_type": "code",
   "execution_count": 161,
   "metadata": {
    "scrolled": true
   },
   "outputs": [
    {
     "name": "stdout",
     "output_type": "stream",
     "text": [
      "174/174 [==============================] - 0s 575us/step\n",
      "[[5208  129]\n",
      " [ 183   44]]\n"
     ]
    }
   ],
   "source": [
    "from sklearn import metrics\n",
    "predlabel = myCNN1D4.predict(x_test)\n",
    "f = np.argmax(predlabel,axis=1)\n",
    "confMat = metrics.confusion_matrix(np.argmax(y_test,axis=1),f)\n",
    "print(confMat)"
   ]
  },
  {
   "cell_type": "code",
   "execution_count": 162,
   "metadata": {},
   "outputs": [
    {
     "data": {
      "text/plain": [
       "0.024390243902439025"
      ]
     },
     "execution_count": 162,
     "metadata": {},
     "output_type": "execute_result"
    }
   ],
   "source": [
    "y_train @ np.transpose(np.array([0, 1]))\n",
    "1/41"
   ]
  },
  {
   "cell_type": "markdown",
   "metadata": {},
   "source": [
    "## Input => Dense(64) => Conv(2) => Conv(4) = Conv(8) => Dense (2)"
   ]
  },
  {
   "cell_type": "code",
   "execution_count": 163,
   "metadata": {},
   "outputs": [
    {
     "name": "stderr",
     "output_type": "stream",
     "text": [
      "WARNING:absl:At this time, the v2.11+ optimizer `tf.keras.optimizers.Adam` runs slowly on M1/M2 Macs, please use the legacy Keras optimizer instead, located at `tf.keras.optimizers.legacy.Adam`.\n",
      "WARNING:absl:There is a known slowdown when using v2.11+ Keras optimizers on M1/M2 Macs. Falling back to the legacy Keras optimizer, i.e., `tf.keras.optimizers.legacy.Adam`.\n"
     ]
    },
    {
     "name": "stdout",
     "output_type": "stream",
     "text": [
      "Model: \"model_16\"\n",
      "_________________________________________________________________\n",
      " Layer (type)                Output Shape              Param #   \n",
      "=================================================================\n",
      " input_17 (InputLayer)       [(None, 45, 1)]           0         \n",
      "                                                                 \n",
      " reshape_34 (Reshape)        (None, 45)                0         \n",
      "                                                                 \n",
      " dense_40 (Dense)            (None, 64)                2944      \n",
      "                                                                 \n",
      " batch_normalization_52 (Ba  (None, 64)                256       \n",
      " tchNormalization)                                               \n",
      "                                                                 \n",
      " activation_68 (Activation)  (None, 64)                0         \n",
      "                                                                 \n",
      " dropout_21 (Dropout)        (None, 64)                0         \n",
      "                                                                 \n",
      " reshape_35 (Reshape)        (None, 64, 1)             0         \n",
      "                                                                 \n",
      " conv1d_28 (Conv1D)          (None, 62, 2)             8         \n",
      "                                                                 \n",
      " batch_normalization_53 (Ba  (None, 62, 2)             8         \n",
      " tchNormalization)                                               \n",
      "                                                                 \n",
      " activation_69 (Activation)  (None, 62, 2)             0         \n",
      "                                                                 \n",
      " average_pooling1d_22 (Aver  (None, 31, 2)             0         \n",
      " agePooling1D)                                                   \n",
      "                                                                 \n",
      " conv1d_29 (Conv1D)          (None, 27, 4)             44        \n",
      "                                                                 \n",
      " batch_normalization_54 (Ba  (None, 27, 4)             16        \n",
      " tchNormalization)                                               \n",
      "                                                                 \n",
      " activation_70 (Activation)  (None, 27, 4)             0         \n",
      "                                                                 \n",
      " average_pooling1d_23 (Aver  (None, 13, 4)             0         \n",
      " agePooling1D)                                                   \n",
      "                                                                 \n",
      " conv1d_30 (Conv1D)          (None, 7, 6)              174       \n",
      "                                                                 \n",
      " batch_normalization_55 (Ba  (None, 7, 6)              24        \n",
      " tchNormalization)                                               \n",
      "                                                                 \n",
      " activation_71 (Activation)  (None, 7, 6)              0         \n",
      "                                                                 \n",
      " average_pooling1d_24 (Aver  (None, 3, 6)              0         \n",
      " agePooling1D)                                                   \n",
      "                                                                 \n",
      " flatten_18 (Flatten)        (None, 18)                0         \n",
      "                                                                 \n",
      " dense_41 (Dense)            (None, 2)                 38        \n",
      "                                                                 \n",
      " activation_72 (Activation)  (None, 2)                 0         \n",
      "                                                                 \n",
      "=================================================================\n",
      "Total params: 3512 (13.72 KB)\n",
      "Trainable params: 3360 (13.12 KB)\n",
      "Non-trainable params: 152 (608.00 Byte)\n",
      "_________________________________________________________________\n"
     ]
    }
   ],
   "source": [
    "inputs = keras.layers.Input(shape=(x_train.shape[1],1))\n",
    "RS0    = keras.layers.Reshape((x_train.shape[1], ))(inputs)\n",
    "FC0    = keras.layers.Dense(64, bias_initializer=keras.initializers.VarianceScaling())(RS0)\n",
    "BN0    = keras.layers.BatchNormalization(axis=-1)(FC0)\n",
    "AC0    = keras.layers.Activation('relu')(BN0)\n",
    "DP0    = keras.layers.Dropout(0.2)(AC0)\n",
    "\n",
    "RS1    = keras.layers.Reshape((64,1))(DP0)\n",
    "FC1    = keras.layers.Conv1D(2,3,strides=1)(RS1)\n",
    "BN1    = keras.layers.BatchNormalization(axis=-1)(FC1)\n",
    "AC1    = keras.layers.Activation('relu')(BN1)\n",
    "Pool1  = keras.layers.AveragePooling1D(pool_size=2)(AC1)\n",
    "\n",
    "FC2    = keras.layers.Conv1D(4,5,strides=1)(Pool1)\n",
    "BN2    = keras.layers.BatchNormalization(axis=-1)(FC2)\n",
    "AC2    = keras.layers.Activation('relu')(BN2)\n",
    "Pool2  = keras.layers.AveragePooling1D(pool_size=2)(AC2)\n",
    "\n",
    "\n",
    "FC3    = keras.layers.Conv1D(6,7,strides=1)(Pool2)\n",
    "BN3    = keras.layers.BatchNormalization(axis=-1)(FC3)\n",
    "AC3    = keras.layers.Activation('relu')(BN3)\n",
    "Pool3  = keras.layers.AveragePooling1D(pool_size=2)(AC3)\n",
    "\n",
    "\n",
    "\n",
    "\n",
    "FL1    = keras.layers.Flatten()(Pool3)\n",
    "\n",
    "#FC3    = keras.layers.Dense(512, bias_initializer=keras.initializers.VarianceScaling())(FL1)\n",
    "#BN3    = keras.layers.BatchNormalization(axis=-1)(FC3)\n",
    "#AC3    = keras.layers.Activation('relu')(BN3)\n",
    "#DP3    = keras.layers.Dropout(0.2)(AC3)\n",
    "\n",
    "\n",
    "FC4    = keras.layers.Dense(2)(FL1)\n",
    "outputs = keras.layers.Activation('softmax')(FC4)\n",
    "\n",
    "myCNN5D4 = keras.Model(inputs=inputs,outputs=outputs)\n",
    "myCNN5D4.compile(optimizer=keras.optimizers.Adam(),\n",
    "                 loss='categorical_crossentropy',\n",
    "                 metrics=['accuracy'])\n",
    "\n",
    "myCNN5D4.summary()\n"
   ]
  },
  {
   "cell_type": "code",
   "execution_count": 164,
   "metadata": {},
   "outputs": [
    {
     "name": "stdout",
     "output_type": "stream",
     "text": [
      "812/812 [==============================] - 2s 2ms/step - loss: 0.3267 - accuracy: 0.9502\n"
     ]
    },
    {
     "data": {
      "text/plain": [
       "<keras.src.callbacks.History at 0x28ecdc350>"
      ]
     },
     "execution_count": 164,
     "metadata": {},
     "output_type": "execute_result"
    }
   ],
   "source": [
    "class_weight = {0: 1, 1: 3.0}\n",
    "\n",
    "myCNN5D4.fit(x_train,y_train,epochs=1,verbose=1, class_weight=class_weight)"
   ]
  },
  {
   "cell_type": "code",
   "execution_count": 165,
   "metadata": {},
   "outputs": [
    {
     "name": "stdout",
     "output_type": "stream",
     "text": [
      "174/174 [==============================] - 0s 689us/step - loss: 0.1712 - accuracy: 0.9506\n",
      "0.9505751132965088\n"
     ]
    }
   ],
   "source": [
    "test_loss,test_acc = myCNN5D4.evaluate(x_test,y_test)\n",
    "print(test_acc)"
   ]
  },
  {
   "cell_type": "code",
   "execution_count": 166,
   "metadata": {},
   "outputs": [
    {
     "name": "stdout",
     "output_type": "stream",
     "text": [
      "174/174 [==============================] - 0s 644us/step\n",
      "[[5260   77]\n",
      " [ 198   29]]\n"
     ]
    }
   ],
   "source": [
    "from sklearn import metrics\n",
    "predlabel = myCNN5D4.predict(x_test)\n",
    "f = np.argmax(predlabel,axis=1)\n",
    "confMat = metrics.confusion_matrix(np.argmax(y_test,axis=1),f)\n",
    "print(confMat)"
   ]
  },
  {
   "cell_type": "markdown",
   "metadata": {},
   "source": [
    "## Input => Dense(64) => Conv(2) => Dense (128) = Conv(4) => Dense (2)"
   ]
  },
  {
   "cell_type": "code",
   "execution_count": 167,
   "metadata": {},
   "outputs": [
    {
     "name": "stderr",
     "output_type": "stream",
     "text": [
      "WARNING:absl:At this time, the v2.11+ optimizer `tf.keras.optimizers.Adam` runs slowly on M1/M2 Macs, please use the legacy Keras optimizer instead, located at `tf.keras.optimizers.legacy.Adam`.\n",
      "WARNING:absl:There is a known slowdown when using v2.11+ Keras optimizers on M1/M2 Macs. Falling back to the legacy Keras optimizer, i.e., `tf.keras.optimizers.legacy.Adam`.\n"
     ]
    },
    {
     "name": "stdout",
     "output_type": "stream",
     "text": [
      "Model: \"model_17\"\n",
      "_________________________________________________________________\n",
      " Layer (type)                Output Shape              Param #   \n",
      "=================================================================\n",
      " input_18 (InputLayer)       [(None, 45, 1)]           0         \n",
      "                                                                 \n",
      " reshape_36 (Reshape)        (None, 45)                0         \n",
      "                                                                 \n",
      " dense_42 (Dense)            (None, 64)                2944      \n",
      "                                                                 \n",
      " batch_normalization_56 (Ba  (None, 64)                256       \n",
      " tchNormalization)                                               \n",
      "                                                                 \n",
      " activation_73 (Activation)  (None, 64)                0         \n",
      "                                                                 \n",
      " dropout_22 (Dropout)        (None, 64)                0         \n",
      "                                                                 \n",
      " reshape_37 (Reshape)        (None, 64, 1)             0         \n",
      "                                                                 \n",
      " conv1d_31 (Conv1D)          (None, 62, 2)             8         \n",
      "                                                                 \n",
      " batch_normalization_57 (Ba  (None, 62, 2)             8         \n",
      " tchNormalization)                                               \n",
      "                                                                 \n",
      " activation_74 (Activation)  (None, 62, 2)             0         \n",
      "                                                                 \n",
      " average_pooling1d_25 (Aver  (None, 31, 2)             0         \n",
      " agePooling1D)                                                   \n",
      "                                                                 \n",
      " flatten_19 (Flatten)        (None, 62)                0         \n",
      "                                                                 \n",
      " dense_43 (Dense)            (None, 128)               8064      \n",
      "                                                                 \n",
      " batch_normalization_58 (Ba  (None, 128)               512       \n",
      " tchNormalization)                                               \n",
      "                                                                 \n",
      " activation_75 (Activation)  (None, 128)               0         \n",
      "                                                                 \n",
      " dropout_23 (Dropout)        (None, 128)               0         \n",
      "                                                                 \n",
      " reshape_38 (Reshape)        (None, 128, 1)            0         \n",
      "                                                                 \n",
      " conv1d_32 (Conv1D)          (None, 124, 4)            24        \n",
      "                                                                 \n",
      " batch_normalization_59 (Ba  (None, 124, 4)            16        \n",
      " tchNormalization)                                               \n",
      "                                                                 \n",
      " activation_76 (Activation)  (None, 124, 4)            0         \n",
      "                                                                 \n",
      " average_pooling1d_26 (Aver  (None, 62, 4)             0         \n",
      " agePooling1D)                                                   \n",
      "                                                                 \n",
      " flatten_20 (Flatten)        (None, 248)               0         \n",
      "                                                                 \n",
      " dense_44 (Dense)            (None, 2)                 498       \n",
      "                                                                 \n",
      " activation_77 (Activation)  (None, 2)                 0         \n",
      "                                                                 \n",
      "=================================================================\n",
      "Total params: 12330 (48.16 KB)\n",
      "Trainable params: 11934 (46.62 KB)\n",
      "Non-trainable params: 396 (1.55 KB)\n",
      "_________________________________________________________________\n"
     ]
    }
   ],
   "source": [
    "inputs = keras.layers.Input(shape=(x_train.shape[1],1))\n",
    "RS0    = keras.layers.Reshape((x_train.shape[1], ))(inputs)\n",
    "FC0    = keras.layers.Dense(64, bias_initializer=keras.initializers.VarianceScaling())(RS0)\n",
    "BN0    = keras.layers.BatchNormalization(axis=-1)(FC0)\n",
    "AC0    = keras.layers.Activation('relu')(BN0)\n",
    "DP0    = keras.layers.Dropout(0.2)(AC0)\n",
    "\n",
    "RS1    = keras.layers.Reshape((64,1))(DP0)\n",
    "FC1    = keras.layers.Conv1D(2,3,strides=1)(RS1)\n",
    "BN1    = keras.layers.BatchNormalization(axis=-1)(FC1)\n",
    "AC1    = keras.layers.Activation('relu')(BN1)\n",
    "Pool1  = keras.layers.AveragePooling1D(pool_size=2)(AC1)\n",
    "\n",
    "FL0 = keras.layers.Flatten()(Pool1)\n",
    "\n",
    "AA1 = keras.layers.Dense(128, bias_initializer=keras.initializers.VarianceScaling())(FL0)\n",
    "BB1 = keras.layers.BatchNormalization(axis=-1)(AA1)\n",
    "CC1 = keras.layers.Activation('relu')(BB1)\n",
    "Pool2 = keras.layers.Dropout(0.2)(CC1)\n",
    "\n",
    "\n",
    "RS2    = keras.layers.Reshape((128,1))(Pool2)\n",
    "FC2    = keras.layers.Conv1D(4,5,strides=1)(RS2)\n",
    "BN2    = keras.layers.BatchNormalization(axis=-1)(FC2)\n",
    "AC2    = keras.layers.Activation('relu')(BN2)\n",
    "Pool3  = keras.layers.AveragePooling1D(pool_size=2)(AC2)\n",
    "\n",
    "\n",
    "\n",
    "FL1    = keras.layers.Flatten()(Pool3)\n",
    "\n",
    "#FC3    = keras.layers.Dense(512, bias_initializer=keras.initializers.VarianceScaling())(FL1)\n",
    "#BN3    = keras.layers.BatchNormalization(axis=-1)(FC3)\n",
    "#AC3    = keras.layers.Activation('relu')(BN3)\n",
    "#DP3    = keras.layers.Dropout(0.2)(AC3)\n",
    "\n",
    "\n",
    "FC4    = keras.layers.Dense(2)(FL1)\n",
    "outputs = keras.layers.Activation('softmax')(FC4)\n",
    "\n",
    "myCNN5D4 = keras.Model(inputs=inputs,outputs=outputs)\n",
    "myCNN5D4.compile(optimizer=keras.optimizers.Adam(),\n",
    "                 loss='categorical_crossentropy',\n",
    "                 metrics=['accuracy'])\n",
    "\n",
    "myCNN5D4.summary()"
   ]
  },
  {
   "cell_type": "code",
   "execution_count": 168,
   "metadata": {
    "scrolled": true
   },
   "outputs": [
    {
     "name": "stdout",
     "output_type": "stream",
     "text": [
      "812/812 [==============================] - 2s 2ms/step - loss: 0.2884 - accuracy: 0.9463\n"
     ]
    },
    {
     "data": {
      "text/plain": [
       "<keras.src.callbacks.History at 0x2dade7b10>"
      ]
     },
     "execution_count": 168,
     "metadata": {},
     "output_type": "execute_result"
    }
   ],
   "source": [
    "class_weight = {0: 1, 1: 2.5}\n",
    "\n",
    "myCNN5D4.fit(x_train,y_train,epochs=1,verbose=1, class_weight=class_weight)"
   ]
  },
  {
   "cell_type": "code",
   "execution_count": 169,
   "metadata": {},
   "outputs": [
    {
     "name": "stdout",
     "output_type": "stream",
     "text": [
      "174/174 [==============================] - 0s 737us/step - loss: 0.1726 - accuracy: 0.9450\n",
      "0.9450035691261292\n"
     ]
    }
   ],
   "source": [
    "test_loss,test_acc = myCNN5D4.evaluate(x_test,y_test)\n",
    "print(test_acc)"
   ]
  },
  {
   "cell_type": "code",
   "execution_count": 170,
   "metadata": {},
   "outputs": [
    {
     "name": "stdout",
     "output_type": "stream",
     "text": [
      "174/174 [==============================] - 0s 666us/step\n",
      "[[5220  117]\n",
      " [ 189   38]]\n"
     ]
    }
   ],
   "source": [
    "from sklearn import metrics\n",
    "predlabel = myCNN5D4.predict(x_test)\n",
    "f = np.argmax(predlabel,axis=1)\n",
    "confMat = metrics.confusion_matrix(np.argmax(y_test,axis=1),f)\n",
    "print(confMat)"
   ]
  },
  {
   "cell_type": "markdown",
   "metadata": {},
   "source": [
    "# Running SVM on the subsampled data"
   ]
  },
  {
   "cell_type": "code",
   "execution_count": 171,
   "metadata": {},
   "outputs": [
    {
     "name": "stdout",
     "output_type": "stream",
     "text": [
      "Confusion Matrix:\n",
      "[[3942 1395]\n",
      " [  39  188]]\n",
      "Accuracy: 74.23%\n"
     ]
    }
   ],
   "source": [
    "from sklearn.svm import SVC\n",
    "from sklearn import metrics\n",
    "\n",
    "svcCAD = SVC(C=0.05, gamma=1/41, kernel='rbf', class_weight='balanced')\n",
    "svcCAD.fit(x_train_org, y_train_org)\n",
    "predlabel = svcCAD.predict(x_test_org)\n",
    "\n",
    "# Confusion matrix\n",
    "confMat = metrics.confusion_matrix(y_test_org, predlabel)\n",
    "print(\"Confusion Matrix:\")\n",
    "print(confMat)\n",
    "\n",
    "# Calculating accuracy\n",
    "accuracy = metrics.accuracy_score(y_test_org, predlabel)\n",
    "print(\"Accuracy: {:.2f}%\".format(accuracy * 100))\n",
    "\n"
   ]
  },
  {
   "cell_type": "markdown",
   "metadata": {},
   "source": [
    "# Running KNN on the subsampled data"
   ]
  },
  {
   "cell_type": "code",
   "execution_count": 172,
   "metadata": {},
   "outputs": [
    {
     "name": "stdout",
     "output_type": "stream",
     "text": [
      "Confusion Matrix:\n",
      "[[5328    9]\n",
      " [ 224    3]]\n",
      "Accuracy: 95.81%\n"
     ]
    }
   ],
   "source": [
    "# Running KNN on the subsampled data\n",
    "from sklearn.neighbors import KNeighborsClassifier\n",
    "from sklearn import metrics\n",
    "\n",
    "knn = KNeighborsClassifier(n_neighbors=2)  \n",
    "knn.fit(x_train_org, y_train_org)\n",
    "predlabel = knn.predict(x_test_org)\n",
    "\n",
    "# Confusion matrix\n",
    "confMat = metrics.confusion_matrix(y_test_org, predlabel)\n",
    "print(\"Confusion Matrix:\")\n",
    "print(confMat)\n",
    "\n",
    "# Calculating accuracy\n",
    "accuracy = metrics.accuracy_score(y_test_org, predlabel)\n",
    "print(\"Accuracy: {:.2f}%\".format(accuracy * 100))\n"
   ]
  },
  {
   "cell_type": "markdown",
   "metadata": {},
   "source": [
    "# Running Vote on the subsampled data"
   ]
  },
  {
   "cell_type": "code",
   "execution_count": 173,
   "metadata": {},
   "outputs": [
    {
     "name": "stdout",
     "output_type": "stream",
     "text": [
      "Confusion Matrix:\n",
      "[[5335    2]\n",
      " [ 224    3]]\n",
      "Accuracy: 95.94%\n"
     ]
    }
   ],
   "source": [
    "from sklearn.neighbors import KNeighborsClassifier\n",
    "from sklearn.svm import SVC\n",
    "from sklearn.ensemble import VotingClassifier\n",
    "from sklearn import metrics\n",
    "from sklearn.tree import DecisionTreeClassifier\n",
    "\n",
    "knn = KNeighborsClassifier(n_neighbors=5)\n",
    "svm = SVC(C=0.05, gamma=1/41, kernel='rbf', probability=True)  # probability must be True for soft voting\n",
    "dt = DecisionTreeClassifier()\n",
    "\n",
    "# Create a voting classifier\n",
    "voting_clf = VotingClassifier(estimators=[('knn', knn), ('svm', svm), ('dt', dt)], voting='hard') \n",
    "voting_clf.fit(x_train_org, y_train_org)\n",
    "predlabel = voting_clf.predict(x_test_org)\n",
    "\n",
    "# Confusion matrix\n",
    "confMat = metrics.confusion_matrix(y_test_org, predlabel)\n",
    "print(\"Confusion Matrix:\")\n",
    "print(confMat)\n",
    "\n",
    "# Calculating accuracy\n",
    "accuracy = metrics.accuracy_score(y_test_org, predlabel)\n",
    "print(\"Accuracy: {:.2f}%\".format(accuracy * 100))\n"
   ]
  },
  {
   "cell_type": "markdown",
   "metadata": {},
   "source": [
    "#Running KNN on Validation data\n"
   ]
  },
  {
   "cell_type": "code",
   "execution_count": 174,
   "metadata": {},
   "outputs": [
    {
     "name": "stdout",
     "output_type": "stream",
     "text": [
      "Confusion Matrix:\n",
      "[[2721   59]\n",
      " [   0    0]]\n",
      "Accuracy: 97.88%\n"
     ]
    }
   ],
   "source": [
    "from sklearn.neighbors import KNeighborsClassifier\n",
    "from sklearn import metrics\n",
    "\n",
    "knn = KNeighborsClassifier(n_neighbors=5)  \n",
    "knn.fit(trainData_scaled, trainLabel)  # Use the training data\n",
    "predlabel = knn.predict(valData_scaled)  # Predict on the validation set\n",
    "\n",
    "# Confusion matrix\n",
    "confMat = metrics.confusion_matrix(valLabel, predlabel)\n",
    "print(\"Confusion Matrix:\")\n",
    "print(confMat)\n",
    "\n",
    "# Calculating accuracy\n",
    "accuracy = metrics.accuracy_score(valLabel, predlabel)\n",
    "print(\"Accuracy: {:.2f}%\".format(accuracy * 100))\n"
   ]
  },
  {
   "cell_type": "markdown",
   "metadata": {},
   "source": [
    "Running Voting method on Validation dataset"
   ]
  },
  {
   "cell_type": "code",
   "execution_count": 175,
   "metadata": {},
   "outputs": [
    {
     "name": "stdout",
     "output_type": "stream",
     "text": [
      "Confusion Matrix:\n",
      "[[2758   22]\n",
      " [   0    0]]\n",
      "Accuracy: 99.21%\n"
     ]
    }
   ],
   "source": [
    "from sklearn.ensemble import VotingClassifier\n",
    "from sklearn.svm import SVC\n",
    "from sklearn.tree import DecisionTreeClassifier\n",
    "\n",
    "# Assuming valData_scaled and valLabel are defined and prepared\n",
    "svm = SVC(C=0.05, gamma=1/41, kernel='rbf', probability=True)\n",
    "dt = DecisionTreeClassifier()\n",
    "voting_clf = VotingClassifier(estimators=[('knn', knn), ('svm', svm), ('dt', dt)], voting='hard')\n",
    "\n",
    "voting_clf.fit(trainData_scaled, trainLabel)  # Use the training data\n",
    "predlabel = voting_clf.predict(valData_scaled)  # Predict on the validation set\n",
    "\n",
    "# Confusion matrix\n",
    "confMat = metrics.confusion_matrix(valLabel, predlabel)\n",
    "print(\"Confusion Matrix:\")\n",
    "print(confMat)\n",
    "\n",
    "# Calculating accuracy\n",
    "accuracy = metrics.accuracy_score(valLabel, predlabel)\n",
    "print(\"Accuracy: {:.2f}%\".format(accuracy * 100))\n"
   ]
  }
 ],
 "metadata": {
  "kernelspec": {
   "display_name": "Python 3 (ipykernel)",
   "language": "python",
   "name": "python3"
  },
  "language_info": {
   "codemirror_mode": {
    "name": "ipython",
    "version": 3
   },
   "file_extension": ".py",
   "mimetype": "text/x-python",
   "name": "python",
   "nbconvert_exporter": "python",
   "pygments_lexer": "ipython3",
   "version": "3.11.2"
  },
  "toc": {
   "base_numbering": 1,
   "nav_menu": {},
   "number_sections": true,
   "sideBar": true,
   "skip_h1_title": false,
   "title_cell": "Table of Contents",
   "title_sidebar": "Contents",
   "toc_cell": false,
   "toc_position": {},
   "toc_section_display": true,
   "toc_window_display": true
  }
 },
 "nbformat": 4,
 "nbformat_minor": 2
}
