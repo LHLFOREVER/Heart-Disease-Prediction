{
 "cells": [
  {
   "cell_type": "markdown",
   "metadata": {},
   "source": [
    "# CNN using coronary heart disease data "
   ]
  },
  {
   "cell_type": "markdown",
   "metadata": {},
   "source": [
    "This work is aiming at the design and testing of a deep neural network architecture on Coronary heart disease using Tensorflow and Keras."
   ]
  },
  {
   "cell_type": "markdown",
   "metadata": {},
   "source": [
    "## Importing libraries"
   ]
  },
  {
   "cell_type": "code",
   "execution_count": 88,
   "metadata": {},
   "outputs": [],
   "source": [
    "import numpy as np\n",
    "import copy\n",
    "from sklearn import preprocessing"
   ]
  },
  {
   "cell_type": "code",
   "execution_count": 89,
   "metadata": {},
   "outputs": [],
   "source": [
    "import tensorflow as tf\n",
    "from tensorflow import keras\n",
    "import os\n",
    "import pandas as pd\n",
    "from matplotlib import pyplot as plt\n",
    "from numpy.random import seed\n",
    "np.random.seed(2095)"
   ]
  },
  {
   "cell_type": "markdown",
   "metadata": {},
   "source": [
    "## Reading the data"
   ]
  },
  {
   "cell_type": "code",
   "execution_count": 90,
   "metadata": {
    "scrolled": false
   },
   "outputs": [
    {
     "name": "stdout",
     "output_type": "stream",
     "text": [
      "Index(['SEQN', 'Gender', 'Age', 'Annual-Family-Income',\n",
      "       'Ratio-Family-Income-Poverty', 'X60-sec-pulse', 'Systolic', 'Diastolic',\n",
      "       'Weight', 'Height', 'Body-Mass-Index', 'White-Blood-Cells',\n",
      "       'Lymphocyte', 'Monocyte', 'Eosinophils', 'Basophils', 'Red-Blood-Cells',\n",
      "       'Hemoglobin', 'Mean-Cell-Vol', 'Mean-Cell-Hgb-Conc.',\n",
      "       'Mean-cell-Hemoglobin', 'Platelet-count', 'Mean-Platelet-Vol',\n",
      "       'Segmented-Neutrophils', 'Hematocrit', 'Red-Cell-Distribution-Width',\n",
      "       'Albumin', 'ALP', 'AST', 'ALT', 'Cholesterol', 'Creatinine', 'Glucose',\n",
      "       'GGT', 'Iron', 'LDH', 'Phosphorus', 'Bilirubin', 'Protein', 'Uric.Acid',\n",
      "       'Triglycerides', 'Total-Cholesterol', 'HDL', 'Glycohemoglobin',\n",
      "       'Vigorous-work', 'Moderate-work', 'Health-Insurance', 'Diabetes',\n",
      "       'Blood-Rel-Diabetes', 'Blood-Rel-Stroke', 'CoronaryHeartDisease'],\n",
      "      dtype='object')\n"
     ]
    }
   ],
   "source": [
    "# read input file\n",
    "file = '/Users/lhlforever/Heart-Disease-Prediction/Heart-Disease-Prediction/CardiacPrediction.xlsx'\n",
    "#ipData = pd.read_excel(file, sheet_name='Stroke')\n",
    "ipData = pd.read_excel(file, sheet_name='CoroHeartDis')\n",
    "print(ipData.columns) "
   ]
  },
  {
   "cell_type": "markdown",
   "metadata": {},
   "source": [
    "## Drop variables"
   ]
  },
  {
   "cell_type": "code",
   "execution_count": 91,
   "metadata": {},
   "outputs": [],
   "source": [
    "# data drop\n",
    "opLabel = np.array(ipData['CoronaryHeartDisease'])\n",
    "ipData.drop(['SEQN','CoronaryHeartDisease','Annual-Family-Income','Height','Ratio-Family-Income-Poverty','X60-sec-pulse',\n",
    "          'Health-Insurance','Lymphocyte','Monocyte','Eosinophils','Total-Cholesterol','Mean-Cell-Vol','Mean-Cell-Hgb-Conc.','Hematocrit','Segmented-Neutrophils'], axis = 1, inplace=True)\n",
    "\n",
    "\n",
    "#opLabel = np.array(ipData['Stroke'])\n",
    "#ipData.drop(['SEQN','Stroke','Annual-Family-Income','Height','Ratio-Family-Income-Poverty','X60-sec-pulse',\n",
    "#          'Health-Insurance','Lymphocyte','Monocyte','Eosinophils','Total-Cholesterol','Mean-Cell-Vol','Mean-Cell-Hgb-Conc.','Hematocrit','Segmented-Neutrophils'], axis = 1, inplace=True)\n",
    "\n"
   ]
  },
  {
   "cell_type": "code",
   "execution_count": 92,
   "metadata": {},
   "outputs": [],
   "source": [
    "# dummy variable for categorical variables\n",
    "ipData = pd.get_dummies(ipData,columns=[\"Gender\",\"Diabetes\",\"Blood-Rel-Diabetes\",\"Blood-Rel-Stroke\",\"Vigorous-work\",\"Moderate-work\"]) \n",
    "\n",
    "varb = np.array(ipData.columns)\n",
    "ipData = np.array(ipData)"
   ]
  },
  {
   "cell_type": "code",
   "execution_count": 93,
   "metadata": {
    "scrolled": true
   },
   "outputs": [
    {
     "name": "stdout",
     "output_type": "stream",
     "text": [
      "(37079, 45)\n",
      "['Age' 'Systolic' 'Diastolic' 'Weight' 'Body-Mass-Index'\n",
      " 'White-Blood-Cells' 'Basophils' 'Red-Blood-Cells' 'Hemoglobin'\n",
      " 'Mean-cell-Hemoglobin' 'Platelet-count' 'Mean-Platelet-Vol'\n",
      " 'Red-Cell-Distribution-Width' 'Albumin' 'ALP' 'AST' 'ALT' 'Cholesterol'\n",
      " 'Creatinine' 'Glucose' 'GGT' 'Iron' 'LDH' 'Phosphorus' 'Bilirubin'\n",
      " 'Protein' 'Uric.Acid' 'Triglycerides' 'HDL' 'Glycohemoglobin' 'Gender_1'\n",
      " 'Gender_2' 'Diabetes_1' 'Diabetes_2' 'Diabetes_3' 'Blood-Rel-Diabetes_1'\n",
      " 'Blood-Rel-Diabetes_2' 'Blood-Rel-Stroke_1' 'Blood-Rel-Stroke_2'\n",
      " 'Vigorous-work_1' 'Vigorous-work_2' 'Vigorous-work_3' 'Moderate-work_1'\n",
      " 'Moderate-work_2' 'Moderate-work_3']\n",
      "35571\n",
      "1508\n"
     ]
    }
   ],
   "source": [
    "print(ipData.shape)\n",
    "print(varb)\n",
    "print(len(opLabel[opLabel==0]))\n",
    "print(len(opLabel[opLabel==1]))"
   ]
  },
  {
   "cell_type": "markdown",
   "metadata": {},
   "source": [
    "## Feature Nomination using Ridge"
   ]
  },
  {
   "cell_type": "code",
   "execution_count": 94,
   "metadata": {},
   "outputs": [
    {
     "name": "stdout",
     "output_type": "stream",
     "text": [
      "(45,)\n"
     ]
    }
   ],
   "source": [
    "from sklearn.linear_model import Ridge  # Import Ridge\n",
    "from sklearn import preprocessing\n",
    "import numpy as np\n",
    "\n",
    "featureVote = np.zeros(ipData.shape[1])\n",
    "print(featureVote.shape)\n",
    "\n",
    "# Calculate sizes for train, test, and validation sets\n",
    "total_size = ipData.shape[0]\n",
    "train_size = int(0.70 * total_size)\n",
    "test_size = val_size = int(0.15 * total_size)\n",
    "\n",
    "for num in range(iteR):\n",
    "    # Shuffle the indices for each label\n",
    "    label0_indx = np.where(opLabel == 0)[0]\n",
    "    label1_indx = np.where(opLabel == 1)[0]\n",
    "    np.random.shuffle(label0_indx)\n",
    "    np.random.shuffle(label1_indx)\n",
    "\n",
    "    # Split indices into train, test, and validation sets for each label\n",
    "    label0_indx_train = label0_indx[:train_size // 2]\n",
    "    label1_indx_train = label1_indx[:train_size // 2]\n",
    "    label0_indx_test = label0_indx[train_size // 2:train_size // 2 + test_size // 2]\n",
    "    label1_indx_test = label1_indx[train_size // 2:train_size // 2 + test_size // 2]\n",
    "    label0_indx_val = label0_indx[train_size // 2 + test_size // 2:train_size // 2 + test_size // 2 + val_size // 2]\n",
    "    label1_indx_val = label1_indx[train_size // 2 + test_size // 2:train_size // 2 + test_size // 2 + val_size // 2]\n",
    "\n",
    "    # Combine indices for each set\n",
    "    trainIndx = np.append(label0_indx_train, label1_indx_train)\n",
    "    testIndx = np.append(label0_indx_test, label1_indx_test)\n",
    "    valIndx = np.append(label0_indx_val, label1_indx_val)\n",
    "\n",
    "    # Select data for each set\n",
    "    trainData = ipData[trainIndx]\n",
    "    trainLabel = opLabel[trainIndx]\n",
    "    testData = ipData[testIndx]\n",
    "    testLabel = opLabel[testIndx]\n",
    "    valData = ipData[valIndx]\n",
    "    valLabel = opLabel[valIndx]\n",
    "\n",
    "    # Data standardization\n",
    "    scaler = preprocessing.StandardScaler().fit(trainData)\n",
    "    trainData_scaled = scaler.transform(trainData)\n",
    "    testData_scaled = scaler.transform(testData)\n",
    "    valData_scaled = scaler.transform(valData)\n",
    "\n",
    "    # Use Ridge instead of Lasso\n",
    "    regr = Ridge(random_state=0, alpha=0.006, tol=0.000001, max_iter=100000)\n",
    "    regr.fit(trainData_scaled, trainLabel)\n",
    "\n",
    "    # ... rest of your code for model fitting and feature selection ...\n",
    "\n"
   ]
  },
  {
   "cell_type": "code",
   "execution_count": 95,
   "metadata": {
    "scrolled": false
   },
   "outputs": [
    {
     "name": "stdout",
     "output_type": "stream",
     "text": [
      "[0. 0. 0. 0. 0. 0. 0. 0. 0. 0. 0. 0. 0. 0. 0. 0. 0. 0. 0. 0. 0. 0. 0. 0.\n",
      " 0. 0. 0. 0. 0. 0. 0. 0. 0. 0. 0. 0. 0. 0. 0. 0. 0. 0. 0. 0. 0.]\n",
      "<built-in function iter>\n"
     ]
    }
   ],
   "source": [
    "print(featureVote)\n",
    "print(iter)"
   ]
  },
  {
   "cell_type": "code",
   "execution_count": 96,
   "metadata": {
    "scrolled": false
   },
   "outputs": [
    {
     "name": "stdout",
     "output_type": "stream",
     "text": [
      "['Age' 'Systolic' 'Diastolic' 'Weight' 'Body-Mass-Index'\n",
      " 'White-Blood-Cells' 'Basophils' 'Red-Blood-Cells' 'Hemoglobin'\n",
      " 'Mean-cell-Hemoglobin' 'Platelet-count' 'Mean-Platelet-Vol'\n",
      " 'Red-Cell-Distribution-Width' 'Albumin' 'ALP' 'AST' 'ALT' 'Cholesterol'\n",
      " 'Creatinine' 'Glucose' 'GGT' 'Iron' 'LDH' 'Phosphorus' 'Bilirubin'\n",
      " 'Protein' 'Uric.Acid' 'Triglycerides' 'HDL' 'Glycohemoglobin' 'Gender_1'\n",
      " 'Gender_2' 'Diabetes_1' 'Diabetes_2' 'Diabetes_3' 'Blood-Rel-Diabetes_1'\n",
      " 'Blood-Rel-Diabetes_2' 'Blood-Rel-Stroke_1' 'Blood-Rel-Stroke_2'\n",
      " 'Vigorous-work_1' 'Vigorous-work_2' 'Vigorous-work_3' 'Moderate-work_1'\n",
      " 'Moderate-work_2' 'Moderate-work_3']\n"
     ]
    }
   ],
   "source": [
    "# feature nomination via Lasso (from feature 1 to 30)\n",
    "# We keep the dummy variables\n",
    "\n",
    "#thresH = iteR//5. Pick features occuring more than 5 times\n",
    "thresH = 0\n",
    "featureIndx = np.where(featureVote[0:30]>=thresH)[0]\n",
    "featureIndx = np.append(featureIndx, np.arange(30,ipData.shape[1]))\n",
    "print(varb[featureIndx])"
   ]
  },
  {
   "cell_type": "code",
   "execution_count": 97,
   "metadata": {},
   "outputs": [
    {
     "data": {
      "text/plain": [
       "(45,)"
      ]
     },
     "execution_count": 97,
     "metadata": {},
     "output_type": "execute_result"
    }
   ],
   "source": [
    "featureIndx.shape"
   ]
  },
  {
   "cell_type": "code",
   "execution_count": 98,
   "metadata": {
    "scrolled": true
   },
   "outputs": [
    {
     "name": "stdout",
     "output_type": "stream",
     "text": [
      "[]\n"
     ]
    }
   ],
   "source": [
    "tInx = np.arange(ipData.shape[1])\n",
    "rrInx = tInx[~np.isin(tInx,featureIndx)]\n",
    "print(varb[rrInx])"
   ]
  },
  {
   "cell_type": "markdown",
   "metadata": {},
   "source": [
    "# Dataset reduction (Re-run every time you change the number of training data)"
   ]
  },
  {
   "cell_type": "code",
   "execution_count": 99,
   "metadata": {},
   "outputs": [],
   "source": [
    "\n",
    "reduced_data = ipData[:,featureIndx]\n",
    "\n",
    "label0_indx = np.where(opLabel==0)[0]   #no cardiac arrest\n",
    "label1_indx = np.where(opLabel==1)[0]   #cardiac arrest \n",
    "numTrainData0 = 4300\n",
    "numTrainData1 = 1169\n",
    "np.random.shuffle(label0_indx)\n",
    "np.random.shuffle(label1_indx)\n",
    "\n",
    "label0_indx_train = label0_indx[0:numTrainData0]\n",
    "label1_indx_train = label1_indx[0:numTrainData1]\n",
    "label0_indx_test  = label0_indx[numTrainData0:]\n",
    "label1_indx_test  = label1_indx[numTrainData1:]\n",
    "\n",
    "testIndx  = np.append(label0_indx_test,label1_indx_test)\n",
    "trainIndx = np.append(label0_indx_train,label1_indx_train)    \n",
    "x_train  =  reduced_data[trainIndx]\n",
    "y_train  =  opLabel[trainIndx]\n",
    "x_test   =  reduced_data[testIndx]\n",
    "y_test   =  opLabel[testIndx]    "
   ]
  },
  {
   "cell_type": "code",
   "execution_count": 100,
   "metadata": {},
   "outputs": [
    {
     "name": "stdout",
     "output_type": "stream",
     "text": [
      "31271\n"
     ]
    }
   ],
   "source": [
    "print(len(label0_indx_test))"
   ]
  },
  {
   "cell_type": "code",
   "execution_count": 101,
   "metadata": {},
   "outputs": [],
   "source": [
    "scaler = preprocessing.StandardScaler().fit(x_train)\n",
    "x_train = scaler.transform(x_train)\n",
    "x_test  = scaler.transform(x_test)\n",
    "\n",
    "x_train_org = copy.deepcopy(x_train)\n",
    "x_test_org  = copy.deepcopy(x_test)\n",
    "y_train_org     = copy.deepcopy(y_train)\n",
    "y_test_org      = copy.deepcopy(y_test)"
   ]
  },
  {
   "cell_type": "markdown",
   "metadata": {},
   "source": [
    "## t-SNE visualization"
   ]
  },
  {
   "cell_type": "code",
   "execution_count": 102,
   "metadata": {},
   "outputs": [],
   "source": [
    "# t-SNE visualization\n",
    "import imblearn\n",
    "from collections import Counter\n",
    "from sklearn.manifold import TSNE\n",
    "import seaborn as sns"
   ]
  },
  {
   "cell_type": "code",
   "execution_count": 103,
   "metadata": {},
   "outputs": [
    {
     "name": "stdout",
     "output_type": "stream",
     "text": [
      "[t-SNE] Computing 91 nearest neighbors...\n",
      "[t-SNE] Indexed 5469 samples in 0.000s...\n"
     ]
    },
    {
     "name": "stdout",
     "output_type": "stream",
     "text": [
      "[t-SNE] Computed neighbors for 5469 samples in 0.226s...\n",
      "[t-SNE] Computed conditional probabilities for sample 1000 / 5469\n",
      "[t-SNE] Computed conditional probabilities for sample 2000 / 5469\n",
      "[t-SNE] Computed conditional probabilities for sample 3000 / 5469\n",
      "[t-SNE] Computed conditional probabilities for sample 4000 / 5469\n",
      "[t-SNE] Computed conditional probabilities for sample 5000 / 5469\n",
      "[t-SNE] Computed conditional probabilities for sample 5469 / 5469\n",
      "[t-SNE] Mean sigma: 1.776332\n",
      "[t-SNE] KL divergence after 250 iterations with early exaggeration: 83.124527\n",
      "[t-SNE] KL divergence after 300 iterations: 2.374970\n"
     ]
    }
   ],
   "source": [
    "X_embedded = TSNE(n_components=3, n_iter = 300, verbose=1).fit_transform(x_train)\n"
   ]
  },
  {
   "cell_type": "code",
   "execution_count": 104,
   "metadata": {},
   "outputs": [
    {
     "name": "stderr",
     "output_type": "stream",
     "text": [
      "/var/folders/gp/y2m6w9cs0l903346k_cz_31w0000gn/T/ipykernel_9575/505496209.py:10: UserWarning: *c* argument looks like a single numeric RGB or RGBA sequence, which should be avoided as value-mapping will have precedence in case its length matches with *x* & *y*.  Please use the *color* keyword-argument or provide a 2D array with a single row if you intend to specify the same RGB or RGBA value for all points.\n",
      "  ax.scatter(0,0,0,c=cin,edgecolors='k',label='CHD')\n"
     ]
    },
    {
     "data": {
      "image/png": "[encoded data removed]",
      "text/plain": [
       "<Figure size 750x750 with 1 Axes>"
      ]
     },
     "metadata": {},
     "output_type": "display_data"
    }
   ],
   "source": [
    "from mpl_toolkits.mplot3d import Axes3D\n",
    "\n",
    "cin = sns.color_palette(\"Set1\")[1]\n",
    "edge_color = []\n",
    "fig = plt.figure()\n",
    "ax = fig.add_subplot(111, projection='3d')\n",
    "ax.set_facecolor('w')\n",
    "ax.scatter(X_embedded[:,0],X_embedded[:,1],X_embedded[:,2],c=[sns.color_palette(\"Set1\")[x] for x in y_train],\\\n",
    "           edgecolors='k',label='no-CHD')\n",
    "ax.scatter(0,0,0,c=cin,edgecolors='k',label='CHD')\n",
    "ax.azim = 20\n",
    "ax.elev = 20\n",
    "ax.set_xlabel(\"t-SNE Dim 1\", size=\"x-large\")\n",
    "ax.set_ylabel(\"t-SNE Dim 2\", size=\"x-large\")\n",
    "ax.set_zlabel(\"t-SNE Dim 3\", size=\"x-large\")\n",
    "plt.title(\"Random subsampling 3:1\",size=\"xx-large\")\n",
    "ax.legend(loc='upper left')\n",
    "fig.set_size_inches(7.5,7.5)\n",
    "fig.savefig('tSNE_RUS.png', dpi=100)"
   ]
  },
  {
   "cell_type": "code",
   "execution_count": 105,
   "metadata": {},
   "outputs": [],
   "source": [
    "x_train = x_train.reshape(x_train.shape[0],x_train.shape[1],1)\n",
    "x_test = x_test.reshape(x_test.shape[0],x_test.shape[1],1)"
   ]
  },
  {
   "cell_type": "code",
   "execution_count": 106,
   "metadata": {},
   "outputs": [],
   "source": [
    "#%% one-hot-encoding\n",
    "y_train = keras.utils.to_categorical(y_train,2)\n",
    "y_test  = keras.utils.to_categorical(y_test,2)"
   ]
  },
  {
   "cell_type": "code",
   "execution_count": 107,
   "metadata": {},
   "outputs": [
    {
     "data": {
      "text/plain": [
       "array([0, 0, 0, ..., 1, 1, 1])"
      ]
     },
     "execution_count": 107,
     "metadata": {},
     "output_type": "execute_result"
    }
   ],
   "source": [
    "#y_train.shape\n",
    "#y_train\n",
    "y_train_org"
   ]
  },
  {
   "cell_type": "markdown",
   "metadata": {},
   "source": [
    "# Running the part above is MANDATORY for training any Network below"
   ]
  },
  {
   "cell_type": "markdown",
   "metadata": {},
   "source": [
    "# Introducing convolutional layers"
   ]
  },
  {
   "cell_type": "markdown",
   "metadata": {},
   "source": [
    "## MLP+Conv :: Input => Hidden(128)  => Conv(4) => Output (2)"
   ]
  },
  {
   "cell_type": "code",
   "execution_count": 108,
   "metadata": {},
   "outputs": [
    {
     "name": "stderr",
     "output_type": "stream",
     "text": [
      "WARNING:absl:At this time, the v2.11+ optimizer `tf.keras.optimizers.Adam` runs slowly on M1/M2 Macs, please use the legacy Keras optimizer instead, located at `tf.keras.optimizers.legacy.Adam`.\n",
      "WARNING:absl:There is a known slowdown when using v2.11+ Keras optimizers on M1/M2 Macs. Falling back to the legacy Keras optimizer, i.e., `tf.keras.optimizers.legacy.Adam`.\n"
     ]
    },
    {
     "name": "stdout",
     "output_type": "stream",
     "text": [
      "Model: \"model_6\"\n",
      "_________________________________________________________________\n",
      " Layer (type)                Output Shape              Param #   \n",
      "=================================================================\n",
      " input_7 (InputLayer)        [(None, 45, 1)]           0         \n",
      "                                                                 \n",
      " reshape_13 (Reshape)        (None, 45)                0         \n",
      "                                                                 \n",
      " dense_15 (Dense)            (None, 128)               5888      \n",
      "                                                                 \n",
      " batch_normalization_20 (Ba  (None, 128)               512       \n",
      " tchNormalization)                                               \n",
      "                                                                 \n",
      " activation_26 (Activation)  (None, 128)               0         \n",
      "                                                                 \n",
      " dropout_8 (Dropout)         (None, 128)               0         \n",
      "                                                                 \n",
      " reshape_14 (Reshape)        (None, 128, 1)            0         \n",
      "                                                                 \n",
      " conv1d_11 (Conv1D)          (None, 126, 4)            16        \n",
      "                                                                 \n",
      " batch_normalization_21 (Ba  (None, 126, 4)            16        \n",
      " tchNormalization)                                               \n",
      "                                                                 \n",
      " activation_27 (Activation)  (None, 126, 4)            0         \n",
      "                                                                 \n",
      " max_pooling1d_2 (MaxPoolin  (None, 63, 4)             0         \n",
      " g1D)                                                            \n",
      "                                                                 \n",
      " flatten_7 (Flatten)         (None, 252)               0         \n",
      "                                                                 \n",
      " dense_16 (Dense)            (None, 2)                 506       \n",
      "                                                                 \n",
      " activation_28 (Activation)  (None, 2)                 0         \n",
      "                                                                 \n",
      "=================================================================\n",
      "Total params: 6938 (27.10 KB)\n",
      "Trainable params: 6674 (26.07 KB)\n",
      "Non-trainable params: 264 (1.03 KB)\n",
      "_________________________________________________________________\n"
     ]
    }
   ],
   "source": [
    "\n",
    "inputs = keras.layers.Input(shape=(x_train.shape[1],1))\n",
    "RS0    = keras.layers.Reshape((x_train.shape[1], ))(inputs)\n",
    "FC0    = keras.layers.Dense(128, bias_initializer=keras.initializers.VarianceScaling())(RS0)\n",
    "BN0    = keras.layers.BatchNormalization(axis=-1)(FC0)\n",
    "AC0    = keras.layers.Activation('relu')(BN0)\n",
    "DP0    = keras.layers.Dropout(0.2)(AC0)\n",
    "\n",
    "RS1    = keras.layers.Reshape((128,1))(DP0)\n",
    "FC1    = keras.layers.Conv1D(4,3,strides=1)(RS1)\n",
    "BN1    = keras.layers.BatchNormalization(axis=-1)(FC1)\n",
    "AC1    = keras.layers.Activation('relu')(BN1)\n",
    "Pool1 = keras.layers.MaxPool1D(pool_size=2)(AC1)\n",
    "FL1   = keras.layers.Flatten()(Pool1)\n",
    "\n",
    "FC3 =   keras.layers.Dense(2, bias_initializer=keras.initializers.VarianceScaling())(FL1)\n",
    "outputs = keras.layers.Activation('softmax')(FC3)\n",
    "\n",
    "myCNN1D1 = keras.Model(inputs=inputs,outputs=outputs)\n",
    "myCNN1D1.compile(optimizer=keras.optimizers.Adam(),\n",
    "                 loss='categorical_crossentropy',\n",
    "                 metrics=['accuracy'])\n",
    "\n",
    "myCNN1D1.summary()\n"
   ]
  },
  {
   "cell_type": "code",
   "execution_count": 109,
   "metadata": {
    "scrolled": true
   },
   "outputs": [
    {
     "name": "stdout",
     "output_type": "stream",
     "text": [
      "171/171 [==============================] - 1s 1ms/step - loss: 0.9771 - accuracy: 0.6941\n"
     ]
    },
    {
     "data": {
      "text/plain": [
       "<keras.src.callbacks.History at 0x2977b4f10>"
      ]
     },
     "execution_count": 109,
     "metadata": {},
     "output_type": "execute_result"
    }
   ],
   "source": [
    "class_weight = {0: 1, 1: 4}\n",
    "\n",
    "myCNN1D1.fit(x_train,y_train,epochs=1,verbose=1, class_weight=class_weight)"
   ]
  },
  {
   "cell_type": "code",
   "execution_count": 110,
   "metadata": {},
   "outputs": [
    {
     "name": "stdout",
     "output_type": "stream",
     "text": [
      "988/988 [==============================] - 1s 427us/step - loss: 0.5769 - accuracy: 0.7198\n",
      "0.7198355197906494\n"
     ]
    }
   ],
   "source": [
    "test_loss,test_acc = myCNN1D1.evaluate(x_test,y_test)\n",
    "print(test_acc)"
   ]
  },
  {
   "cell_type": "code",
   "execution_count": 111,
   "metadata": {},
   "outputs": [
    {
     "name": "stdout",
     "output_type": "stream",
     "text": [
      "988/988 [==============================] - 0s 378us/step\n",
      "[[22475  8796]\n",
      " [   60   279]]\n"
     ]
    }
   ],
   "source": [
    "from sklearn import metrics\n",
    "predlabel = myCNN1D1.predict(x_test)\n",
    "f = np.argmax(predlabel,axis=1)\n",
    "confMat = metrics.confusion_matrix(np.argmax(y_test,axis=1),f)\n",
    "print(confMat)"
   ]
  },
  {
   "cell_type": "markdown",
   "metadata": {},
   "source": [
    "##  MLP+CONV: Input => Hidden(128)  => Conv(4) => Conv(8) => Output (2)"
   ]
  },
  {
   "cell_type": "code",
   "execution_count": 112,
   "metadata": {},
   "outputs": [
    {
     "name": "stderr",
     "output_type": "stream",
     "text": [
      "WARNING:absl:At this time, the v2.11+ optimizer `tf.keras.optimizers.Adam` runs slowly on M1/M2 Macs, please use the legacy Keras optimizer instead, located at `tf.keras.optimizers.legacy.Adam`.\n",
      "WARNING:absl:There is a known slowdown when using v2.11+ Keras optimizers on M1/M2 Macs. Falling back to the legacy Keras optimizer, i.e., `tf.keras.optimizers.legacy.Adam`.\n"
     ]
    },
    {
     "name": "stdout",
     "output_type": "stream",
     "text": [
      "Model: \"model_7\"\n",
      "_________________________________________________________________\n",
      " Layer (type)                Output Shape              Param #   \n",
      "=================================================================\n",
      " input_8 (InputLayer)        [(None, 45, 1)]           0         \n",
      "                                                                 \n",
      " reshape_15 (Reshape)        (None, 45)                0         \n",
      "                                                                 \n",
      " dense_17 (Dense)            (None, 128)               5888      \n",
      "                                                                 \n",
      " batch_normalization_22 (Ba  (None, 128)               512       \n",
      " tchNormalization)                                               \n",
      "                                                                 \n",
      " activation_29 (Activation)  (None, 128)               0         \n",
      "                                                                 \n",
      " dropout_9 (Dropout)         (None, 128)               0         \n",
      "                                                                 \n",
      " reshape_16 (Reshape)        (None, 128, 1)            0         \n",
      "                                                                 \n",
      " conv1d_12 (Conv1D)          (None, 126, 4)            16        \n",
      "                                                                 \n",
      " batch_normalization_23 (Ba  (None, 126, 4)            16        \n",
      " tchNormalization)                                               \n",
      "                                                                 \n",
      " activation_30 (Activation)  (None, 126, 4)            0         \n",
      "                                                                 \n",
      " average_pooling1d_9 (Avera  (None, 63, 4)             0         \n",
      " gePooling1D)                                                    \n",
      "                                                                 \n",
      " conv1d_13 (Conv1D)          (None, 59, 8)             168       \n",
      "                                                                 \n",
      " batch_normalization_24 (Ba  (None, 59, 8)             32        \n",
      " tchNormalization)                                               \n",
      "                                                                 \n",
      " activation_31 (Activation)  (None, 59, 8)             0         \n",
      "                                                                 \n",
      " average_pooling1d_10 (Aver  (None, 29, 8)             0         \n",
      " agePooling1D)                                                   \n",
      "                                                                 \n",
      " flatten_8 (Flatten)         (None, 232)               0         \n",
      "                                                                 \n",
      " dense_18 (Dense)            (None, 2)                 466       \n",
      "                                                                 \n",
      " activation_32 (Activation)  (None, 2)                 0         \n",
      "                                                                 \n",
      "=================================================================\n",
      "Total params: 7098 (27.73 KB)\n",
      "Trainable params: 6818 (26.63 KB)\n",
      "Non-trainable params: 280 (1.09 KB)\n",
      "_________________________________________________________________\n"
     ]
    }
   ],
   "source": [
    "inputs = keras.layers.Input(shape=(x_train.shape[1],1))\n",
    "RS0    = keras.layers.Reshape((x_train.shape[1], ))(inputs)\n",
    "FC0    = keras.layers.Dense(128, bias_initializer=keras.initializers.VarianceScaling())(RS0)\n",
    "BN0    = keras.layers.BatchNormalization(axis=-1)(FC0)\n",
    "AC0    = keras.layers.Activation('relu')(BN0)\n",
    "DP0    = keras.layers.Dropout(0.2)(AC0)\n",
    "\n",
    "RS1    = keras.layers.Reshape((128,1))(DP0)\n",
    "FC1    = keras.layers.Conv1D(4,3,strides=1)(RS1)\n",
    "BN1    = keras.layers.BatchNormalization(axis=-1)(FC1)\n",
    "AC1    = keras.layers.Activation('relu')(BN1)\n",
    "Pool1 = keras.layers.AveragePooling1D(pool_size=2)(AC1)\n",
    "\n",
    "FC2    = keras.layers.Conv1D(8,5,strides=1)(Pool1)\n",
    "BN2    = keras.layers.BatchNormalization(axis=-1)(FC2)\n",
    "AC2    = keras.layers.Activation('relu')(BN2)\n",
    "Pool2 = keras.layers.AveragePooling1D(pool_size=2)(AC2)\n",
    "\n",
    "FL1   = keras.layers.Flatten()(Pool2)\n",
    "\n",
    "FC3 =   keras.layers.Dense(2, bias_initializer=keras.initializers.VarianceScaling())(FL1)\n",
    "outputs = keras.layers.Activation('softmax')(FC3)\n",
    "\n",
    "myCNN1D2 = keras.Model(inputs=inputs,outputs=outputs)\n",
    "myCNN1D2.compile(optimizer=keras.optimizers.Adam(),\n",
    "                 loss='categorical_crossentropy',\n",
    "                 metrics=['accuracy'])\n",
    "\n",
    "myCNN1D2.summary()"
   ]
  },
  {
   "cell_type": "code",
   "execution_count": 113,
   "metadata": {
    "scrolled": false
   },
   "outputs": [
    {
     "name": "stdout",
     "output_type": "stream",
     "text": [
      "171/171 [==============================] - 1s 1ms/step - loss: 1.0416 - accuracy: 0.6376\n"
     ]
    },
    {
     "data": {
      "text/plain": [
       "<keras.src.callbacks.History at 0x297e777d0>"
      ]
     },
     "execution_count": 113,
     "metadata": {},
     "output_type": "execute_result"
    }
   ],
   "source": [
    "class_weight = {0: 1, 1: 4.5}\n",
    "\n",
    "myCNN1D2.fit(x_train,y_train,epochs=1,verbose=1, class_weight=class_weight)"
   ]
  },
  {
   "cell_type": "code",
   "execution_count": 114,
   "metadata": {
    "scrolled": true
   },
   "outputs": [
    {
     "name": "stdout",
     "output_type": "stream",
     "text": [
      "988/988 [==============================] - 1s 543us/step - loss: 0.7752 - accuracy: 0.5013\n",
      "0.501328706741333\n"
     ]
    }
   ],
   "source": [
    "test_loss,test_acc = myCNN1D2.evaluate(x_test,y_test)\n",
    "print(test_acc)"
   ]
  },
  {
   "cell_type": "code",
   "execution_count": 115,
   "metadata": {},
   "outputs": [
    {
     "name": "stdout",
     "output_type": "stream",
     "text": [
      "988/988 [==============================] - 1s 497us/step\n",
      "[[15530 15741]\n",
      " [   22   317]]\n"
     ]
    }
   ],
   "source": [
    "from sklearn import metrics\n",
    "predlabel = myCNN1D2.predict(x_test)\n",
    "f = np.argmax(predlabel,axis=1)\n",
    "confMat = metrics.confusion_matrix(np.argmax(y_test,axis=1),f)\n",
    "print(confMat)"
   ]
  },
  {
   "cell_type": "markdown",
   "metadata": {},
   "source": [
    "## MLP+Conv :: Input => Hidden(64) => Conv(2) => Hidden(512)  "
   ]
  },
  {
   "cell_type": "code",
   "execution_count": 116,
   "metadata": {
    "scrolled": true
   },
   "outputs": [
    {
     "name": "stderr",
     "output_type": "stream",
     "text": [
      "WARNING:absl:At this time, the v2.11+ optimizer `tf.keras.optimizers.Adam` runs slowly on M1/M2 Macs, please use the legacy Keras optimizer instead, located at `tf.keras.optimizers.legacy.Adam`.\n",
      "WARNING:absl:There is a known slowdown when using v2.11+ Keras optimizers on M1/M2 Macs. Falling back to the legacy Keras optimizer, i.e., `tf.keras.optimizers.legacy.Adam`.\n"
     ]
    },
    {
     "name": "stdout",
     "output_type": "stream",
     "text": [
      "Model: \"model_8\"\n",
      "_________________________________________________________________\n",
      " Layer (type)                Output Shape              Param #   \n",
      "=================================================================\n",
      " input_9 (InputLayer)        [(None, 45, 1)]           0         \n",
      "                                                                 \n",
      " reshape_17 (Reshape)        (None, 45)                0         \n",
      "                                                                 \n",
      " dense_19 (Dense)            (None, 32)                1472      \n",
      "                                                                 \n",
      " batch_normalization_25 (Ba  (None, 32)                128       \n",
      " tchNormalization)                                               \n",
      "                                                                 \n",
      " activation_33 (Activation)  (None, 32)                0         \n",
      "                                                                 \n",
      " dropout_10 (Dropout)        (None, 32)                0         \n",
      "                                                                 \n",
      " reshape_18 (Reshape)        (None, 32, 1)             0         \n",
      "                                                                 \n",
      " conv1d_14 (Conv1D)          (None, 30, 2)             8         \n",
      "                                                                 \n",
      " batch_normalization_26 (Ba  (None, 30, 2)             8         \n",
      " tchNormalization)                                               \n",
      "                                                                 \n",
      " activation_34 (Activation)  (None, 30, 2)             0         \n",
      "                                                                 \n",
      " max_pooling1d_3 (MaxPoolin  (None, 15, 2)             0         \n",
      " g1D)                                                            \n",
      "                                                                 \n",
      " flatten_9 (Flatten)         (None, 30)                0         \n",
      "                                                                 \n",
      " dense_20 (Dense)            (None, 512)               15872     \n",
      "                                                                 \n",
      " batch_normalization_27 (Ba  (None, 512)               2048      \n",
      " tchNormalization)                                               \n",
      "                                                                 \n",
      " activation_35 (Activation)  (None, 512)               0         \n",
      "                                                                 \n",
      " dense_21 (Dense)            (None, 2)                 1026      \n",
      "                                                                 \n",
      " activation_36 (Activation)  (None, 2)                 0         \n",
      "                                                                 \n",
      "=================================================================\n",
      "Total params: 20562 (80.32 KB)\n",
      "Trainable params: 19470 (76.05 KB)\n",
      "Non-trainable params: 1092 (4.27 KB)\n",
      "_________________________________________________________________\n"
     ]
    }
   ],
   "source": [
    "\n",
    "inputs = keras.layers.Input(shape=(x_train.shape[1],1))\n",
    "RS0    = keras.layers.Reshape((x_train.shape[1], ))(inputs)\n",
    "FC0    = keras.layers.Dense(32, bias_initializer=keras.initializers.VarianceScaling())(RS0)\n",
    "BN0    = keras.layers.BatchNormalization(axis=-1)(FC0)\n",
    "AC0    = keras.layers.Activation('relu')(BN0)\n",
    "DP0    = keras.layers.Dropout(0.2)(AC0)\n",
    "\n",
    "RS1    = keras.layers.Reshape((32,1))(DP0)\n",
    "FC1    = keras.layers.Conv1D(2,3,strides=1)(RS1)\n",
    "BN1    = keras.layers.BatchNormalization(axis=-1)(FC1)\n",
    "AC1    = keras.layers.Activation('relu')(BN1)\n",
    "Pool1 = keras.layers.MaxPool1D(pool_size=2)(AC1)\n",
    "FL1   = keras.layers.Flatten()(Pool1)\n",
    "\n",
    "FC2    = keras.layers.Dense(512, bias_initializer=keras.initializers.VarianceScaling())(FL1)\n",
    "BN2    = keras.layers.BatchNormalization(axis=-1)(FC2)\n",
    "AC2    = keras.layers.Activation('relu')(BN2)\n",
    "#DP2    = keras.layers.Dropout(0.2)(AC2)\n",
    "\n",
    "\n",
    "FC3 =   keras.layers.Dense(2, bias_initializer=keras.initializers.VarianceScaling())(AC2)\n",
    "outputs = keras.layers.Activation('softmax')(FC3)\n",
    "\n",
    "myCNN1D3 = keras.Model(inputs=inputs,outputs=outputs)\n",
    "myCNN1D3.compile(optimizer=keras.optimizers.Adam(),\n",
    "                 loss='categorical_crossentropy',\n",
    "                 metrics=['accuracy'])\n",
    "myCNN1D3.summary()"
   ]
  },
  {
   "cell_type": "code",
   "execution_count": 117,
   "metadata": {
    "scrolled": true
   },
   "outputs": [
    {
     "name": "stdout",
     "output_type": "stream",
     "text": [
      "Epoch 1/5\n",
      "171/171 [==============================] - 1s 922us/step - loss: 3.5359 - accuracy: 0.3015\n",
      "Epoch 2/5\n",
      "171/171 [==============================] - 0s 1ms/step - loss: 2.5617 - accuracy: 0.3055\n",
      "Epoch 3/5\n",
      "171/171 [==============================] - 0s 1ms/step - loss: 2.4605 - accuracy: 0.3461\n",
      "Epoch 4/5\n",
      "171/171 [==============================] - 0s 1ms/step - loss: 2.3885 - accuracy: 0.3657\n",
      "Epoch 5/5\n",
      "171/171 [==============================] - 0s 1ms/step - loss: 2.2261 - accuracy: 0.3981\n"
     ]
    },
    {
     "data": {
      "text/plain": [
       "<keras.src.callbacks.History at 0x295a51e50>"
      ]
     },
     "execution_count": 117,
     "metadata": {},
     "output_type": "execute_result"
    }
   ],
   "source": [
    "class_weight = {0: 1, 1: 50}\n",
    "\n",
    "myCNN1D3.fit(x_train,y_train,epochs=5,verbose=1, class_weight=class_weight)"
   ]
  },
  {
   "cell_type": "code",
   "execution_count": 118,
   "metadata": {
    "scrolled": true
   },
   "outputs": [
    {
     "name": "stdout",
     "output_type": "stream",
     "text": [
      "988/988 [==============================] - 0s 383us/step - loss: 1.7035 - accuracy: 0.3197\n",
      "0.3197089433670044\n"
     ]
    }
   ],
   "source": [
    "test_loss,test_acc = myCNN1D3.evaluate(x_test,y_test)\n",
    "print(test_acc)"
   ]
  },
  {
   "cell_type": "code",
   "execution_count": 119,
   "metadata": {
    "scrolled": true
   },
   "outputs": [
    {
     "name": "stdout",
     "output_type": "stream",
     "text": [
      "988/988 [==============================] - 0s 341us/step\n",
      "[[ 9777 21494]\n",
      " [   10   329]]\n"
     ]
    }
   ],
   "source": [
    "from sklearn import metrics\n",
    "predlabel = myCNN1D3.predict(x_test)\n",
    "f = np.argmax(predlabel,axis=1)\n",
    "confMat = metrics.confusion_matrix(np.argmax(y_test,axis=1),f)\n",
    "print(confMat)"
   ]
  },
  {
   "cell_type": "markdown",
   "metadata": {},
   "source": [
    "## MLP+ CONV: Input => Dense(64) => Conv(2) => Conv(4) = Dense(512) => Dense (2) [Best model]"
   ]
  },
  {
   "cell_type": "code",
   "execution_count": 120,
   "metadata": {},
   "outputs": [
    {
     "name": "stderr",
     "output_type": "stream",
     "text": [
      "WARNING:absl:At this time, the v2.11+ optimizer `tf.keras.optimizers.Adam` runs slowly on M1/M2 Macs, please use the legacy Keras optimizer instead, located at `tf.keras.optimizers.legacy.Adam`.\n",
      "WARNING:absl:There is a known slowdown when using v2.11+ Keras optimizers on M1/M2 Macs. Falling back to the legacy Keras optimizer, i.e., `tf.keras.optimizers.legacy.Adam`.\n"
     ]
    }
   ],
   "source": [
    "inputs = keras.layers.Input(shape=(x_train.shape[1],1))\n",
    "RS0    = keras.layers.Reshape((x_train.shape[1], ))(inputs)\n",
    "FC0    = keras.layers.Dense(64, bias_initializer=keras.initializers.VarianceScaling())(RS0)\n",
    "BN0    = keras.layers.BatchNormalization(axis=-1)(FC0)\n",
    "AC0    = keras.layers.Activation('relu')(BN0)\n",
    "DP0    = keras.layers.Dropout(0.2)(AC0)\n",
    "\n",
    "RS1    = keras.layers.Reshape((64,1))(DP0)\n",
    "FC1    = keras.layers.Conv1D(2,3,strides=1)(RS1)\n",
    "BN1    = keras.layers.BatchNormalization(axis=-1)(FC1)\n",
    "AC1    = keras.layers.Activation('relu')(BN1)\n",
    "Pool1  = keras.layers.AveragePooling1D(pool_size=2)(AC1)\n",
    "\n",
    "FC2    = keras.layers.Conv1D(4,5,strides=1)(Pool1)\n",
    "BN2    = keras.layers.BatchNormalization(axis=-1)(FC2)\n",
    "AC2    = keras.layers.Activation('relu')(BN2)\n",
    "Pool2  = keras.layers.AveragePooling1D(pool_size=2)(AC2)\n",
    "\n",
    "FL1    = keras.layers.Flatten()(Pool2)\n",
    "\n",
    "FC3    = keras.layers.Dense(512, bias_initializer=keras.initializers.VarianceScaling())(FL1)\n",
    "BN3    = keras.layers.BatchNormalization(axis=-1)(FC3)\n",
    "AC3    = keras.layers.Activation('relu')(BN3)\n",
    "DP3    = keras.layers.Dropout(0.2)(AC3)\n",
    "\n",
    "\n",
    "FC4    = keras.layers.Dense(2)(DP3)\n",
    "outputs = keras.layers.Activation('softmax')(FC4)\n",
    "\n",
    "myCNN1D4 = keras.Model(inputs=inputs,outputs=outputs)\n",
    "myCNN1D4.compile(optimizer=keras.optimizers.Adam(),\n",
    "                 loss='categorical_crossentropy',\n",
    "                 metrics=['accuracy'])\n",
    "\n",
    "#myCNN1D4.summary()"
   ]
  },
  {
   "cell_type": "code",
   "execution_count": 121,
   "metadata": {
    "scrolled": true
   },
   "outputs": [
    {
     "name": "stdout",
     "output_type": "stream",
     "text": [
      "171/171 [==============================] - 1s 1ms/step - loss: 0.9392 - accuracy: 0.6987\n"
     ]
    },
    {
     "data": {
      "text/plain": [
       "<keras.src.callbacks.History at 0x295cecf10>"
      ]
     },
     "execution_count": 121,
     "metadata": {},
     "output_type": "execute_result"
    }
   ],
   "source": [
    "class_weight = {0: 1, 1: 2.9}\n",
    "\n",
    "myCNN1D4.fit(x_train,y_train,epochs=1,verbose=1, class_weight=class_weight)"
   ]
  },
  {
   "cell_type": "code",
   "execution_count": 122,
   "metadata": {
    "scrolled": true
   },
   "outputs": [
    {
     "name": "stdout",
     "output_type": "stream",
     "text": [
      "988/988 [==============================] - 1s 515us/step - loss: 0.4079 - accuracy: 0.8715\n",
      "0.8715279698371887\n"
     ]
    }
   ],
   "source": [
    "test_loss,test_acc = myCNN1D4.evaluate(x_test,y_test)\n",
    "print(test_acc)"
   ]
  },
  {
   "cell_type": "code",
   "execution_count": 123,
   "metadata": {
    "scrolled": true
   },
   "outputs": [
    {
     "name": "stdout",
     "output_type": "stream",
     "text": [
      "988/988 [==============================] - 1s 605us/step\n",
      "[[27377  3894]\n",
      " [  167   172]]\n"
     ]
    }
   ],
   "source": [
    "from sklearn import metrics\n",
    "predlabel = myCNN1D4.predict(x_test)\n",
    "f = np.argmax(predlabel,axis=1)\n",
    "confMat = metrics.confusion_matrix(np.argmax(y_test,axis=1),f)\n",
    "print(confMat)"
   ]
  },
  {
   "cell_type": "code",
   "execution_count": 124,
   "metadata": {},
   "outputs": [
    {
     "data": {
      "text/plain": [
       "0.024390243902439025"
      ]
     },
     "execution_count": 124,
     "metadata": {},
     "output_type": "execute_result"
    }
   ],
   "source": [
    "y_train @ np.transpose(np.array([0, 1]))\n",
    "1/41"
   ]
  },
  {
   "cell_type": "markdown",
   "metadata": {},
   "source": [
    "## Input => Dense(64) => Conv(2) => Conv(4) = Conv(8) => Dense (2)"
   ]
  },
  {
   "cell_type": "code",
   "execution_count": 125,
   "metadata": {},
   "outputs": [
    {
     "name": "stderr",
     "output_type": "stream",
     "text": [
      "WARNING:absl:At this time, the v2.11+ optimizer `tf.keras.optimizers.Adam` runs slowly on M1/M2 Macs, please use the legacy Keras optimizer instead, located at `tf.keras.optimizers.legacy.Adam`.\n",
      "WARNING:absl:There is a known slowdown when using v2.11+ Keras optimizers on M1/M2 Macs. Falling back to the legacy Keras optimizer, i.e., `tf.keras.optimizers.legacy.Adam`.\n"
     ]
    },
    {
     "name": "stdout",
     "output_type": "stream",
     "text": [
      "Model: \"model_10\"\n",
      "_________________________________________________________________\n",
      " Layer (type)                Output Shape              Param #   \n",
      "=================================================================\n",
      " input_11 (InputLayer)       [(None, 45, 1)]           0         \n",
      "                                                                 \n",
      " reshape_21 (Reshape)        (None, 45)                0         \n",
      "                                                                 \n",
      " dense_25 (Dense)            (None, 64)                2944      \n",
      "                                                                 \n",
      " batch_normalization_32 (Ba  (None, 64)                256       \n",
      " tchNormalization)                                               \n",
      "                                                                 \n",
      " activation_42 (Activation)  (None, 64)                0         \n",
      "                                                                 \n",
      " dropout_13 (Dropout)        (None, 64)                0         \n",
      "                                                                 \n",
      " reshape_22 (Reshape)        (None, 64, 1)             0         \n",
      "                                                                 \n",
      " conv1d_17 (Conv1D)          (None, 62, 2)             8         \n",
      "                                                                 \n",
      " batch_normalization_33 (Ba  (None, 62, 2)             8         \n",
      " tchNormalization)                                               \n",
      "                                                                 \n",
      " activation_43 (Activation)  (None, 62, 2)             0         \n",
      "                                                                 \n",
      " average_pooling1d_13 (Aver  (None, 31, 2)             0         \n",
      " agePooling1D)                                                   \n",
      "                                                                 \n",
      " conv1d_18 (Conv1D)          (None, 27, 4)             44        \n",
      "                                                                 \n",
      " batch_normalization_34 (Ba  (None, 27, 4)             16        \n",
      " tchNormalization)                                               \n",
      "                                                                 \n",
      " activation_44 (Activation)  (None, 27, 4)             0         \n",
      "                                                                 \n",
      " average_pooling1d_14 (Aver  (None, 13, 4)             0         \n",
      " agePooling1D)                                                   \n",
      "                                                                 \n",
      " conv1d_19 (Conv1D)          (None, 7, 6)              174       \n",
      "                                                                 \n",
      " batch_normalization_35 (Ba  (None, 7, 6)              24        \n",
      " tchNormalization)                                               \n",
      "                                                                 \n",
      " activation_45 (Activation)  (None, 7, 6)              0         \n",
      "                                                                 \n",
      " average_pooling1d_15 (Aver  (None, 3, 6)              0         \n",
      " agePooling1D)                                                   \n",
      "                                                                 \n",
      " flatten_11 (Flatten)        (None, 18)                0         \n",
      "                                                                 \n",
      " dense_26 (Dense)            (None, 2)                 38        \n",
      "                                                                 \n",
      " activation_46 (Activation)  (None, 2)                 0         \n",
      "                                                                 \n",
      "=================================================================\n",
      "Total params: 3512 (13.72 KB)\n",
      "Trainable params: 3360 (13.12 KB)\n",
      "Non-trainable params: 152 (608.00 Byte)\n",
      "_________________________________________________________________\n"
     ]
    }
   ],
   "source": [
    "inputs = keras.layers.Input(shape=(x_train.shape[1],1))\n",
    "RS0    = keras.layers.Reshape((x_train.shape[1], ))(inputs)\n",
    "FC0    = keras.layers.Dense(64, bias_initializer=keras.initializers.VarianceScaling())(RS0)\n",
    "BN0    = keras.layers.BatchNormalization(axis=-1)(FC0)\n",
    "AC0    = keras.layers.Activation('relu')(BN0)\n",
    "DP0    = keras.layers.Dropout(0.2)(AC0)\n",
    "\n",
    "RS1    = keras.layers.Reshape((64,1))(DP0)\n",
    "FC1    = keras.layers.Conv1D(2,3,strides=1)(RS1)\n",
    "BN1    = keras.layers.BatchNormalization(axis=-1)(FC1)\n",
    "AC1    = keras.layers.Activation('relu')(BN1)\n",
    "Pool1  = keras.layers.AveragePooling1D(pool_size=2)(AC1)\n",
    "\n",
    "FC2    = keras.layers.Conv1D(4,5,strides=1)(Pool1)\n",
    "BN2    = keras.layers.BatchNormalization(axis=-1)(FC2)\n",
    "AC2    = keras.layers.Activation('relu')(BN2)\n",
    "Pool2  = keras.layers.AveragePooling1D(pool_size=2)(AC2)\n",
    "\n",
    "\n",
    "FC3    = keras.layers.Conv1D(6,7,strides=1)(Pool2)\n",
    "BN3    = keras.layers.BatchNormalization(axis=-1)(FC3)\n",
    "AC3    = keras.layers.Activation('relu')(BN3)\n",
    "Pool3  = keras.layers.AveragePooling1D(pool_size=2)(AC3)\n",
    "\n",
    "\n",
    "\n",
    "\n",
    "FL1    = keras.layers.Flatten()(Pool3)\n",
    "\n",
    "#FC3    = keras.layers.Dense(512, bias_initializer=keras.initializers.VarianceScaling())(FL1)\n",
    "#BN3    = keras.layers.BatchNormalization(axis=-1)(FC3)\n",
    "#AC3    = keras.layers.Activation('relu')(BN3)\n",
    "#DP3    = keras.layers.Dropout(0.2)(AC3)\n",
    "\n",
    "\n",
    "FC4    = keras.layers.Dense(2)(FL1)\n",
    "outputs = keras.layers.Activation('softmax')(FC4)\n",
    "\n",
    "myCNN5D4 = keras.Model(inputs=inputs,outputs=outputs)\n",
    "myCNN5D4.compile(optimizer=keras.optimizers.Adam(),\n",
    "                 loss='categorical_crossentropy',\n",
    "                 metrics=['accuracy'])\n",
    "\n",
    "myCNN5D4.summary()\n"
   ]
  },
  {
   "cell_type": "code",
   "execution_count": 126,
   "metadata": {},
   "outputs": [
    {
     "name": "stdout",
     "output_type": "stream",
     "text": [
      "171/171 [==============================] - 1s 1ms/step - loss: 0.9425 - accuracy: 0.6703\n"
     ]
    },
    {
     "data": {
      "text/plain": [
       "<keras.src.callbacks.History at 0x2aea94c90>"
      ]
     },
     "execution_count": 126,
     "metadata": {},
     "output_type": "execute_result"
    }
   ],
   "source": [
    "class_weight = {0: 1, 1: 3.0}\n",
    "\n",
    "myCNN5D4.fit(x_train,y_train,epochs=1,verbose=1, class_weight=class_weight)"
   ]
  },
  {
   "cell_type": "code",
   "execution_count": 127,
   "metadata": {},
   "outputs": [
    {
     "name": "stdout",
     "output_type": "stream",
     "text": [
      "988/988 [==============================] - 1s 590us/step - loss: 0.4595 - accuracy: 0.9159\n",
      "0.9159126877784729\n"
     ]
    }
   ],
   "source": [
    "test_loss,test_acc = myCNN5D4.evaluate(x_test,y_test)\n",
    "print(test_acc)"
   ]
  },
  {
   "cell_type": "code",
   "execution_count": 128,
   "metadata": {},
   "outputs": [
    {
     "name": "stdout",
     "output_type": "stream",
     "text": [
      "988/988 [==============================] - 1s 610us/step\n",
      "[[28844  2427]\n",
      " [  231   108]]\n"
     ]
    }
   ],
   "source": [
    "from sklearn import metrics\n",
    "predlabel = myCNN5D4.predict(x_test)\n",
    "f = np.argmax(predlabel,axis=1)\n",
    "confMat = metrics.confusion_matrix(np.argmax(y_test,axis=1),f)\n",
    "print(confMat)"
   ]
  },
  {
   "cell_type": "markdown",
   "metadata": {},
   "source": [
    "## Input => Dense(64) => Conv(2) => Dense (128) = Conv(4) => Dense (2)"
   ]
  },
  {
   "cell_type": "code",
   "execution_count": 129,
   "metadata": {},
   "outputs": [
    {
     "name": "stderr",
     "output_type": "stream",
     "text": [
      "WARNING:absl:At this time, the v2.11+ optimizer `tf.keras.optimizers.Adam` runs slowly on M1/M2 Macs, please use the legacy Keras optimizer instead, located at `tf.keras.optimizers.legacy.Adam`.\n",
      "WARNING:absl:There is a known slowdown when using v2.11+ Keras optimizers on M1/M2 Macs. Falling back to the legacy Keras optimizer, i.e., `tf.keras.optimizers.legacy.Adam`.\n"
     ]
    },
    {
     "name": "stdout",
     "output_type": "stream",
     "text": [
      "Model: \"model_11\"\n",
      "_________________________________________________________________\n",
      " Layer (type)                Output Shape              Param #   \n",
      "=================================================================\n",
      " input_12 (InputLayer)       [(None, 45, 1)]           0         \n",
      "                                                                 \n",
      " reshape_23 (Reshape)        (None, 45)                0         \n",
      "                                                                 \n",
      " dense_27 (Dense)            (None, 64)                2944      \n",
      "                                                                 \n",
      " batch_normalization_36 (Ba  (None, 64)                256       \n",
      " tchNormalization)                                               \n",
      "                                                                 \n",
      " activation_47 (Activation)  (None, 64)                0         \n",
      "                                                                 \n",
      " dropout_14 (Dropout)        (None, 64)                0         \n",
      "                                                                 \n",
      " reshape_24 (Reshape)        (None, 64, 1)             0         \n",
      "                                                                 \n",
      " conv1d_20 (Conv1D)          (None, 62, 2)             8         \n",
      "                                                                 \n",
      " batch_normalization_37 (Ba  (None, 62, 2)             8         \n",
      " tchNormalization)                                               \n",
      "                                                                 \n",
      " activation_48 (Activation)  (None, 62, 2)             0         \n",
      "                                                                 \n",
      " average_pooling1d_16 (Aver  (None, 31, 2)             0         \n",
      " agePooling1D)                                                   \n",
      "                                                                 \n",
      " flatten_12 (Flatten)        (None, 62)                0         \n",
      "                                                                 \n",
      " dense_28 (Dense)            (None, 128)               8064      \n",
      "                                                                 \n",
      " batch_normalization_38 (Ba  (None, 128)               512       \n",
      " tchNormalization)                                               \n",
      "                                                                 \n",
      " activation_49 (Activation)  (None, 128)               0         \n",
      "                                                                 \n",
      " dropout_15 (Dropout)        (None, 128)               0         \n",
      "                                                                 \n",
      " reshape_25 (Reshape)        (None, 128, 1)            0         \n",
      "                                                                 \n",
      " conv1d_21 (Conv1D)          (None, 124, 4)            24        \n",
      "                                                                 \n",
      " batch_normalization_39 (Ba  (None, 124, 4)            16        \n",
      " tchNormalization)                                               \n",
      "                                                                 \n",
      " activation_50 (Activation)  (None, 124, 4)            0         \n",
      "                                                                 \n",
      " average_pooling1d_17 (Aver  (None, 62, 4)             0         \n",
      " agePooling1D)                                                   \n",
      "                                                                 \n",
      " flatten_13 (Flatten)        (None, 248)               0         \n",
      "                                                                 \n",
      " dense_29 (Dense)            (None, 2)                 498       \n",
      "                                                                 \n",
      " activation_51 (Activation)  (None, 2)                 0         \n",
      "                                                                 \n",
      "=================================================================\n",
      "Total params: 12330 (48.16 KB)\n",
      "Trainable params: 11934 (46.62 KB)\n",
      "Non-trainable params: 396 (1.55 KB)\n",
      "_________________________________________________________________\n"
     ]
    }
   ],
   "source": [
    "inputs = keras.layers.Input(shape=(x_train.shape[1],1))\n",
    "RS0    = keras.layers.Reshape((x_train.shape[1], ))(inputs)\n",
    "FC0    = keras.layers.Dense(64, bias_initializer=keras.initializers.VarianceScaling())(RS0)\n",
    "BN0    = keras.layers.BatchNormalization(axis=-1)(FC0)\n",
    "AC0    = keras.layers.Activation('relu')(BN0)\n",
    "DP0    = keras.layers.Dropout(0.2)(AC0)\n",
    "\n",
    "RS1    = keras.layers.Reshape((64,1))(DP0)\n",
    "FC1    = keras.layers.Conv1D(2,3,strides=1)(RS1)\n",
    "BN1    = keras.layers.BatchNormalization(axis=-1)(FC1)\n",
    "AC1    = keras.layers.Activation('relu')(BN1)\n",
    "Pool1  = keras.layers.AveragePooling1D(pool_size=2)(AC1)\n",
    "\n",
    "FL0 = keras.layers.Flatten()(Pool1)\n",
    "\n",
    "AA1 = keras.layers.Dense(128, bias_initializer=keras.initializers.VarianceScaling())(FL0)\n",
    "BB1 = keras.layers.BatchNormalization(axis=-1)(AA1)\n",
    "CC1 = keras.layers.Activation('relu')(BB1)\n",
    "Pool2 = keras.layers.Dropout(0.2)(CC1)\n",
    "\n",
    "\n",
    "RS2    = keras.layers.Reshape((128,1))(Pool2)\n",
    "FC2    = keras.layers.Conv1D(4,5,strides=1)(RS2)\n",
    "BN2    = keras.layers.BatchNormalization(axis=-1)(FC2)\n",
    "AC2    = keras.layers.Activation('relu')(BN2)\n",
    "Pool3  = keras.layers.AveragePooling1D(pool_size=2)(AC2)\n",
    "\n",
    "\n",
    "\n",
    "FL1    = keras.layers.Flatten()(Pool3)\n",
    "\n",
    "#FC3    = keras.layers.Dense(512, bias_initializer=keras.initializers.VarianceScaling())(FL1)\n",
    "#BN3    = keras.layers.BatchNormalization(axis=-1)(FC3)\n",
    "#AC3    = keras.layers.Activation('relu')(BN3)\n",
    "#DP3    = keras.layers.Dropout(0.2)(AC3)\n",
    "\n",
    "\n",
    "FC4    = keras.layers.Dense(2)(FL1)\n",
    "outputs = keras.layers.Activation('softmax')(FC4)\n",
    "\n",
    "myCNN5D4 = keras.Model(inputs=inputs,outputs=outputs)\n",
    "myCNN5D4.compile(optimizer=keras.optimizers.Adam(),\n",
    "                 loss='categorical_crossentropy',\n",
    "                 metrics=['accuracy'])\n",
    "\n",
    "myCNN5D4.summary()"
   ]
  },
  {
   "cell_type": "code",
   "execution_count": 130,
   "metadata": {
    "scrolled": true
   },
   "outputs": [
    {
     "name": "stdout",
     "output_type": "stream",
     "text": [
      "171/171 [==============================] - 1s 1ms/step - loss: 0.7866 - accuracy: 0.7521\n"
     ]
    },
    {
     "data": {
      "text/plain": [
       "<keras.src.callbacks.History at 0x29525e150>"
      ]
     },
     "execution_count": 130,
     "metadata": {},
     "output_type": "execute_result"
    }
   ],
   "source": [
    "class_weight = {0: 1, 1: 2.5}\n",
    "\n",
    "myCNN5D4.fit(x_train,y_train,epochs=1,verbose=1, class_weight=class_weight)"
   ]
  },
  {
   "cell_type": "code",
   "execution_count": 131,
   "metadata": {},
   "outputs": [
    {
     "name": "stdout",
     "output_type": "stream",
     "text": [
      "988/988 [==============================] - 1s 556us/step - loss: 0.5495 - accuracy: 0.8169\n",
      "0.8168933987617493\n"
     ]
    }
   ],
   "source": [
    "test_loss,test_acc = myCNN5D4.evaluate(x_test,y_test)\n",
    "print(test_acc)"
   ]
  },
  {
   "cell_type": "code",
   "execution_count": 132,
   "metadata": {},
   "outputs": [
    {
     "name": "stdout",
     "output_type": "stream",
     "text": [
      "988/988 [==============================] - 1s 516us/step\n",
      "[[25596  5675]\n",
      " [  113   226]]\n"
     ]
    }
   ],
   "source": [
    "from sklearn import metrics\n",
    "predlabel = myCNN5D4.predict(x_test)\n",
    "f = np.argmax(predlabel,axis=1)\n",
    "confMat = metrics.confusion_matrix(np.argmax(y_test,axis=1),f)\n",
    "print(confMat)"
   ]
  },
  {
   "cell_type": "markdown",
   "metadata": {},
   "source": [
    "# Running SVM on the subsampled data"
   ]
  },
  {
   "cell_type": "code",
   "execution_count": 133,
   "metadata": {},
   "outputs": [
    {
     "name": "stdout",
     "output_type": "stream",
     "text": [
      "Confusion Matrix:\n",
      "[[22274  8997]\n",
      " [   57   282]]\n",
      "Accuracy: 71.36%\n"
     ]
    }
   ],
   "source": [
    "from sklearn.svm import SVC\n",
    "from sklearn import metrics\n",
    "\n",
    "svcCAD = SVC(C=0.05, gamma=1/41, kernel='rbf', class_weight='balanced')\n",
    "svcCAD.fit(x_train_org, y_train_org)\n",
    "predlabel = svcCAD.predict(x_test_org)\n",
    "\n",
    "# Confusion matrix\n",
    "confMat = metrics.confusion_matrix(y_test_org, predlabel)\n",
    "print(\"Confusion Matrix:\")\n",
    "print(confMat)\n",
    "\n",
    "# Calculating accuracy\n",
    "accuracy = metrics.accuracy_score(y_test_org, predlabel)\n",
    "print(\"Accuracy: {:.2f}%\".format(accuracy * 100))\n"
   ]
  },
  {
   "cell_type": "markdown",
   "metadata": {},
   "source": [
    "# Running KNN on the subsampled data"
   ]
  },
  {
   "cell_type": "code",
   "execution_count": 134,
   "metadata": {},
   "outputs": [
    {
     "name": "stdout",
     "output_type": "stream",
     "text": [
      "Confusion Matrix:\n",
      "[[29987  1284]\n",
      " [  273    66]]\n",
      "Accuracy: 95.07%\n"
     ]
    }
   ],
   "source": [
    "# Running KNN on the subsampled data\n",
    "from sklearn.neighbors import KNeighborsClassifier\n",
    "from sklearn import metrics\n",
    "\n",
    "knn = KNeighborsClassifier(n_neighbors=2)  \n",
    "knn.fit(x_train_org, y_train_org)\n",
    "predlabel = knn.predict(x_test_org)\n",
    "\n",
    "# Confusion matrix\n",
    "confMat = metrics.confusion_matrix(y_test_org, predlabel)\n",
    "print(\"Confusion Matrix:\")\n",
    "print(confMat)\n",
    "\n",
    "# Calculating accuracy\n",
    "accuracy = metrics.accuracy_score(y_test_org, predlabel)\n",
    "print(\"Accuracy: {:.2f}%\".format(accuracy * 100))\n"
   ]
  },
  {
   "cell_type": "markdown",
   "metadata": {},
   "source": [
    "# Running Vote on the subsampled data"
   ]
  },
  {
   "cell_type": "code",
   "execution_count": 135,
   "metadata": {},
   "outputs": [
    {
     "name": "stdout",
     "output_type": "stream",
     "text": [
      "Confusion Matrix:\n",
      "[[30265  1006]\n",
      " [  272    67]]\n",
      "Accuracy: 95.96%\n"
     ]
    }
   ],
   "source": [
    "from sklearn.neighbors import KNeighborsClassifier\n",
    "from sklearn.svm import SVC\n",
    "from sklearn.ensemble import VotingClassifier\n",
    "from sklearn import metrics\n",
    "from sklearn.tree import DecisionTreeClassifier\n",
    "\n",
    "knn = KNeighborsClassifier(n_neighbors=5)\n",
    "svm = SVC(C=0.05, gamma=1/41, kernel='rbf', probability=True)  # probability must be True for soft voting\n",
    "dt = DecisionTreeClassifier()\n",
    "\n",
    "# Create a voting classifier\n",
    "voting_clf = VotingClassifier(estimators=[('knn', knn), ('svm', svm), ('dt', dt)], voting='hard') \n",
    "voting_clf.fit(x_train_org, y_train_org)\n",
    "predlabel = voting_clf.predict(x_test_org)\n",
    "\n",
    "# Confusion matrix\n",
    "confMat = metrics.confusion_matrix(y_test_org, predlabel)\n",
    "print(\"Confusion Matrix:\")\n",
    "print(confMat)\n",
    "\n",
    "# Calculating accuracy\n",
    "accuracy = metrics.accuracy_score(y_test_org, predlabel)\n",
    "print(\"Accuracy: {:.2f}%\".format(accuracy * 100))\n"
   ]
  }
 ],
 "metadata": {
  "kernelspec": {
   "display_name": "Python 3 (ipykernel)",
   "language": "python",
   "name": "python3"
  },
  "language_info": {
   "codemirror_mode": {
    "name": "ipython",
    "version": 3
   },
   "file_extension": ".py",
   "mimetype": "text/x-python",
   "name": "python",
   "nbconvert_exporter": "python",
   "pygments_lexer": "ipython3",
   "version": "3.11.2"
  },
  "toc": {
   "base_numbering": 1,
   "nav_menu": {},
   "number_sections": true,
   "sideBar": true,
   "skip_h1_title": false,
   "title_cell": "Table of Contents",
   "title_sidebar": "Contents",
   "toc_cell": false,
   "toc_position": {},
   "toc_section_display": true,
   "toc_window_display": true
  }
 },
 "nbformat": 4,
 "nbformat_minor": 2
}
