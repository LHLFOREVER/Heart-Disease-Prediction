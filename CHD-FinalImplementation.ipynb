{
 "cells": [
  {
   "cell_type": "markdown",
   "metadata": {},
   "source": [
    "# CNN using coronary heart disease data "
   ]
  },
  {
   "cell_type": "markdown",
   "metadata": {},
   "source": [
    "This work is aiming at the design and testing of a deep neural network architecture on Coronary heart disease using Tensorflow and Keras."
   ]
  },
  {
   "cell_type": "markdown",
   "metadata": {},
   "source": [
    "## Importing libraries"
   ]
  },
  {
   "cell_type": "code",
   "execution_count": 1,
   "metadata": {},
   "outputs": [],
   "source": [
    "import numpy as np\n",
    "import copy\n",
    "from sklearn import preprocessing\n",
    "import os\n",
    "import pandas as pd\n",
    "from matplotlib import pyplot as plt\n",
    "from numpy.random import seed\n",
    "np.random.seed(2095)"
   ]
  },
  {
   "cell_type": "code",
   "execution_count": 2,
   "metadata": {},
   "outputs": [],
   "source": [
    "from imblearn.over_sampling import RandomOverSampler\n",
    "from imblearn.under_sampling import RandomUnderSampler\n",
    "from collections import Counter"
   ]
  },
  {
   "cell_type": "code",
   "execution_count": 3,
   "metadata": {},
   "outputs": [],
   "source": [
    "from sklearn import metrics\n",
    "from sklearn.model_selection import GridSearchCV\n",
    "from sklearn.svm import SVC\n",
    "from sklearn.linear_model import LogisticRegression\n",
    "from sklearn.neighbors import KNeighborsClassifier\n",
    "from sklearn.ensemble import VotingClassifier"
   ]
  },
  {
   "cell_type": "markdown",
   "metadata": {},
   "source": [
    "## Reading the data"
   ]
  },
  {
   "cell_type": "code",
   "execution_count": 4,
   "metadata": {
    "scrolled": true
   },
   "outputs": [
    {
     "name": "stdout",
     "output_type": "stream",
     "text": [
      "Index(['SEQN', 'Gender', 'Age', 'Annual-Family-Income',\n",
      "       'Ratio-Family-Income-Poverty', 'X60-sec-pulse', 'Systolic', 'Diastolic',\n",
      "       'Weight', 'Height', 'Body-Mass-Index', 'White-Blood-Cells',\n",
      "       'Lymphocyte', 'Monocyte', 'Eosinophils', 'Basophils', 'Red-Blood-Cells',\n",
      "       'Hemoglobin', 'Mean-Cell-Vol', 'Mean-Cell-Hgb-Conc.',\n",
      "       'Mean-cell-Hemoglobin', 'Platelet-count', 'Mean-Platelet-Vol',\n",
      "       'Segmented-Neutrophils', 'Hematocrit', 'Red-Cell-Distribution-Width',\n",
      "       'Albumin', 'ALP', 'AST', 'ALT', 'Cholesterol', 'Creatinine', 'Glucose',\n",
      "       'GGT', 'Iron', 'LDH', 'Phosphorus', 'Bilirubin', 'Protein', 'Uric.Acid',\n",
      "       'Triglycerides', 'Total-Cholesterol', 'HDL', 'Glycohemoglobin',\n",
      "       'Vigorous-work', 'Moderate-work', 'Health-Insurance', 'Diabetes',\n",
      "       'Blood-Rel-Diabetes', 'Blood-Rel-Stroke', 'CoronaryHeartDisease'],\n",
      "      dtype='object')\n"
     ]
    }
   ],
   "source": [
    "# read input file\n",
    "file = 'C:\\\\Users\\\\rohan\\\\OneDrive\\\\Documents\\\\CardiacPrediction_modified.xlsx'\n",
    "ipData = pd.read_excel(file, sheet_name='CoroHeartDis')\n",
    "print(ipData.columns) "
   ]
  },
  {
   "cell_type": "markdown",
   "metadata": {},
   "source": [
    "## Drop variables"
   ]
  },
  {
   "cell_type": "code",
   "execution_count": 5,
   "metadata": {},
   "outputs": [],
   "source": [
    "# data drop\n",
    "opLabel = np.array(ipData['CoronaryHeartDisease'])\n",
    "ipData.drop(['SEQN','CoronaryHeartDisease','Annual-Family-Income','Height','Ratio-Family-Income-Poverty','X60-sec-pulse',\n",
    "          'Health-Insurance','Lymphocyte','Monocyte','Eosinophils','Total-Cholesterol','Mean-Cell-Vol','Mean-Cell-Hgb-Conc.','Hematocrit','Segmented-Neutrophils'], axis = 1, inplace=True)"
   ]
  },
  {
   "cell_type": "code",
   "execution_count": 6,
   "metadata": {},
   "outputs": [
    {
     "name": "stdout",
     "output_type": "stream",
     "text": [
      "['Age' 'Systolic' 'Diastolic' 'Weight' 'Body-Mass-Index'\n",
      " 'White-Blood-Cells' 'Basophils' 'Red-Blood-Cells' 'Hemoglobin'\n",
      " 'Mean-cell-Hemoglobin' 'Platelet-count' 'Mean-Platelet-Vol'\n",
      " 'Red-Cell-Distribution-Width' 'Albumin' 'ALP' 'AST' 'ALT' 'Cholesterol'\n",
      " 'Creatinine' 'Glucose' 'GGT' 'Iron' 'LDH' 'Phosphorus' 'Bilirubin'\n",
      " 'Protein' 'Uric.Acid' 'Triglycerides' 'HDL' 'Glycohemoglobin' 'Gender_1'\n",
      " 'Gender_2' 'Diabetes_1' 'Diabetes_2' 'Diabetes_3' 'Blood-Rel-Diabetes_1'\n",
      " 'Blood-Rel-Diabetes_2' 'Blood-Rel-Stroke_1' 'Blood-Rel-Stroke_2'\n",
      " 'Vigorous-work_1' 'Vigorous-work_2' 'Vigorous-work_3' 'Moderate-work_1'\n",
      " 'Moderate-work_2' 'Moderate-work_3']\n"
     ]
    }
   ],
   "source": [
    "# dummy variable for categorical variables\n",
    "ipData = pd.get_dummies(ipData,columns=[\"Gender\",\"Diabetes\",\"Blood-Rel-Diabetes\",\"Blood-Rel-Stroke\",\"Vigorous-work\",\"Moderate-work\"]) \n",
    "\n",
    "varb = np.array(ipData.columns)\n",
    "ipData = np.array(ipData)\n",
    "print(varb)"
   ]
  },
  {
   "cell_type": "code",
   "execution_count": 7,
   "metadata": {
    "scrolled": true
   },
   "outputs": [
    {
     "name": "stdout",
     "output_type": "stream",
     "text": [
      "(37079, 45)\n",
      "['Age' 'Systolic' 'Diastolic' 'Weight' 'Body-Mass-Index'\n",
      " 'White-Blood-Cells' 'Basophils' 'Red-Blood-Cells' 'Hemoglobin'\n",
      " 'Mean-cell-Hemoglobin' 'Platelet-count' 'Mean-Platelet-Vol'\n",
      " 'Red-Cell-Distribution-Width' 'Albumin' 'ALP' 'AST' 'ALT' 'Cholesterol'\n",
      " 'Creatinine' 'Glucose' 'GGT' 'Iron' 'LDH' 'Phosphorus' 'Bilirubin'\n",
      " 'Protein' 'Uric.Acid' 'Triglycerides' 'HDL' 'Glycohemoglobin' 'Gender_1'\n",
      " 'Gender_2' 'Diabetes_1' 'Diabetes_2' 'Diabetes_3' 'Blood-Rel-Diabetes_1'\n",
      " 'Blood-Rel-Diabetes_2' 'Blood-Rel-Stroke_1' 'Blood-Rel-Stroke_2'\n",
      " 'Vigorous-work_1' 'Vigorous-work_2' 'Vigorous-work_3' 'Moderate-work_1'\n",
      " 'Moderate-work_2' 'Moderate-work_3']\n",
      "35571\n",
      "1508\n"
     ]
    }
   ],
   "source": [
    "print(ipData.shape)\n",
    "print(varb)\n",
    "print(len(opLabel[opLabel==0]))\n",
    "print(len(opLabel[opLabel==1]))"
   ]
  },
  {
   "cell_type": "markdown",
   "metadata": {},
   "source": [
    "## Feature Nomination using LASSO"
   ]
  },
  {
   "cell_type": "code",
   "execution_count": 8,
   "metadata": {},
   "outputs": [
    {
     "name": "stdout",
     "output_type": "stream",
     "text": [
      "(45,)\n"
     ]
    }
   ],
   "source": [
    "#Data condensation using LASSO penalty\n",
    "from sklearn.linear_model import Lasso, LogisticRegression\n",
    "\n",
    "\n",
    "featureVote = np.zeros(ipData.shape[1])\n",
    "print(featureVote.shape)\n",
    "\n",
    "iteR = 100\n",
    "\n",
    "for num in range(iteR):\n",
    "    label0_indx = np.where(opLabel==0)[0]   #no coronary heart disease\n",
    "    label1_indx = np.where(opLabel==1)[0]   #coronary heart disease \n",
    "    numTrainData0 = 1300\n",
    "    numTrainData1 = 1300\n",
    "    np.random.shuffle(label0_indx)\n",
    "    np.random.shuffle(label1_indx)\n",
    "    \n",
    "    label0_indx_train = label0_indx[0:numTrainData0-1]\n",
    "    label1_indx_train = label1_indx[0:numTrainData1-1]\n",
    "    label0_indx_test  = label0_indx[numTrainData0-1:]\n",
    "    label1_indx_test  = label1_indx[numTrainData1-1:]\n",
    "    \n",
    "    testIndx  = np.append(label0_indx_test,label1_indx_test)\n",
    "    trainIndx = np.append(label0_indx_train,label1_indx_train)    \n",
    "    trainData  =  ipData[trainIndx]\n",
    "    trainLabel =  opLabel[trainIndx]\n",
    "    testData   =  ipData[testIndx]\n",
    "    testLabel  =  opLabel[testIndx]    \n",
    "    \n",
    "    # data standardization\n",
    "    scaler = preprocessing.StandardScaler().fit(trainData)\n",
    "    trainData_scaled = scaler.transform(trainData)\n",
    "    testData_scaled  = scaler.transform(testData)\n",
    "    \n",
    "    # Lasso from scikit\n",
    "    regr = Lasso(random_state=0, alpha=0.006, tol=0.000001, max_iter=100000)\n",
    "    regr.fit(trainData_scaled,trainLabel)\n",
    "    cof = np.abs(regr.coef_)    \n",
    "    colIndx = np.where(cof != 0)[0]\n",
    "    for col in colIndx:\n",
    "        featureVote[col]+=1\n"
   ]
  },
  {
   "cell_type": "code",
   "execution_count": 9,
   "metadata": {
    "scrolled": false
   },
   "outputs": [
    {
     "name": "stdout",
     "output_type": "stream",
     "text": [
      "[100.  33.  82.  39.  14.  91.  50.  67.   9.  19. 100.  49. 100.  47.\n",
      "  26.  24.   9. 100.  88.  14.  36.  33. 100.  24.  47.  25. 100.  99.\n",
      "  96.  95. 100.  39.  86.  73.   5.  87.  47. 100.  52.  14.  13.  89.\n",
      "   2.  99.  64.]\n",
      "[100.  39.  86.  73.   5.  87.  47. 100.  52.  14.  13.  89.   2.  99.\n",
      "  64.]\n"
     ]
    }
   ],
   "source": [
    "print(featureVote)\n",
    "print(featureVote[30:])"
   ]
  },
  {
   "cell_type": "code",
   "execution_count": 10,
   "metadata": {
    "scrolled": false
   },
   "outputs": [
    {
     "name": "stdout",
     "output_type": "stream",
     "text": [
      "['Age' 'Systolic' 'Diastolic' 'Weight' 'White-Blood-Cells' 'Basophils'\n",
      " 'Red-Blood-Cells' 'Platelet-count' 'Mean-Platelet-Vol'\n",
      " 'Red-Cell-Distribution-Width' 'Albumin' 'ALP' 'AST' 'Cholesterol'\n",
      " 'Creatinine' 'GGT' 'Iron' 'LDH' 'Phosphorus' 'Bilirubin' 'Protein'\n",
      " 'Uric.Acid' 'Triglycerides' 'HDL' 'Glycohemoglobin' 'Gender_1' 'Gender_2'\n",
      " 'Diabetes_1' 'Diabetes_2' 'Diabetes_3' 'Blood-Rel-Diabetes_1'\n",
      " 'Blood-Rel-Diabetes_2' 'Blood-Rel-Stroke_1' 'Blood-Rel-Stroke_2'\n",
      " 'Vigorous-work_1' 'Vigorous-work_2' 'Vigorous-work_3' 'Moderate-work_1'\n",
      " 'Moderate-work_2' 'Moderate-work_3']\n"
     ]
    }
   ],
   "source": [
    "# feature nomination via Lasso (from feature 1 to 30)\n",
    "# We keep the dummy variables\n",
    "\n",
    "# Keep those variables which are nonzero at least 100//5=20 times\n",
    "thresH = iteR//5\n",
    "#thresH = 0\n",
    "featureIndx = np.where(featureVote[0:30]>=thresH)[0]\n",
    "featureIndx = np.append(featureIndx, np.arange(30,ipData.shape[1]))\n",
    "print(varb[featureIndx])"
   ]
  },
  {
   "cell_type": "code",
   "execution_count": 11,
   "metadata": {},
   "outputs": [
    {
     "data": {
      "text/plain": [
       "(40,)"
      ]
     },
     "execution_count": 11,
     "metadata": {},
     "output_type": "execute_result"
    }
   ],
   "source": [
    "# 5 variables have been removed\n",
    "featureIndx.shape"
   ]
  },
  {
   "cell_type": "code",
   "execution_count": 12,
   "metadata": {
    "scrolled": true
   },
   "outputs": [
    {
     "name": "stdout",
     "output_type": "stream",
     "text": [
      "['Body-Mass-Index' 'Hemoglobin' 'Mean-cell-Hemoglobin' 'ALT' 'Glucose']\n"
     ]
    }
   ],
   "source": [
    "tInx = np.arange(ipData.shape[1])\n",
    "rrInx = tInx[~np.isin(tInx,featureIndx)]\n",
    "print(varb[rrInx])\n",
    "# The variables removed from feature selection"
   ]
  },
  {
   "cell_type": "markdown",
   "metadata": {},
   "source": [
    "# Combining Random Oversampling and Random Undersampling"
   ]
  },
  {
   "cell_type": "code",
   "execution_count": 13,
   "metadata": {},
   "outputs": [
    {
     "name": "stdout",
     "output_type": "stream",
     "text": [
      "25955\n",
      "5562\n",
      "5562\n",
      "Counter({0: 24911, 1: 1044})\n"
     ]
    }
   ],
   "source": [
    "# Forming the Train, Validation, and Test Splits\n",
    "reduced_data = ipData[:,featureIndx]\n",
    "indList=list(range(0,len(opLabel)))\n",
    "np.random.shuffle(indList)\n",
    "\n",
    "indTrain=indList[:int(.7*len(opLabel))]\n",
    "indVal=indList[int(.7*len(opLabel)):int(.85*len(opLabel))]\n",
    "indTest=indList[int(.85*len(opLabel)):]\n",
    "\n",
    "x_train=reduced_data[indTrain]\n",
    "x_val=reduced_data[indVal]\n",
    "x_test=reduced_data[indTest]\n",
    "print(len(x_train))\n",
    "print(len(x_val))\n",
    "print(len(x_test))\n",
    "y_train=opLabel[indTrain]\n",
    "y_val=opLabel[indVal]\n",
    "y_test=opLabel[indTest]\n",
    "print(Counter(y_train))"
   ]
  },
  {
   "cell_type": "code",
   "execution_count": 14,
   "metadata": {},
   "outputs": [
    {
     "name": "stdout",
     "output_type": "stream",
     "text": [
      "Counter({0: 24911, 1: 2491})\n"
     ]
    }
   ],
   "source": [
    "# Apply Random Oversampling to the Minority Class\n",
    "over=RandomOverSampler(sampling_strategy=0.1)\n",
    "x_train, y_train=over.fit_resample(x_train,y_train)\n",
    "print(Counter(y_train))"
   ]
  },
  {
   "cell_type": "code",
   "execution_count": 15,
   "metadata": {},
   "outputs": [
    {
     "name": "stdout",
     "output_type": "stream",
     "text": [
      "Counter({0: 4982, 1: 2491})\n"
     ]
    }
   ],
   "source": [
    "# Apply Random Undersampling to the Majority Class\n",
    "under=RandomUnderSampler(sampling_strategy=0.5)\n",
    "x_train,y_train=under.fit_resample(x_train,y_train)\n",
    "print(Counter(y_train))"
   ]
  },
  {
   "cell_type": "code",
   "execution_count": 16,
   "metadata": {},
   "outputs": [],
   "source": [
    "# Scales the data\n",
    "scaler = preprocessing.StandardScaler().fit(x_train)\n",
    "x_train = scaler.transform(x_train)\n",
    "x_val = scaler.transform(x_val)\n",
    "x_test  = scaler.transform(x_test)"
   ]
  },
  {
   "cell_type": "markdown",
   "metadata": {},
   "source": [
    "## Interpreting the Confusion Matrix"
   ]
  },
  {
   "cell_type": "code",
   "execution_count": 17,
   "metadata": {},
   "outputs": [],
   "source": [
    "def accuracy(confusion,show=1):\n",
    "    precision=confusion[1,1]/(confusion[1,1]+confusion[0,1])\n",
    "    recall=confusion[1,1]/(confusion[1,1]+confusion[1,0])\n",
    "    specificity=confusion[0,0]/(confusion[0,0]+confusion[0,1])\n",
    "    accuracy=(confusion[0,0]+confusion[1,1])/sum(sum(confusion))\n",
    "    F1 = 2 * (precision * recall) / (precision + recall)\n",
    "    if show:\n",
    "        print(\"Precision:\", precision)\n",
    "        print(\"Recall:\", recall)\n",
    "        print(\"Specificity:\", specificity)\n",
    "        print(\"Accuracy:\", accuracy)\n",
    "        return f'F1 score: {F1}'\n",
    "    return F1"
   ]
  },
  {
   "cell_type": "markdown",
   "metadata": {},
   "source": [
    "# SVM: Validation"
   ]
  },
  {
   "cell_type": "code",
   "execution_count": 18,
   "metadata": {},
   "outputs": [
    {
     "name": "stdout",
     "output_type": "stream",
     "text": [
      "Confusion Matrix:\n",
      "[[4460  867]\n",
      " [  97  138]]\n",
      "Precision: 0.1373134328358209\n",
      "Recall: 0.5872340425531914\n",
      "Specificity: 0.8372442275201802\n",
      "Accuracy: 0.8266810499820209\n",
      "F1 score: 0.2225806451612903 C=0.01 gamma=0.001\n",
      "\n",
      "Confusion Matrix:\n",
      "[[3969 1358]\n",
      " [  48  187]]\n",
      "Precision: 0.12103559870550162\n",
      "Recall: 0.7957446808510639\n",
      "Specificity: 0.7450722733245729\n",
      "Accuracy: 0.7472132326501258\n",
      "F1 score: 0.2101123595505618 C=0.01 gamma=0.01\n",
      "\n",
      "Confusion Matrix:\n",
      "[[3687 1640]\n",
      " [  42  193]]\n",
      "Precision: 0.10529187124931806\n",
      "Recall: 0.8212765957446808\n",
      "Specificity: 0.6921344096114136\n",
      "Accuracy: 0.6975907946781733\n",
      "F1 score: 0.18665377176015474 C=0.01 gamma=0.024390243902439025\n",
      "\n",
      "Confusion Matrix:\n",
      "[[ 937 4390]\n",
      " [   2  233]]\n",
      "Precision: 0.050400173047804454\n",
      "Recall: 0.9914893617021276\n",
      "Specificity: 0.1758963769476253\n",
      "Accuracy: 0.21035598705501618\n",
      "F1 score: 0.09592424866200082 C=0.01 gamma=0.1\n",
      "\n",
      "Confusion Matrix:\n",
      "[[4181 1146]\n",
      " [  57  178]]\n",
      "Precision: 0.13444108761329304\n",
      "Recall: 0.7574468085106383\n",
      "Specificity: 0.7848695325699268\n",
      "Accuracy: 0.7837108953613808\n",
      "F1 score: 0.2283515073765234 C=0.05 gamma=0.001\n",
      "\n",
      "Confusion Matrix:\n",
      "[[3958 1369]\n",
      " [  43  192]]\n",
      "Precision: 0.12299807815502883\n",
      "Recall: 0.8170212765957446\n",
      "Specificity: 0.7430073211939178\n",
      "Accuracy: 0.7461344839985616\n",
      "F1 score: 0.21380846325167038 C=0.05 gamma=0.01\n",
      "\n",
      "Confusion Matrix:\n",
      "[[3828 1499]\n",
      " [  39  196]]\n",
      "Precision: 0.11563421828908554\n",
      "Recall: 0.8340425531914893\n",
      "Specificity: 0.7186033414679932\n",
      "Accuracy: 0.7234807623157138\n",
      "F1 score: 0.20310880829015543 C=0.05 gamma=0.024390243902439025\n",
      "\n",
      "Confusion Matrix:\n",
      "[[2568 2759]\n",
      " [  21  214]]\n",
      "Precision: 0.07198116380760175\n",
      "Recall: 0.9106382978723404\n",
      "Specificity: 0.4820724610474939\n",
      "Accuracy: 0.5001797914419274\n",
      "F1 score: 0.13341645885286782 C=0.05 gamma=0.1\n",
      "\n",
      "Confusion Matrix:\n",
      "[[4078 1249]\n",
      " [  46  189]]\n",
      "Precision: 0.13143254520166897\n",
      "Recall: 0.8042553191489362\n",
      "Specificity: 0.7655340717101559\n",
      "Accuracy: 0.7671700827040633\n",
      "F1 score: 0.2259414225941422 C=0.1 gamma=0.001\n",
      "\n",
      "Confusion Matrix:\n",
      "[[3981 1346]\n",
      " [  43  192]]\n",
      "Precision: 0.12483745123537061\n",
      "Recall: 0.8170212765957446\n",
      "Specificity: 0.7473249483761968\n",
      "Accuracy: 0.750269687162891\n",
      "F1 score: 0.21658206429780033 C=0.1 gamma=0.01\n",
      "\n",
      "Confusion Matrix:\n",
      "[[3871 1456]\n",
      " [  41  194]]\n",
      "Precision: 0.11757575757575757\n",
      "Recall: 0.825531914893617\n",
      "Specificity: 0.7266754270696452\n",
      "Accuracy: 0.7308522114347357\n",
      "F1 score: 0.20583554376657826 C=0.1 gamma=0.024390243902439025\n",
      "\n",
      "Confusion Matrix:\n",
      "[[3130 2197]\n",
      " [  36  199]]\n",
      "Precision: 0.0830550918196995\n",
      "Recall: 0.8468085106382979\n",
      "Specificity: 0.5875727426318753\n",
      "Accuracy: 0.5985257101761956\n",
      "F1 score: 0.15127328012162677 C=0.1 gamma=0.1\n",
      "\n",
      "Confusion Matrix:\n",
      "[[4049 1278]\n",
      " [  45  190]]\n",
      "Precision: 0.12942779291553133\n",
      "Recall: 0.8085106382978723\n",
      "Specificity: 0.7600901070020649\n",
      "Accuracy: 0.7621359223300971\n",
      "F1 score: 0.22313564298297123 C=1 gamma=0.001\n",
      "\n",
      "Confusion Matrix:\n",
      "[[4089 1238]\n",
      " [  47  188]]\n",
      "Precision: 0.13183730715287517\n",
      "Recall: 0.8\n",
      "Specificity: 0.7675990238408109\n",
      "Accuracy: 0.768967997123337\n",
      "F1 score: 0.226369656833233 C=1 gamma=0.01\n",
      "\n",
      "Confusion Matrix:\n",
      "[[4304 1023]\n",
      " [  57  178]]\n",
      "Precision: 0.1482098251457119\n",
      "Recall: 0.7574468085106383\n",
      "Specificity: 0.8079594518490708\n",
      "Accuracy: 0.8058252427184466\n",
      "F1 score: 0.2479108635097493 C=1 gamma=0.024390243902439025\n",
      "\n",
      "Confusion Matrix:\n",
      "[[5034  293]\n",
      " [ 154   81]]\n",
      "Precision: 0.21657754010695188\n",
      "Recall: 0.3446808510638298\n",
      "Specificity: 0.9449971841561855\n",
      "Accuracy: 0.9196332254584682\n",
      "F1 score: 0.2660098522167488 C=1 gamma=0.1\n",
      "\n"
     ]
    }
   ],
   "source": [
    "# Testing different hyperparameters\n",
    "Clist=[0.01,0.05,0.1,1]\n",
    "gammalist=[0.001,0.01,1/41,0.1]\n",
    "svmVal=[]\n",
    "for C in Clist:\n",
    "    for gamma in gammalist:\n",
    "        # Training SVM\n",
    "        svcCAD = SVC(C=C, gamma=gamma, kernel='rbf', class_weight='balanced')\n",
    "        svcCAD.fit(x_train,y_train)\n",
    "        predlabel = svcCAD.predict(x_val)\n",
    "\n",
    "        # Confusion matrix\n",
    "        confMat = metrics.confusion_matrix(y_val, predlabel)\n",
    "        print(\"Confusion Matrix:\")\n",
    "        print(confMat)\n",
    "\n",
    "        # Calculating metrics\n",
    "        svmVal.append([f'F1={accuracy(confMat,0)}',f'C={C}',f'gamma={gamma}'])\n",
    "        print(accuracy(confMat), f'C={C}', f'gamma={gamma}')\n",
    "        print(\"\")"
   ]
  },
  {
   "cell_type": "code",
   "execution_count": 19,
   "metadata": {},
   "outputs": [
    {
     "name": "stdout",
     "output_type": "stream",
     "text": [
      "['F1=0.2660098522167488', 'C=1', 'gamma=0.1']\n"
     ]
    }
   ],
   "source": [
    "svmVal.sort()\n",
    "# The highest F1 Score\n",
    "print(svmVal[-1])"
   ]
  },
  {
   "cell_type": "markdown",
   "metadata": {},
   "source": [
    "# SVM: Testing"
   ]
  },
  {
   "cell_type": "code",
   "execution_count": 20,
   "metadata": {
    "scrolled": true
   },
   "outputs": [
    {
     "name": "stdout",
     "output_type": "stream",
     "text": [
      "[[4999  334]\n",
      " [ 158   71]]\n",
      "Precision: 0.17530864197530865\n",
      "Recall: 0.31004366812227074\n",
      "Specificity: 0.9373710856928558\n",
      "Accuracy: 0.9115426105717368\n"
     ]
    },
    {
     "data": {
      "text/plain": [
       "'F1 score: 0.22397476340694009'"
      ]
     },
     "execution_count": 20,
     "metadata": {},
     "output_type": "execute_result"
    }
   ],
   "source": [
    "# Training SVM\n",
    "svcCAD = SVC(C=1, gamma=0.1, kernel='rbf', class_weight='balanced')\n",
    "svcCAD.fit(x_train,y_train)\n",
    "predlabel = svcCAD.predict(x_test)\n",
    "\n",
    "# Confusion Matrix\n",
    "confMat = metrics.confusion_matrix(y_test,predlabel)\n",
    "print(confMat)\n",
    "\n",
    "# Results\n",
    "accuracy(confMat)"
   ]
  },
  {
   "cell_type": "markdown",
   "metadata": {},
   "source": [
    "# Logistic Regression: Validation"
   ]
  },
  {
   "cell_type": "code",
   "execution_count": 21,
   "metadata": {},
   "outputs": [
    {
     "name": "stdout",
     "output_type": "stream",
     "text": [
      "Confusion Matrix:\n",
      "[[4622  705]\n",
      " [  85  150]]\n",
      "Precision: 0.17543859649122806\n",
      "Recall: 0.6382978723404256\n",
      "Specificity: 0.8676553407171016\n",
      "Accuracy: 0.8579647608773823\n",
      "F1 score: 0.2752293577981651 class_weight=None\n",
      "\n",
      "Confusion Matrix:\n",
      "[[4115 1212]\n",
      " [  46  189]]\n",
      "Precision: 0.1349036402569593\n",
      "Recall: 0.8042553191489362\n",
      "Specificity: 0.7724798197859959\n",
      "Accuracy: 0.7738223660553758\n",
      "F1 score: 0.23105134474327627 class_weight=balanced\n",
      "\n",
      "Confusion Matrix:\n",
      "[[5015  312]\n",
      " [ 137   98]]\n",
      "Precision: 0.23902439024390243\n",
      "Recall: 0.41702127659574467\n",
      "Specificity: 0.9414304486577811\n",
      "Accuracy: 0.9192736425746134\n",
      "F1 score: 0.30387596899224806 class_weight={0: 0.67, 1: 0.33}\n",
      "\n",
      "Confusion Matrix:\n",
      "[[5161  166]\n",
      " [ 169   66]]\n",
      "Precision: 0.28448275862068967\n",
      "Recall: 0.28085106382978725\n",
      "Specificity: 0.9688379951192041\n",
      "Accuracy: 0.939769866954333\n",
      "F1 score: 0.2826552462526767 class_weight={0: 0.75, 1: 0.25}\n",
      "\n",
      "Confusion Matrix:\n",
      "[[3760 1567]\n",
      " [  30  205]]\n",
      "Precision: 0.11568848758465011\n",
      "Recall: 0.8723404255319149\n",
      "Specificity: 0.7058381828421251\n",
      "Accuracy: 0.7128730672419993\n",
      "F1 score: 0.2042850024912805 class_weight={0: 0.25, 1: 0.75}\n",
      "\n",
      "Confusion Matrix:\n",
      "[[3762 1565]\n",
      " [  31  204]]\n",
      "Precision: 0.11531938948558508\n",
      "Recall: 0.8680851063829788\n",
      "Specificity: 0.7062136286840623\n",
      "Accuracy: 0.7130528586839266\n",
      "F1 score: 0.2035928143712575 class_weight={0: 1, 1: 3.0}\n",
      "\n"
     ]
    }
   ],
   "source": [
    "weightList=[None,'balanced',{0:0.67,1:0.33},{0:0.75, 1:0.25},{0:0.25, 1:0.75},{0:1,1:3.0}]\n",
    "lrVal=[]\n",
    "\n",
    "for classweight in weightList:\n",
    "        # Training LR\n",
    "        clf = LogisticRegression(solver = \"lbfgs\", class_weight=classweight, verbose=1, random_state = 2)\n",
    "        model = clf.fit(x_train,y_train)\n",
    "        predlabel = model.predict(x_val)\n",
    "        \n",
    "        # Confusion matrix\n",
    "        confMat = metrics.confusion_matrix(y_val, predlabel)\n",
    "        print(\"Confusion Matrix:\")\n",
    "        print(confMat)\n",
    "\n",
    "        # Calculating metrics\n",
    "        lrVal.append([f'F1={accuracy(confMat,0)}',f'class_weight={classweight}'])\n",
    "        print(accuracy(confMat), f'class_weight={classweight}')\n",
    "        print(\"\")"
   ]
  },
  {
   "cell_type": "code",
   "execution_count": 22,
   "metadata": {},
   "outputs": [
    {
     "name": "stdout",
     "output_type": "stream",
     "text": [
      "['F1=0.30387596899224806', 'class_weight={0: 0.67, 1: 0.33}']\n"
     ]
    }
   ],
   "source": [
    "lrVal.sort()\n",
    "# The highest F1 Score\n",
    "print(lrVal[-1])"
   ]
  },
  {
   "cell_type": "markdown",
   "metadata": {},
   "source": [
    "# Logistic Regression: Testing "
   ]
  },
  {
   "cell_type": "code",
   "execution_count": 23,
   "metadata": {},
   "outputs": [
    {
     "name": "stdout",
     "output_type": "stream",
     "text": [
      "Confusion Matrix:\n",
      "[[5001  332]\n",
      " [ 122  107]]\n",
      "Precision: 0.2437357630979499\n",
      "Recall: 0.4672489082969432\n",
      "Specificity: 0.9377461091318208\n",
      "Accuracy: 0.9183746853649766\n"
     ]
    },
    {
     "data": {
      "text/plain": [
       "'F1 score: 0.3203592814371258'"
      ]
     },
     "execution_count": 23,
     "metadata": {},
     "output_type": "execute_result"
    }
   ],
   "source": [
    "# Training LR\n",
    "clf = LogisticRegression(solver = \"lbfgs\", class_weight={0:0.67, 1:0.33}, verbose=1, random_state = 2)\n",
    "model = clf.fit(x_train,y_train)\n",
    "predlabel = model.predict(x_test)\n",
    "\n",
    "# Confusion matrix\n",
    "confMat = metrics.confusion_matrix(y_test, predlabel)\n",
    "print(\"Confusion Matrix:\")\n",
    "print(confMat)\n",
    "accuracy(confMat)"
   ]
  },
  {
   "cell_type": "markdown",
   "metadata": {},
   "source": [
    "# KNN: Validation"
   ]
  },
  {
   "cell_type": "code",
   "execution_count": 24,
   "metadata": {},
   "outputs": [
    {
     "name": "stderr",
     "output_type": "stream",
     "text": [
      "C:\\Users\\rohan\\anaconda3\\lib\\site-packages\\sklearn\\neighbors\\_classification.py:228: FutureWarning: Unlike other reduction functions (e.g. `skew`, `kurtosis`), the default behavior of `mode` typically preserves the axis it acts along. In SciPy 1.11.0, this behavior will change: the default value of `keepdims` will become False, the `axis` over which the statistic is taken will be eliminated, and the value None will no longer be accepted. Set `keepdims` to True or False to avoid this warning.\n",
      "  mode, _ = stats.mode(_y[neigh_ind, k], axis=1)\n"
     ]
    },
    {
     "name": "stdout",
     "output_type": "stream",
     "text": [
      "Confusion Matrix:\n",
      "[[4749  578]\n",
      " [ 164   71]]\n",
      "K=1\n",
      "Precision: 0.10939907550077041\n",
      "Recall: 0.3021276595744681\n",
      "Specificity: 0.8914961516801202\n",
      "Accuracy: 0.8665947500898957\n",
      "F1 score: 0.1606334841628959\n",
      "\n"
     ]
    },
    {
     "name": "stderr",
     "output_type": "stream",
     "text": [
      "C:\\Users\\rohan\\anaconda3\\lib\\site-packages\\sklearn\\neighbors\\_classification.py:228: FutureWarning: Unlike other reduction functions (e.g. `skew`, `kurtosis`), the default behavior of `mode` typically preserves the axis it acts along. In SciPy 1.11.0, this behavior will change: the default value of `keepdims` will become False, the `axis` over which the statistic is taken will be eliminated, and the value None will no longer be accepted. Set `keepdims` to True or False to avoid this warning.\n",
      "  mode, _ = stats.mode(_y[neigh_ind, k], axis=1)\n"
     ]
    },
    {
     "name": "stdout",
     "output_type": "stream",
     "text": [
      "Confusion Matrix:\n",
      "[[4824  503]\n",
      " [ 173   62]]\n",
      "K=2\n",
      "Precision: 0.10973451327433628\n",
      "Recall: 0.26382978723404255\n",
      "Specificity: 0.905575370752769\n",
      "Accuracy: 0.8784609852571018\n",
      "F1 score: 0.155\n",
      "\n"
     ]
    },
    {
     "name": "stderr",
     "output_type": "stream",
     "text": [
      "C:\\Users\\rohan\\anaconda3\\lib\\site-packages\\sklearn\\neighbors\\_classification.py:228: FutureWarning: Unlike other reduction functions (e.g. `skew`, `kurtosis`), the default behavior of `mode` typically preserves the axis it acts along. In SciPy 1.11.0, this behavior will change: the default value of `keepdims` will become False, the `axis` over which the statistic is taken will be eliminated, and the value None will no longer be accepted. Set `keepdims` to True or False to avoid this warning.\n",
      "  mode, _ = stats.mode(_y[neigh_ind, k], axis=1)\n"
     ]
    },
    {
     "name": "stdout",
     "output_type": "stream",
     "text": [
      "Confusion Matrix:\n",
      "[[4434  893]\n",
      " [ 132  103]]\n",
      "K=3\n",
      "Precision: 0.10341365461847389\n",
      "Recall: 0.43829787234042555\n",
      "Specificity: 0.8323634315749953\n",
      "Accuracy: 0.8157137720244516\n",
      "F1 score: 0.16734362307067424\n",
      "\n"
     ]
    },
    {
     "name": "stderr",
     "output_type": "stream",
     "text": [
      "C:\\Users\\rohan\\anaconda3\\lib\\site-packages\\sklearn\\neighbors\\_classification.py:228: FutureWarning: Unlike other reduction functions (e.g. `skew`, `kurtosis`), the default behavior of `mode` typically preserves the axis it acts along. In SciPy 1.11.0, this behavior will change: the default value of `keepdims` will become False, the `axis` over which the statistic is taken will be eliminated, and the value None will no longer be accepted. Set `keepdims` to True or False to avoid this warning.\n",
      "  mode, _ = stats.mode(_y[neigh_ind, k], axis=1)\n"
     ]
    },
    {
     "name": "stdout",
     "output_type": "stream",
     "text": [
      "Confusion Matrix:\n",
      "[[4682  645]\n",
      " [ 148   87]]\n",
      "K=4\n",
      "Precision: 0.11885245901639344\n",
      "Recall: 0.3702127659574468\n",
      "Specificity: 0.8789187159752205\n",
      "Accuracy: 0.8574253865516002\n",
      "F1 score: 0.17993795243019647\n",
      "\n"
     ]
    },
    {
     "name": "stderr",
     "output_type": "stream",
     "text": [
      "C:\\Users\\rohan\\anaconda3\\lib\\site-packages\\sklearn\\neighbors\\_classification.py:228: FutureWarning: Unlike other reduction functions (e.g. `skew`, `kurtosis`), the default behavior of `mode` typically preserves the axis it acts along. In SciPy 1.11.0, this behavior will change: the default value of `keepdims` will become False, the `axis` over which the statistic is taken will be eliminated, and the value None will no longer be accepted. Set `keepdims` to True or False to avoid this warning.\n",
      "  mode, _ = stats.mode(_y[neigh_ind, k], axis=1)\n"
     ]
    },
    {
     "name": "stdout",
     "output_type": "stream",
     "text": [
      "Confusion Matrix:\n",
      "[[4411  916]\n",
      " [ 121  114]]\n",
      "K=5\n",
      "Precision: 0.11067961165048544\n",
      "Recall: 0.4851063829787234\n",
      "Specificity: 0.8280458043927164\n",
      "Accuracy: 0.8135562747213233\n",
      "F1 score: 0.18023715415019764\n",
      "\n"
     ]
    },
    {
     "name": "stderr",
     "output_type": "stream",
     "text": [
      "C:\\Users\\rohan\\anaconda3\\lib\\site-packages\\sklearn\\neighbors\\_classification.py:228: FutureWarning: Unlike other reduction functions (e.g. `skew`, `kurtosis`), the default behavior of `mode` typically preserves the axis it acts along. In SciPy 1.11.0, this behavior will change: the default value of `keepdims` will become False, the `axis` over which the statistic is taken will be eliminated, and the value None will no longer be accepted. Set `keepdims` to True or False to avoid this warning.\n",
      "  mode, _ = stats.mode(_y[neigh_ind, k], axis=1)\n"
     ]
    },
    {
     "name": "stdout",
     "output_type": "stream",
     "text": [
      "Confusion Matrix:\n",
      "[[4700  627]\n",
      " [ 137   98]]\n",
      "K=6\n",
      "Precision: 0.13517241379310344\n",
      "Recall: 0.41702127659574467\n",
      "Specificity: 0.8822977285526563\n",
      "Accuracy: 0.8626393383674937\n",
      "F1 score: 0.20416666666666664\n",
      "\n"
     ]
    },
    {
     "name": "stderr",
     "output_type": "stream",
     "text": [
      "C:\\Users\\rohan\\anaconda3\\lib\\site-packages\\sklearn\\neighbors\\_classification.py:228: FutureWarning: Unlike other reduction functions (e.g. `skew`, `kurtosis`), the default behavior of `mode` typically preserves the axis it acts along. In SciPy 1.11.0, this behavior will change: the default value of `keepdims` will become False, the `axis` over which the statistic is taken will be eliminated, and the value None will no longer be accepted. Set `keepdims` to True or False to avoid this warning.\n",
      "  mode, _ = stats.mode(_y[neigh_ind, k], axis=1)\n"
     ]
    },
    {
     "name": "stdout",
     "output_type": "stream",
     "text": [
      "Confusion Matrix:\n",
      "[[4496  831]\n",
      " [ 117  118]]\n",
      "K=7\n",
      "Precision: 0.12434141201264488\n",
      "Recall: 0.502127659574468\n",
      "Specificity: 0.8440022526750516\n",
      "Accuracy: 0.8295577130528586\n",
      "F1 score: 0.1993243243243243\n",
      "\n"
     ]
    },
    {
     "name": "stderr",
     "output_type": "stream",
     "text": [
      "C:\\Users\\rohan\\anaconda3\\lib\\site-packages\\sklearn\\neighbors\\_classification.py:228: FutureWarning: Unlike other reduction functions (e.g. `skew`, `kurtosis`), the default behavior of `mode` typically preserves the axis it acts along. In SciPy 1.11.0, this behavior will change: the default value of `keepdims` will become False, the `axis` over which the statistic is taken will be eliminated, and the value None will no longer be accepted. Set `keepdims` to True or False to avoid this warning.\n",
      "  mode, _ = stats.mode(_y[neigh_ind, k], axis=1)\n"
     ]
    },
    {
     "name": "stdout",
     "output_type": "stream",
     "text": [
      "Confusion Matrix:\n",
      "[[4702  625]\n",
      " [ 129  106]]\n",
      "K=8\n",
      "Precision: 0.14500683994528044\n",
      "Recall: 0.451063829787234\n",
      "Specificity: 0.8826731743945936\n",
      "Accuracy: 0.8644372527867673\n",
      "F1 score: 0.2194616977225673\n",
      "\n"
     ]
    },
    {
     "name": "stderr",
     "output_type": "stream",
     "text": [
      "C:\\Users\\rohan\\anaconda3\\lib\\site-packages\\sklearn\\neighbors\\_classification.py:228: FutureWarning: Unlike other reduction functions (e.g. `skew`, `kurtosis`), the default behavior of `mode` typically preserves the axis it acts along. In SciPy 1.11.0, this behavior will change: the default value of `keepdims` will become False, the `axis` over which the statistic is taken will be eliminated, and the value None will no longer be accepted. Set `keepdims` to True or False to avoid this warning.\n",
      "  mode, _ = stats.mode(_y[neigh_ind, k], axis=1)\n"
     ]
    },
    {
     "name": "stdout",
     "output_type": "stream",
     "text": [
      "Confusion Matrix:\n",
      "[[4536  791]\n",
      " [ 111  124]]\n",
      "K=9\n",
      "Precision: 0.1355191256830601\n",
      "Recall: 0.5276595744680851\n",
      "Specificity: 0.8515111695137977\n",
      "Accuracy: 0.8378281193815175\n",
      "F1 score: 0.21565217391304348\n",
      "\n"
     ]
    },
    {
     "name": "stderr",
     "output_type": "stream",
     "text": [
      "C:\\Users\\rohan\\anaconda3\\lib\\site-packages\\sklearn\\neighbors\\_classification.py:228: FutureWarning: Unlike other reduction functions (e.g. `skew`, `kurtosis`), the default behavior of `mode` typically preserves the axis it acts along. In SciPy 1.11.0, this behavior will change: the default value of `keepdims` will become False, the `axis` over which the statistic is taken will be eliminated, and the value None will no longer be accepted. Set `keepdims` to True or False to avoid this warning.\n",
      "  mode, _ = stats.mode(_y[neigh_ind, k], axis=1)\n"
     ]
    },
    {
     "name": "stdout",
     "output_type": "stream",
     "text": [
      "Confusion Matrix:\n",
      "[[4692  635]\n",
      " [ 127  108]]\n",
      "K=10\n",
      "Precision: 0.14535666218034993\n",
      "Recall: 0.4595744680851064\n",
      "Specificity: 0.8807959451849071\n",
      "Accuracy: 0.8629989212513485\n",
      "F1 score: 0.22085889570552145\n",
      "\n"
     ]
    },
    {
     "name": "stderr",
     "output_type": "stream",
     "text": [
      "C:\\Users\\rohan\\anaconda3\\lib\\site-packages\\sklearn\\neighbors\\_classification.py:228: FutureWarning: Unlike other reduction functions (e.g. `skew`, `kurtosis`), the default behavior of `mode` typically preserves the axis it acts along. In SciPy 1.11.0, this behavior will change: the default value of `keepdims` will become False, the `axis` over which the statistic is taken will be eliminated, and the value None will no longer be accepted. Set `keepdims` to True or False to avoid this warning.\n",
      "  mode, _ = stats.mode(_y[neigh_ind, k], axis=1)\n"
     ]
    },
    {
     "name": "stdout",
     "output_type": "stream",
     "text": [
      "Confusion Matrix:\n",
      "[[4565  762]\n",
      " [ 115  120]]\n",
      "K=11\n",
      "Precision: 0.1360544217687075\n",
      "Recall: 0.5106382978723404\n",
      "Specificity: 0.8569551342218885\n",
      "Accuracy: 0.8423229054297016\n",
      "F1 score: 0.21486123545210387\n",
      "\n"
     ]
    },
    {
     "name": "stderr",
     "output_type": "stream",
     "text": [
      "C:\\Users\\rohan\\anaconda3\\lib\\site-packages\\sklearn\\neighbors\\_classification.py:228: FutureWarning: Unlike other reduction functions (e.g. `skew`, `kurtosis`), the default behavior of `mode` typically preserves the axis it acts along. In SciPy 1.11.0, this behavior will change: the default value of `keepdims` will become False, the `axis` over which the statistic is taken will be eliminated, and the value None will no longer be accepted. Set `keepdims` to True or False to avoid this warning.\n",
      "  mode, _ = stats.mode(_y[neigh_ind, k], axis=1)\n"
     ]
    },
    {
     "name": "stdout",
     "output_type": "stream",
     "text": [
      "Confusion Matrix:\n",
      "[[4708  619]\n",
      " [ 127  108]]\n",
      "K=12\n",
      "Precision: 0.1485557083906465\n",
      "Recall: 0.4595744680851064\n",
      "Specificity: 0.8837995119204055\n",
      "Accuracy: 0.8658755843221863\n",
      "F1 score: 0.22453222453222457\n",
      "\n"
     ]
    },
    {
     "name": "stderr",
     "output_type": "stream",
     "text": [
      "C:\\Users\\rohan\\anaconda3\\lib\\site-packages\\sklearn\\neighbors\\_classification.py:228: FutureWarning: Unlike other reduction functions (e.g. `skew`, `kurtosis`), the default behavior of `mode` typically preserves the axis it acts along. In SciPy 1.11.0, this behavior will change: the default value of `keepdims` will become False, the `axis` over which the statistic is taken will be eliminated, and the value None will no longer be accepted. Set `keepdims` to True or False to avoid this warning.\n",
      "  mode, _ = stats.mode(_y[neigh_ind, k], axis=1)\n"
     ]
    },
    {
     "name": "stdout",
     "output_type": "stream",
     "text": [
      "Confusion Matrix:\n",
      "[[4573  754]\n",
      " [ 115  120]]\n",
      "K=13\n",
      "Precision: 0.13729977116704806\n",
      "Recall: 0.5106382978723404\n",
      "Specificity: 0.8584569175896377\n",
      "Accuracy: 0.8437612369651205\n",
      "F1 score: 0.21641118124436431\n",
      "\n"
     ]
    },
    {
     "name": "stderr",
     "output_type": "stream",
     "text": [
      "C:\\Users\\rohan\\anaconda3\\lib\\site-packages\\sklearn\\neighbors\\_classification.py:228: FutureWarning: Unlike other reduction functions (e.g. `skew`, `kurtosis`), the default behavior of `mode` typically preserves the axis it acts along. In SciPy 1.11.0, this behavior will change: the default value of `keepdims` will become False, the `axis` over which the statistic is taken will be eliminated, and the value None will no longer be accepted. Set `keepdims` to True or False to avoid this warning.\n",
      "  mode, _ = stats.mode(_y[neigh_ind, k], axis=1)\n"
     ]
    },
    {
     "name": "stdout",
     "output_type": "stream",
     "text": [
      "Confusion Matrix:\n",
      "[[4696  631]\n",
      " [ 131  104]]\n",
      "K=14\n",
      "Precision: 0.1414965986394558\n",
      "Recall: 0.4425531914893617\n",
      "Specificity: 0.8815468368687817\n",
      "Accuracy: 0.8629989212513485\n",
      "F1 score: 0.21443298969072164\n",
      "\n"
     ]
    },
    {
     "name": "stderr",
     "output_type": "stream",
     "text": [
      "C:\\Users\\rohan\\anaconda3\\lib\\site-packages\\sklearn\\neighbors\\_classification.py:228: FutureWarning: Unlike other reduction functions (e.g. `skew`, `kurtosis`), the default behavior of `mode` typically preserves the axis it acts along. In SciPy 1.11.0, this behavior will change: the default value of `keepdims` will become False, the `axis` over which the statistic is taken will be eliminated, and the value None will no longer be accepted. Set `keepdims` to True or False to avoid this warning.\n",
      "  mode, _ = stats.mode(_y[neigh_ind, k], axis=1)\n"
     ]
    },
    {
     "name": "stdout",
     "output_type": "stream",
     "text": [
      "Confusion Matrix:\n",
      "[[4599  728]\n",
      " [ 117  118]]\n",
      "K=15\n",
      "Precision: 0.13947990543735225\n",
      "Recall: 0.502127659574468\n",
      "Specificity: 0.8633377135348226\n",
      "Accuracy: 0.8480762315713772\n",
      "F1 score: 0.21831637372802962\n",
      "\n"
     ]
    },
    {
     "name": "stderr",
     "output_type": "stream",
     "text": [
      "C:\\Users\\rohan\\anaconda3\\lib\\site-packages\\sklearn\\neighbors\\_classification.py:228: FutureWarning: Unlike other reduction functions (e.g. `skew`, `kurtosis`), the default behavior of `mode` typically preserves the axis it acts along. In SciPy 1.11.0, this behavior will change: the default value of `keepdims` will become False, the `axis` over which the statistic is taken will be eliminated, and the value None will no longer be accepted. Set `keepdims` to True or False to avoid this warning.\n",
      "  mode, _ = stats.mode(_y[neigh_ind, k], axis=1)\n"
     ]
    },
    {
     "name": "stdout",
     "output_type": "stream",
     "text": [
      "Confusion Matrix:\n",
      "[[4710  617]\n",
      " [ 127  108]]\n",
      "K=16\n",
      "Precision: 0.1489655172413793\n",
      "Recall: 0.4595744680851064\n",
      "Specificity: 0.8841749577623428\n",
      "Accuracy: 0.866235167206041\n",
      "F1 score: 0.22499999999999998\n",
      "\n"
     ]
    },
    {
     "name": "stderr",
     "output_type": "stream",
     "text": [
      "C:\\Users\\rohan\\anaconda3\\lib\\site-packages\\sklearn\\neighbors\\_classification.py:228: FutureWarning: Unlike other reduction functions (e.g. `skew`, `kurtosis`), the default behavior of `mode` typically preserves the axis it acts along. In SciPy 1.11.0, this behavior will change: the default value of `keepdims` will become False, the `axis` over which the statistic is taken will be eliminated, and the value None will no longer be accepted. Set `keepdims` to True or False to avoid this warning.\n",
      "  mode, _ = stats.mode(_y[neigh_ind, k], axis=1)\n"
     ]
    },
    {
     "name": "stdout",
     "output_type": "stream",
     "text": [
      "Confusion Matrix:\n",
      "[[4614  713]\n",
      " [ 111  124]]\n",
      "K=17\n",
      "Precision: 0.14814814814814814\n",
      "Recall: 0.5276595744680851\n",
      "Specificity: 0.8661535573493524\n",
      "Accuracy: 0.8518518518518519\n",
      "F1 score: 0.23134328358208953\n",
      "\n"
     ]
    },
    {
     "name": "stderr",
     "output_type": "stream",
     "text": [
      "C:\\Users\\rohan\\anaconda3\\lib\\site-packages\\sklearn\\neighbors\\_classification.py:228: FutureWarning: Unlike other reduction functions (e.g. `skew`, `kurtosis`), the default behavior of `mode` typically preserves the axis it acts along. In SciPy 1.11.0, this behavior will change: the default value of `keepdims` will become False, the `axis` over which the statistic is taken will be eliminated, and the value None will no longer be accepted. Set `keepdims` to True or False to avoid this warning.\n",
      "  mode, _ = stats.mode(_y[neigh_ind, k], axis=1)\n"
     ]
    },
    {
     "name": "stdout",
     "output_type": "stream",
     "text": [
      "Confusion Matrix:\n",
      "[[4705  622]\n",
      " [ 121  114]]\n",
      "K=18\n",
      "Precision: 0.15489130434782608\n",
      "Recall: 0.4851063829787234\n",
      "Specificity: 0.8832363431574995\n",
      "Accuracy: 0.8664149586479684\n",
      "F1 score: 0.2348094747682801\n",
      "\n"
     ]
    },
    {
     "name": "stderr",
     "output_type": "stream",
     "text": [
      "C:\\Users\\rohan\\anaconda3\\lib\\site-packages\\sklearn\\neighbors\\_classification.py:228: FutureWarning: Unlike other reduction functions (e.g. `skew`, `kurtosis`), the default behavior of `mode` typically preserves the axis it acts along. In SciPy 1.11.0, this behavior will change: the default value of `keepdims` will become False, the `axis` over which the statistic is taken will be eliminated, and the value None will no longer be accepted. Set `keepdims` to True or False to avoid this warning.\n",
      "  mode, _ = stats.mode(_y[neigh_ind, k], axis=1)\n"
     ]
    },
    {
     "name": "stdout",
     "output_type": "stream",
     "text": [
      "Confusion Matrix:\n",
      "[[4629  698]\n",
      " [ 113  122]]\n",
      "K=19\n",
      "Precision: 0.14878048780487804\n",
      "Recall: 0.5191489361702127\n",
      "Specificity: 0.8689694011638821\n",
      "Accuracy: 0.8541891405969075\n",
      "F1 score: 0.23127962085308051\n",
      "\n"
     ]
    },
    {
     "name": "stderr",
     "output_type": "stream",
     "text": [
      "C:\\Users\\rohan\\anaconda3\\lib\\site-packages\\sklearn\\neighbors\\_classification.py:228: FutureWarning: Unlike other reduction functions (e.g. `skew`, `kurtosis`), the default behavior of `mode` typically preserves the axis it acts along. In SciPy 1.11.0, this behavior will change: the default value of `keepdims` will become False, the `axis` over which the statistic is taken will be eliminated, and the value None will no longer be accepted. Set `keepdims` to True or False to avoid this warning.\n",
      "  mode, _ = stats.mode(_y[neigh_ind, k], axis=1)\n"
     ]
    },
    {
     "name": "stdout",
     "output_type": "stream",
     "text": [
      "Confusion Matrix:\n",
      "[[4716  611]\n",
      " [ 118  117]]\n",
      "K=20\n",
      "Precision: 0.16071428571428573\n",
      "Recall: 0.4978723404255319\n",
      "Specificity: 0.8853012952881547\n",
      "Accuracy: 0.8689320388349514\n",
      "F1 score: 0.2429906542056075\n",
      "\n"
     ]
    },
    {
     "name": "stderr",
     "output_type": "stream",
     "text": [
      "C:\\Users\\rohan\\anaconda3\\lib\\site-packages\\sklearn\\neighbors\\_classification.py:228: FutureWarning: Unlike other reduction functions (e.g. `skew`, `kurtosis`), the default behavior of `mode` typically preserves the axis it acts along. In SciPy 1.11.0, this behavior will change: the default value of `keepdims` will become False, the `axis` over which the statistic is taken will be eliminated, and the value None will no longer be accepted. Set `keepdims` to True or False to avoid this warning.\n",
      "  mode, _ = stats.mode(_y[neigh_ind, k], axis=1)\n"
     ]
    },
    {
     "name": "stdout",
     "output_type": "stream",
     "text": [
      "Confusion Matrix:\n",
      "[[4647  680]\n",
      " [ 107  128]]\n",
      "K=21\n",
      "Precision: 0.15841584158415842\n",
      "Recall: 0.5446808510638298\n",
      "Specificity: 0.8723484137413178\n",
      "Accuracy: 0.8585041352031644\n",
      "F1 score: 0.2454458293384468\n",
      "\n"
     ]
    },
    {
     "name": "stderr",
     "output_type": "stream",
     "text": [
      "C:\\Users\\rohan\\anaconda3\\lib\\site-packages\\sklearn\\neighbors\\_classification.py:228: FutureWarning: Unlike other reduction functions (e.g. `skew`, `kurtosis`), the default behavior of `mode` typically preserves the axis it acts along. In SciPy 1.11.0, this behavior will change: the default value of `keepdims` will become False, the `axis` over which the statistic is taken will be eliminated, and the value None will no longer be accepted. Set `keepdims` to True or False to avoid this warning.\n",
      "  mode, _ = stats.mode(_y[neigh_ind, k], axis=1)\n"
     ]
    },
    {
     "name": "stdout",
     "output_type": "stream",
     "text": [
      "Confusion Matrix:\n",
      "[[4715  612]\n",
      " [ 116  119]]\n",
      "K=22\n",
      "Precision: 0.16279069767441862\n",
      "Recall: 0.5063829787234042\n",
      "Specificity: 0.885113572367186\n",
      "Accuracy: 0.8691118302768788\n",
      "F1 score: 0.24637681159420288\n",
      "\n"
     ]
    },
    {
     "name": "stderr",
     "output_type": "stream",
     "text": [
      "C:\\Users\\rohan\\anaconda3\\lib\\site-packages\\sklearn\\neighbors\\_classification.py:228: FutureWarning: Unlike other reduction functions (e.g. `skew`, `kurtosis`), the default behavior of `mode` typically preserves the axis it acts along. In SciPy 1.11.0, this behavior will change: the default value of `keepdims` will become False, the `axis` over which the statistic is taken will be eliminated, and the value None will no longer be accepted. Set `keepdims` to True or False to avoid this warning.\n",
      "  mode, _ = stats.mode(_y[neigh_ind, k], axis=1)\n"
     ]
    },
    {
     "name": "stdout",
     "output_type": "stream",
     "text": [
      "Confusion Matrix:\n",
      "[[4649  678]\n",
      " [ 111  124]]\n",
      "K=23\n",
      "Precision: 0.1546134663341646\n",
      "Recall: 0.5276595744680851\n",
      "Specificity: 0.8727238595832552\n",
      "Accuracy: 0.8581445523193096\n",
      "F1 score: 0.2391513982642237\n",
      "\n"
     ]
    },
    {
     "name": "stderr",
     "output_type": "stream",
     "text": [
      "C:\\Users\\rohan\\anaconda3\\lib\\site-packages\\sklearn\\neighbors\\_classification.py:228: FutureWarning: Unlike other reduction functions (e.g. `skew`, `kurtosis`), the default behavior of `mode` typically preserves the axis it acts along. In SciPy 1.11.0, this behavior will change: the default value of `keepdims` will become False, the `axis` over which the statistic is taken will be eliminated, and the value None will no longer be accepted. Set `keepdims` to True or False to avoid this warning.\n",
      "  mode, _ = stats.mode(_y[neigh_ind, k], axis=1)\n"
     ]
    },
    {
     "name": "stdout",
     "output_type": "stream",
     "text": [
      "Confusion Matrix:\n",
      "[[4717  610]\n",
      " [ 120  115]]\n",
      "K=24\n",
      "Precision: 0.15862068965517243\n",
      "Recall: 0.48936170212765956\n",
      "Specificity: 0.8854890182091233\n",
      "Accuracy: 0.8687522473930241\n",
      "F1 score: 0.23958333333333334\n",
      "\n"
     ]
    },
    {
     "name": "stderr",
     "output_type": "stream",
     "text": [
      "C:\\Users\\rohan\\anaconda3\\lib\\site-packages\\sklearn\\neighbors\\_classification.py:228: FutureWarning: Unlike other reduction functions (e.g. `skew`, `kurtosis`), the default behavior of `mode` typically preserves the axis it acts along. In SciPy 1.11.0, this behavior will change: the default value of `keepdims` will become False, the `axis` over which the statistic is taken will be eliminated, and the value None will no longer be accepted. Set `keepdims` to True or False to avoid this warning.\n",
      "  mode, _ = stats.mode(_y[neigh_ind, k], axis=1)\n"
     ]
    },
    {
     "name": "stdout",
     "output_type": "stream",
     "text": [
      "Confusion Matrix:\n",
      "[[4650  677]\n",
      " [ 115  120]]\n",
      "K=25\n",
      "Precision: 0.15056461731493098\n",
      "Recall: 0.5106382978723404\n",
      "Specificity: 0.8729115825042237\n",
      "Accuracy: 0.8576051779935275\n",
      "F1 score: 0.23255813953488372\n",
      "\n"
     ]
    },
    {
     "name": "stderr",
     "output_type": "stream",
     "text": [
      "C:\\Users\\rohan\\anaconda3\\lib\\site-packages\\sklearn\\neighbors\\_classification.py:228: FutureWarning: Unlike other reduction functions (e.g. `skew`, `kurtosis`), the default behavior of `mode` typically preserves the axis it acts along. In SciPy 1.11.0, this behavior will change: the default value of `keepdims` will become False, the `axis` over which the statistic is taken will be eliminated, and the value None will no longer be accepted. Set `keepdims` to True or False to avoid this warning.\n",
      "  mode, _ = stats.mode(_y[neigh_ind, k], axis=1)\n"
     ]
    },
    {
     "name": "stdout",
     "output_type": "stream",
     "text": [
      "Confusion Matrix:\n",
      "[[4705  622]\n",
      " [ 119  116]]\n",
      "K=26\n",
      "Precision: 0.15718157181571815\n",
      "Recall: 0.49361702127659574\n",
      "Specificity: 0.8832363431574995\n",
      "Accuracy: 0.8667745415318231\n",
      "F1 score: 0.2384378211716341\n",
      "\n"
     ]
    },
    {
     "name": "stderr",
     "output_type": "stream",
     "text": [
      "C:\\Users\\rohan\\anaconda3\\lib\\site-packages\\sklearn\\neighbors\\_classification.py:228: FutureWarning: Unlike other reduction functions (e.g. `skew`, `kurtosis`), the default behavior of `mode` typically preserves the axis it acts along. In SciPy 1.11.0, this behavior will change: the default value of `keepdims` will become False, the `axis` over which the statistic is taken will be eliminated, and the value None will no longer be accepted. Set `keepdims` to True or False to avoid this warning.\n",
      "  mode, _ = stats.mode(_y[neigh_ind, k], axis=1)\n"
     ]
    },
    {
     "name": "stdout",
     "output_type": "stream",
     "text": [
      "Confusion Matrix:\n",
      "[[4648  679]\n",
      " [ 113  122]]\n",
      "K=27\n",
      "Precision: 0.1523096129837703\n",
      "Recall: 0.5191489361702127\n",
      "Specificity: 0.8725361366622865\n",
      "Accuracy: 0.8576051779935275\n",
      "F1 score: 0.23552123552123552\n",
      "\n"
     ]
    },
    {
     "name": "stderr",
     "output_type": "stream",
     "text": [
      "C:\\Users\\rohan\\anaconda3\\lib\\site-packages\\sklearn\\neighbors\\_classification.py:228: FutureWarning: Unlike other reduction functions (e.g. `skew`, `kurtosis`), the default behavior of `mode` typically preserves the axis it acts along. In SciPy 1.11.0, this behavior will change: the default value of `keepdims` will become False, the `axis` over which the statistic is taken will be eliminated, and the value None will no longer be accepted. Set `keepdims` to True or False to avoid this warning.\n",
      "  mode, _ = stats.mode(_y[neigh_ind, k], axis=1)\n"
     ]
    },
    {
     "name": "stdout",
     "output_type": "stream",
     "text": [
      "Confusion Matrix:\n",
      "[[4707  620]\n",
      " [ 119  116]]\n",
      "K=28\n",
      "Precision: 0.15760869565217392\n",
      "Recall: 0.49361702127659574\n",
      "Specificity: 0.8836117889994368\n",
      "Accuracy: 0.8671341244156778\n",
      "F1 score: 0.23892893923789907\n",
      "\n"
     ]
    },
    {
     "name": "stderr",
     "output_type": "stream",
     "text": [
      "C:\\Users\\rohan\\anaconda3\\lib\\site-packages\\sklearn\\neighbors\\_classification.py:228: FutureWarning: Unlike other reduction functions (e.g. `skew`, `kurtosis`), the default behavior of `mode` typically preserves the axis it acts along. In SciPy 1.11.0, this behavior will change: the default value of `keepdims` will become False, the `axis` over which the statistic is taken will be eliminated, and the value None will no longer be accepted. Set `keepdims` to True or False to avoid this warning.\n",
      "  mode, _ = stats.mode(_y[neigh_ind, k], axis=1)\n"
     ]
    },
    {
     "name": "stdout",
     "output_type": "stream",
     "text": [
      "Confusion Matrix:\n",
      "[[4647  680]\n",
      " [ 112  123]]\n",
      "K=29\n",
      "Precision: 0.15317559153175592\n",
      "Recall: 0.5234042553191489\n",
      "Specificity: 0.8723484137413178\n",
      "Accuracy: 0.8576051779935275\n",
      "F1 score: 0.2369942196531792\n",
      "\n"
     ]
    },
    {
     "name": "stderr",
     "output_type": "stream",
     "text": [
      "C:\\Users\\rohan\\anaconda3\\lib\\site-packages\\sklearn\\neighbors\\_classification.py:228: FutureWarning: Unlike other reduction functions (e.g. `skew`, `kurtosis`), the default behavior of `mode` typically preserves the axis it acts along. In SciPy 1.11.0, this behavior will change: the default value of `keepdims` will become False, the `axis` over which the statistic is taken will be eliminated, and the value None will no longer be accepted. Set `keepdims` to True or False to avoid this warning.\n",
      "  mode, _ = stats.mode(_y[neigh_ind, k], axis=1)\n"
     ]
    },
    {
     "name": "stdout",
     "output_type": "stream",
     "text": [
      "Confusion Matrix:\n",
      "[[4706  621]\n",
      " [ 121  114]]\n",
      "K=30\n",
      "Precision: 0.15510204081632653\n",
      "Recall: 0.4851063829787234\n",
      "Specificity: 0.8834240660784681\n",
      "Accuracy: 0.8665947500898957\n",
      "F1 score: 0.23505154639175257\n",
      "\n"
     ]
    },
    {
     "name": "stderr",
     "output_type": "stream",
     "text": [
      "C:\\Users\\rohan\\anaconda3\\lib\\site-packages\\sklearn\\neighbors\\_classification.py:228: FutureWarning: Unlike other reduction functions (e.g. `skew`, `kurtosis`), the default behavior of `mode` typically preserves the axis it acts along. In SciPy 1.11.0, this behavior will change: the default value of `keepdims` will become False, the `axis` over which the statistic is taken will be eliminated, and the value None will no longer be accepted. Set `keepdims` to True or False to avoid this warning.\n",
      "  mode, _ = stats.mode(_y[neigh_ind, k], axis=1)\n"
     ]
    },
    {
     "name": "stdout",
     "output_type": "stream",
     "text": [
      "Confusion Matrix:\n",
      "[[4653  674]\n",
      " [ 113  122]]\n",
      "K=31\n",
      "Precision: 0.15326633165829145\n",
      "Recall: 0.5191489361702127\n",
      "Specificity: 0.8734747512671297\n",
      "Accuracy: 0.8585041352031644\n",
      "F1 score: 0.23666343355965078\n",
      "\n"
     ]
    },
    {
     "name": "stderr",
     "output_type": "stream",
     "text": [
      "C:\\Users\\rohan\\anaconda3\\lib\\site-packages\\sklearn\\neighbors\\_classification.py:228: FutureWarning: Unlike other reduction functions (e.g. `skew`, `kurtosis`), the default behavior of `mode` typically preserves the axis it acts along. In SciPy 1.11.0, this behavior will change: the default value of `keepdims` will become False, the `axis` over which the statistic is taken will be eliminated, and the value None will no longer be accepted. Set `keepdims` to True or False to avoid this warning.\n",
      "  mode, _ = stats.mode(_y[neigh_ind, k], axis=1)\n"
     ]
    },
    {
     "name": "stdout",
     "output_type": "stream",
     "text": [
      "Confusion Matrix:\n",
      "[[4719  608]\n",
      " [ 119  116]]\n",
      "K=32\n",
      "Precision: 0.16022099447513813\n",
      "Recall: 0.49361702127659574\n",
      "Specificity: 0.8858644640510607\n",
      "Accuracy: 0.8692916217188061\n",
      "F1 score: 0.24191866527632955\n",
      "\n"
     ]
    },
    {
     "name": "stderr",
     "output_type": "stream",
     "text": [
      "C:\\Users\\rohan\\anaconda3\\lib\\site-packages\\sklearn\\neighbors\\_classification.py:228: FutureWarning: Unlike other reduction functions (e.g. `skew`, `kurtosis`), the default behavior of `mode` typically preserves the axis it acts along. In SciPy 1.11.0, this behavior will change: the default value of `keepdims` will become False, the `axis` over which the statistic is taken will be eliminated, and the value None will no longer be accepted. Set `keepdims` to True or False to avoid this warning.\n",
      "  mode, _ = stats.mode(_y[neigh_ind, k], axis=1)\n"
     ]
    },
    {
     "name": "stdout",
     "output_type": "stream",
     "text": [
      "Confusion Matrix:\n",
      "[[4669  658]\n",
      " [ 114  121]]\n",
      "K=33\n",
      "Precision: 0.15532734274711169\n",
      "Recall: 0.5148936170212766\n",
      "Specificity: 0.8764783180026281\n",
      "Accuracy: 0.8612010068320748\n",
      "F1 score: 0.2386587771203156\n",
      "\n"
     ]
    },
    {
     "name": "stderr",
     "output_type": "stream",
     "text": [
      "C:\\Users\\rohan\\anaconda3\\lib\\site-packages\\sklearn\\neighbors\\_classification.py:228: FutureWarning: Unlike other reduction functions (e.g. `skew`, `kurtosis`), the default behavior of `mode` typically preserves the axis it acts along. In SciPy 1.11.0, this behavior will change: the default value of `keepdims` will become False, the `axis` over which the statistic is taken will be eliminated, and the value None will no longer be accepted. Set `keepdims` to True or False to avoid this warning.\n",
      "  mode, _ = stats.mode(_y[neigh_ind, k], axis=1)\n"
     ]
    },
    {
     "name": "stdout",
     "output_type": "stream",
     "text": [
      "Confusion Matrix:\n",
      "[[4721  606]\n",
      " [ 117  118]]\n",
      "K=34\n",
      "Precision: 0.16298342541436464\n",
      "Recall: 0.502127659574468\n",
      "Specificity: 0.886239909892998\n",
      "Accuracy: 0.8700107874865156\n",
      "F1 score: 0.24608967674661106\n",
      "\n"
     ]
    },
    {
     "name": "stderr",
     "output_type": "stream",
     "text": [
      "C:\\Users\\rohan\\anaconda3\\lib\\site-packages\\sklearn\\neighbors\\_classification.py:228: FutureWarning: Unlike other reduction functions (e.g. `skew`, `kurtosis`), the default behavior of `mode` typically preserves the axis it acts along. In SciPy 1.11.0, this behavior will change: the default value of `keepdims` will become False, the `axis` over which the statistic is taken will be eliminated, and the value None will no longer be accepted. Set `keepdims` to True or False to avoid this warning.\n",
      "  mode, _ = stats.mode(_y[neigh_ind, k], axis=1)\n"
     ]
    },
    {
     "name": "stdout",
     "output_type": "stream",
     "text": [
      "Confusion Matrix:\n",
      "[[4669  658]\n",
      " [ 113  122]]\n",
      "K=35\n",
      "Precision: 0.1564102564102564\n",
      "Recall: 0.5191489361702127\n",
      "Specificity: 0.8764783180026281\n",
      "Accuracy: 0.8613807982740022\n",
      "F1 score: 0.24039408866995074\n",
      "\n"
     ]
    },
    {
     "name": "stderr",
     "output_type": "stream",
     "text": [
      "C:\\Users\\rohan\\anaconda3\\lib\\site-packages\\sklearn\\neighbors\\_classification.py:228: FutureWarning: Unlike other reduction functions (e.g. `skew`, `kurtosis`), the default behavior of `mode` typically preserves the axis it acts along. In SciPy 1.11.0, this behavior will change: the default value of `keepdims` will become False, the `axis` over which the statistic is taken will be eliminated, and the value None will no longer be accepted. Set `keepdims` to True or False to avoid this warning.\n",
      "  mode, _ = stats.mode(_y[neigh_ind, k], axis=1)\n"
     ]
    },
    {
     "name": "stdout",
     "output_type": "stream",
     "text": [
      "Confusion Matrix:\n",
      "[[4712  615]\n",
      " [ 120  115]]\n",
      "K=36\n",
      "Precision: 0.15753424657534246\n",
      "Recall: 0.48936170212765956\n",
      "Specificity: 0.8845504036042801\n",
      "Accuracy: 0.8678532901833873\n",
      "F1 score: 0.23834196891191708\n",
      "\n"
     ]
    },
    {
     "name": "stderr",
     "output_type": "stream",
     "text": [
      "C:\\Users\\rohan\\anaconda3\\lib\\site-packages\\sklearn\\neighbors\\_classification.py:228: FutureWarning: Unlike other reduction functions (e.g. `skew`, `kurtosis`), the default behavior of `mode` typically preserves the axis it acts along. In SciPy 1.11.0, this behavior will change: the default value of `keepdims` will become False, the `axis` over which the statistic is taken will be eliminated, and the value None will no longer be accepted. Set `keepdims` to True or False to avoid this warning.\n",
      "  mode, _ = stats.mode(_y[neigh_ind, k], axis=1)\n"
     ]
    },
    {
     "name": "stdout",
     "output_type": "stream",
     "text": [
      "Confusion Matrix:\n",
      "[[4666  661]\n",
      " [ 115  120]]\n",
      "K=37\n",
      "Precision: 0.15364916773367476\n",
      "Recall: 0.5106382978723404\n",
      "Specificity: 0.8759151492397221\n",
      "Accuracy: 0.8604818410643653\n",
      "F1 score: 0.23622047244094488\n",
      "\n"
     ]
    },
    {
     "name": "stderr",
     "output_type": "stream",
     "text": [
      "C:\\Users\\rohan\\anaconda3\\lib\\site-packages\\sklearn\\neighbors\\_classification.py:228: FutureWarning: Unlike other reduction functions (e.g. `skew`, `kurtosis`), the default behavior of `mode` typically preserves the axis it acts along. In SciPy 1.11.0, this behavior will change: the default value of `keepdims` will become False, the `axis` over which the statistic is taken will be eliminated, and the value None will no longer be accepted. Set `keepdims` to True or False to avoid this warning.\n",
      "  mode, _ = stats.mode(_y[neigh_ind, k], axis=1)\n"
     ]
    },
    {
     "name": "stdout",
     "output_type": "stream",
     "text": [
      "Confusion Matrix:\n",
      "[[4718  609]\n",
      " [ 124  111]]\n",
      "K=38\n",
      "Precision: 0.15416666666666667\n",
      "Recall: 0.4723404255319149\n",
      "Specificity: 0.885676741130092\n",
      "Accuracy: 0.868212873067242\n",
      "F1 score: 0.23246073298429323\n",
      "\n"
     ]
    },
    {
     "name": "stderr",
     "output_type": "stream",
     "text": [
      "C:\\Users\\rohan\\anaconda3\\lib\\site-packages\\sklearn\\neighbors\\_classification.py:228: FutureWarning: Unlike other reduction functions (e.g. `skew`, `kurtosis`), the default behavior of `mode` typically preserves the axis it acts along. In SciPy 1.11.0, this behavior will change: the default value of `keepdims` will become False, the `axis` over which the statistic is taken will be eliminated, and the value None will no longer be accepted. Set `keepdims` to True or False to avoid this warning.\n",
      "  mode, _ = stats.mode(_y[neigh_ind, k], axis=1)\n"
     ]
    },
    {
     "name": "stdout",
     "output_type": "stream",
     "text": [
      "Confusion Matrix:\n",
      "[[4684  643]\n",
      " [ 117  118]]\n",
      "K=39\n",
      "Precision: 0.15505913272010513\n",
      "Recall: 0.502127659574468\n",
      "Specificity: 0.8792941618171579\n",
      "Accuracy: 0.8633585041352032\n",
      "F1 score: 0.23694779116465864\n",
      "\n"
     ]
    },
    {
     "name": "stderr",
     "output_type": "stream",
     "text": [
      "C:\\Users\\rohan\\anaconda3\\lib\\site-packages\\sklearn\\neighbors\\_classification.py:228: FutureWarning: Unlike other reduction functions (e.g. `skew`, `kurtosis`), the default behavior of `mode` typically preserves the axis it acts along. In SciPy 1.11.0, this behavior will change: the default value of `keepdims` will become False, the `axis` over which the statistic is taken will be eliminated, and the value None will no longer be accepted. Set `keepdims` to True or False to avoid this warning.\n",
      "  mode, _ = stats.mode(_y[neigh_ind, k], axis=1)\n"
     ]
    },
    {
     "name": "stdout",
     "output_type": "stream",
     "text": [
      "Confusion Matrix:\n",
      "[[4724  603]\n",
      " [ 124  111]]\n",
      "K=40\n",
      "Precision: 0.15546218487394958\n",
      "Recall: 0.4723404255319149\n",
      "Specificity: 0.8868030786559039\n",
      "Accuracy: 0.8692916217188061\n",
      "F1 score: 0.2339304531085353\n",
      "\n"
     ]
    },
    {
     "name": "stderr",
     "output_type": "stream",
     "text": [
      "C:\\Users\\rohan\\anaconda3\\lib\\site-packages\\sklearn\\neighbors\\_classification.py:228: FutureWarning: Unlike other reduction functions (e.g. `skew`, `kurtosis`), the default behavior of `mode` typically preserves the axis it acts along. In SciPy 1.11.0, this behavior will change: the default value of `keepdims` will become False, the `axis` over which the statistic is taken will be eliminated, and the value None will no longer be accepted. Set `keepdims` to True or False to avoid this warning.\n",
      "  mode, _ = stats.mode(_y[neigh_ind, k], axis=1)\n"
     ]
    },
    {
     "name": "stdout",
     "output_type": "stream",
     "text": [
      "Confusion Matrix:\n",
      "[[4673  654]\n",
      " [ 115  120]]\n",
      "K=41\n",
      "Precision: 0.15503875968992248\n",
      "Recall: 0.5106382978723404\n",
      "Specificity: 0.8772292096865028\n",
      "Accuracy: 0.8617403811578569\n",
      "F1 score: 0.23785926660059467\n",
      "\n"
     ]
    },
    {
     "name": "stderr",
     "output_type": "stream",
     "text": [
      "C:\\Users\\rohan\\anaconda3\\lib\\site-packages\\sklearn\\neighbors\\_classification.py:228: FutureWarning: Unlike other reduction functions (e.g. `skew`, `kurtosis`), the default behavior of `mode` typically preserves the axis it acts along. In SciPy 1.11.0, this behavior will change: the default value of `keepdims` will become False, the `axis` over which the statistic is taken will be eliminated, and the value None will no longer be accepted. Set `keepdims` to True or False to avoid this warning.\n",
      "  mode, _ = stats.mode(_y[neigh_ind, k], axis=1)\n"
     ]
    },
    {
     "name": "stdout",
     "output_type": "stream",
     "text": [
      "Confusion Matrix:\n",
      "[[4719  608]\n",
      " [ 121  114]]\n",
      "K=42\n",
      "Precision: 0.15789473684210525\n",
      "Recall: 0.4851063829787234\n",
      "Specificity: 0.8858644640510607\n",
      "Accuracy: 0.8689320388349514\n",
      "F1 score: 0.23824451410658304\n",
      "\n"
     ]
    },
    {
     "name": "stderr",
     "output_type": "stream",
     "text": [
      "C:\\Users\\rohan\\anaconda3\\lib\\site-packages\\sklearn\\neighbors\\_classification.py:228: FutureWarning: Unlike other reduction functions (e.g. `skew`, `kurtosis`), the default behavior of `mode` typically preserves the axis it acts along. In SciPy 1.11.0, this behavior will change: the default value of `keepdims` will become False, the `axis` over which the statistic is taken will be eliminated, and the value None will no longer be accepted. Set `keepdims` to True or False to avoid this warning.\n",
      "  mode, _ = stats.mode(_y[neigh_ind, k], axis=1)\n"
     ]
    },
    {
     "name": "stdout",
     "output_type": "stream",
     "text": [
      "Confusion Matrix:\n",
      "[[4678  649]\n",
      " [ 117  118]]\n",
      "K=43\n",
      "Precision: 0.15384615384615385\n",
      "Recall: 0.502127659574468\n",
      "Specificity: 0.878167824291346\n",
      "Accuracy: 0.862279755483639\n",
      "F1 score: 0.23552894211576847\n",
      "\n"
     ]
    },
    {
     "name": "stderr",
     "output_type": "stream",
     "text": [
      "C:\\Users\\rohan\\anaconda3\\lib\\site-packages\\sklearn\\neighbors\\_classification.py:228: FutureWarning: Unlike other reduction functions (e.g. `skew`, `kurtosis`), the default behavior of `mode` typically preserves the axis it acts along. In SciPy 1.11.0, this behavior will change: the default value of `keepdims` will become False, the `axis` over which the statistic is taken will be eliminated, and the value None will no longer be accepted. Set `keepdims` to True or False to avoid this warning.\n",
      "  mode, _ = stats.mode(_y[neigh_ind, k], axis=1)\n"
     ]
    },
    {
     "name": "stdout",
     "output_type": "stream",
     "text": [
      "Confusion Matrix:\n",
      "[[4717  610]\n",
      " [ 119  116]]\n",
      "K=44\n",
      "Precision: 0.15977961432506887\n",
      "Recall: 0.49361702127659574\n",
      "Specificity: 0.8854890182091233\n",
      "Accuracy: 0.8689320388349514\n",
      "F1 score: 0.24141519250780435\n",
      "\n"
     ]
    },
    {
     "name": "stderr",
     "output_type": "stream",
     "text": [
      "C:\\Users\\rohan\\anaconda3\\lib\\site-packages\\sklearn\\neighbors\\_classification.py:228: FutureWarning: Unlike other reduction functions (e.g. `skew`, `kurtosis`), the default behavior of `mode` typically preserves the axis it acts along. In SciPy 1.11.0, this behavior will change: the default value of `keepdims` will become False, the `axis` over which the statistic is taken will be eliminated, and the value None will no longer be accepted. Set `keepdims` to True or False to avoid this warning.\n",
      "  mode, _ = stats.mode(_y[neigh_ind, k], axis=1)\n"
     ]
    },
    {
     "name": "stdout",
     "output_type": "stream",
     "text": [
      "Confusion Matrix:\n",
      "[[4677  650]\n",
      " [ 117  118]]\n",
      "K=45\n",
      "Precision: 0.15364583333333334\n",
      "Recall: 0.502127659574468\n",
      "Specificity: 0.8779801013703773\n",
      "Accuracy: 0.8620999640417116\n",
      "F1 score: 0.2352941176470588\n",
      "\n"
     ]
    },
    {
     "name": "stderr",
     "output_type": "stream",
     "text": [
      "C:\\Users\\rohan\\anaconda3\\lib\\site-packages\\sklearn\\neighbors\\_classification.py:228: FutureWarning: Unlike other reduction functions (e.g. `skew`, `kurtosis`), the default behavior of `mode` typically preserves the axis it acts along. In SciPy 1.11.0, this behavior will change: the default value of `keepdims` will become False, the `axis` over which the statistic is taken will be eliminated, and the value None will no longer be accepted. Set `keepdims` to True or False to avoid this warning.\n",
      "  mode, _ = stats.mode(_y[neigh_ind, k], axis=1)\n"
     ]
    },
    {
     "name": "stdout",
     "output_type": "stream",
     "text": [
      "Confusion Matrix:\n",
      "[[4719  608]\n",
      " [ 121  114]]\n",
      "K=46\n",
      "Precision: 0.15789473684210525\n",
      "Recall: 0.4851063829787234\n",
      "Specificity: 0.8858644640510607\n",
      "Accuracy: 0.8689320388349514\n",
      "F1 score: 0.23824451410658304\n",
      "\n"
     ]
    },
    {
     "name": "stderr",
     "output_type": "stream",
     "text": [
      "C:\\Users\\rohan\\anaconda3\\lib\\site-packages\\sklearn\\neighbors\\_classification.py:228: FutureWarning: Unlike other reduction functions (e.g. `skew`, `kurtosis`), the default behavior of `mode` typically preserves the axis it acts along. In SciPy 1.11.0, this behavior will change: the default value of `keepdims` will become False, the `axis` over which the statistic is taken will be eliminated, and the value None will no longer be accepted. Set `keepdims` to True or False to avoid this warning.\n",
      "  mode, _ = stats.mode(_y[neigh_ind, k], axis=1)\n"
     ]
    },
    {
     "name": "stdout",
     "output_type": "stream",
     "text": [
      "Confusion Matrix:\n",
      "[[4678  649]\n",
      " [ 116  119]]\n",
      "K=47\n",
      "Precision: 0.15494791666666666\n",
      "Recall: 0.5063829787234042\n",
      "Specificity: 0.878167824291346\n",
      "Accuracy: 0.8624595469255664\n",
      "F1 score: 0.23728813559322035\n",
      "\n"
     ]
    },
    {
     "name": "stderr",
     "output_type": "stream",
     "text": [
      "C:\\Users\\rohan\\anaconda3\\lib\\site-packages\\sklearn\\neighbors\\_classification.py:228: FutureWarning: Unlike other reduction functions (e.g. `skew`, `kurtosis`), the default behavior of `mode` typically preserves the axis it acts along. In SciPy 1.11.0, this behavior will change: the default value of `keepdims` will become False, the `axis` over which the statistic is taken will be eliminated, and the value None will no longer be accepted. Set `keepdims` to True or False to avoid this warning.\n",
      "  mode, _ = stats.mode(_y[neigh_ind, k], axis=1)\n"
     ]
    },
    {
     "name": "stdout",
     "output_type": "stream",
     "text": [
      "Confusion Matrix:\n",
      "[[4710  617]\n",
      " [ 125  110]]\n",
      "K=48\n",
      "Precision: 0.15130674002751032\n",
      "Recall: 0.46808510638297873\n",
      "Specificity: 0.8841749577623428\n",
      "Accuracy: 0.8665947500898957\n",
      "F1 score: 0.22869022869022873\n",
      "\n"
     ]
    },
    {
     "name": "stderr",
     "output_type": "stream",
     "text": [
      "C:\\Users\\rohan\\anaconda3\\lib\\site-packages\\sklearn\\neighbors\\_classification.py:228: FutureWarning: Unlike other reduction functions (e.g. `skew`, `kurtosis`), the default behavior of `mode` typically preserves the axis it acts along. In SciPy 1.11.0, this behavior will change: the default value of `keepdims` will become False, the `axis` over which the statistic is taken will be eliminated, and the value None will no longer be accepted. Set `keepdims` to True or False to avoid this warning.\n",
      "  mode, _ = stats.mode(_y[neigh_ind, k], axis=1)\n"
     ]
    },
    {
     "name": "stdout",
     "output_type": "stream",
     "text": [
      "Confusion Matrix:\n",
      "[[4681  646]\n",
      " [ 118  117]]\n",
      "K=49\n",
      "Precision: 0.15334207077326342\n",
      "Recall: 0.4978723404255319\n",
      "Specificity: 0.878730993054252\n",
      "Accuracy: 0.8626393383674937\n",
      "F1 score: 0.2344689378757515\n",
      "\n",
      "Confusion Matrix:\n",
      "[[4724  603]\n",
      " [ 123  112]]\n",
      "K=50\n",
      "Precision: 0.15664335664335666\n",
      "Recall: 0.4765957446808511\n",
      "Specificity: 0.8868030786559039\n",
      "Accuracy: 0.8694714131607335\n",
      "F1 score: 0.23578947368421052\n",
      "\n"
     ]
    },
    {
     "name": "stderr",
     "output_type": "stream",
     "text": [
      "C:\\Users\\rohan\\anaconda3\\lib\\site-packages\\sklearn\\neighbors\\_classification.py:228: FutureWarning: Unlike other reduction functions (e.g. `skew`, `kurtosis`), the default behavior of `mode` typically preserves the axis it acts along. In SciPy 1.11.0, this behavior will change: the default value of `keepdims` will become False, the `axis` over which the statistic is taken will be eliminated, and the value None will no longer be accepted. Set `keepdims` to True or False to avoid this warning.\n",
      "  mode, _ = stats.mode(_y[neigh_ind, k], axis=1)\n"
     ]
    }
   ],
   "source": [
    "klist=list(range(1,51))\n",
    "averages=[]\n",
    "k=1\n",
    "for i in range(50):\n",
    "    # Training KNN\n",
    "    knn = KNeighborsClassifier(n_neighbors=k)  \n",
    "    knn.fit(x_train, y_train)  # Use the training data\n",
    "    predlabel = knn.predict(x_val)  # Predict on the validation set\n",
    "\n",
    "    # Confusion matrix\n",
    "    confMat = metrics.confusion_matrix(y_val, predlabel)\n",
    "    print(\"Confusion Matrix:\")\n",
    "    print(confMat)\n",
    "    print(f'K={k}')\n",
    "\n",
    "    # Calculating averages\n",
    "    averages.append(accuracy(confMat,0))\n",
    "    print(accuracy(confMat))\n",
    "    print(\"\")\n",
    "    k+=1"
   ]
  },
  {
   "cell_type": "code",
   "execution_count": 25,
   "metadata": {},
   "outputs": [
    {
     "data": {
      "image/png": "[encoded data removed]",
      "text/plain": [
       "<Figure size 640x480 with 1 Axes>"
      ]
     },
     "metadata": {},
     "output_type": "display_data"
    },
    {
     "name": "stdout",
     "output_type": "stream",
     "text": [
      "22\n"
     ]
    }
   ],
   "source": [
    "# Plot of the optimal number of neighbors\n",
    "plt.plot(klist, averages)\n",
    "plt.xlabel(\"Number of Neighbors\")\n",
    "plt.ylabel(\"F1 Score\")\n",
    "plt.title(\"F1 Score vs Number of Neighbors\")\n",
    "plt.show()\n",
    "# The optimal number of neighbors\n",
    "print(averages.index(max(averages))+1)"
   ]
  },
  {
   "cell_type": "markdown",
   "metadata": {},
   "source": [
    "# KNN: Testing"
   ]
  },
  {
   "cell_type": "code",
   "execution_count": 26,
   "metadata": {},
   "outputs": [
    {
     "name": "stdout",
     "output_type": "stream",
     "text": [
      "Confusion Matrix:\n",
      "[[4688  645]\n",
      " [ 106  123]]\n",
      "Precision: 0.16015625\n",
      "Recall: 0.537117903930131\n",
      "Specificity: 0.8790549409338083\n",
      "Accuracy: 0.8649766271125494\n",
      "F1 score: 0.24674022066198595\n"
     ]
    },
    {
     "name": "stderr",
     "output_type": "stream",
     "text": [
      "C:\\Users\\rohan\\anaconda3\\lib\\site-packages\\sklearn\\neighbors\\_classification.py:228: FutureWarning: Unlike other reduction functions (e.g. `skew`, `kurtosis`), the default behavior of `mode` typically preserves the axis it acts along. In SciPy 1.11.0, this behavior will change: the default value of `keepdims` will become False, the `axis` over which the statistic is taken will be eliminated, and the value None will no longer be accepted. Set `keepdims` to True or False to avoid this warning.\n",
      "  mode, _ = stats.mode(_y[neigh_ind, k], axis=1)\n"
     ]
    }
   ],
   "source": [
    "# Training KNN\n",
    "knn = KNeighborsClassifier(n_neighbors=22)  \n",
    "knn.fit(x_train, y_train)\n",
    "predlabel = knn.predict(x_test)\n",
    "\n",
    "# Confusion matrix\n",
    "confMat = metrics.confusion_matrix(y_test, predlabel)\n",
    "print(\"Confusion Matrix:\")\n",
    "print(confMat)\n",
    "\n",
    "# Calculating accuracy\n",
    "print(accuracy(confMat))"
   ]
  },
  {
   "cell_type": "markdown",
   "metadata": {},
   "source": [
    "# Vote: Validation"
   ]
  },
  {
   "cell_type": "code",
   "execution_count": 27,
   "metadata": {},
   "outputs": [
    {
     "name": "stderr",
     "output_type": "stream",
     "text": [
      "C:\\Users\\rohan\\anaconda3\\lib\\site-packages\\sklearn\\neighbors\\_classification.py:228: FutureWarning: Unlike other reduction functions (e.g. `skew`, `kurtosis`), the default behavior of `mode` typically preserves the axis it acts along. In SciPy 1.11.0, this behavior will change: the default value of `keepdims` will become False, the `axis` over which the statistic is taken will be eliminated, and the value None will no longer be accepted. Set `keepdims` to True or False to avoid this warning.\n",
      "  mode, _ = stats.mode(_y[neigh_ind, k], axis=1)\n"
     ]
    },
    {
     "name": "stdout",
     "output_type": "stream",
     "text": [
      "Confusion Matrix:\n",
      "[[4986  341]\n",
      " [ 133  102]]\n",
      "Precision: 0.23024830699774265\n",
      "Recall: 0.4340425531914894\n",
      "Specificity: 0.9359864839496903\n",
      "Accuracy: 0.9147788565264293\n"
     ]
    },
    {
     "data": {
      "text/plain": [
       "'F1 score: 0.30088495575221236'"
      ]
     },
     "execution_count": 27,
     "metadata": {},
     "output_type": "execute_result"
    }
   ],
   "source": [
    "# We use the tuned hyperparameters from above\n",
    "svm = SVC(C=1, gamma=0.1, kernel='rbf', class_weight='balanced')\n",
    "lr = LogisticRegression(solver = \"lbfgs\", class_weight={0:0.67, 1:0.33}, verbose=1, random_state = 2)\n",
    "knn = KNeighborsClassifier(n_neighbors=22)\n",
    "voting_clf = VotingClassifier(estimators=[('knn', knn), ('svm', svm), ('lr', lr)], voting='hard')\n",
    "voting_clf.fit(x_train, y_train)  # Use the training data\n",
    "predlabel = voting_clf.predict(x_val)  # Predict on the validation set\n",
    "\n",
    "# Confusion matrix\n",
    "confMat = metrics.confusion_matrix(y_val, predlabel)\n",
    "print(\"Confusion Matrix:\")\n",
    "print(confMat)\n",
    "\n",
    "# Calculating metrics\n",
    "accuracy(confMat)"
   ]
  },
  {
   "cell_type": "markdown",
   "metadata": {},
   "source": [
    "# Vote: Testing"
   ]
  },
  {
   "cell_type": "code",
   "execution_count": 28,
   "metadata": {},
   "outputs": [
    {
     "name": "stderr",
     "output_type": "stream",
     "text": [
      "C:\\Users\\rohan\\anaconda3\\lib\\site-packages\\sklearn\\neighbors\\_classification.py:228: FutureWarning: Unlike other reduction functions (e.g. `skew`, `kurtosis`), the default behavior of `mode` typically preserves the axis it acts along. In SciPy 1.11.0, this behavior will change: the default value of `keepdims` will become False, the `axis` over which the statistic is taken will be eliminated, and the value None will no longer be accepted. Set `keepdims` to True or False to avoid this warning.\n",
      "  mode, _ = stats.mode(_y[neigh_ind, k], axis=1)\n"
     ]
    },
    {
     "name": "stdout",
     "output_type": "stream",
     "text": [
      "Confusion Matrix:\n",
      "[[4956  377]\n",
      " [ 125  104]]\n",
      "Precision: 0.21621621621621623\n",
      "Recall: 0.45414847161572053\n",
      "Specificity: 0.9293080817551097\n",
      "Accuracy: 0.9097446961524631\n"
     ]
    },
    {
     "data": {
      "text/plain": [
       "'F1 score: 0.2929577464788733'"
      ]
     },
     "execution_count": 28,
     "metadata": {},
     "output_type": "execute_result"
    }
   ],
   "source": [
    "svm = SVC(C=1, gamma=0.1, kernel='rbf', class_weight='balanced')\n",
    "lr = LogisticRegression(solver = \"lbfgs\", class_weight={0:0.67, 1:0.33}, verbose=1, random_state = 2)\n",
    "knn = KNeighborsClassifier(n_neighbors=22)\n",
    "voting_clf = VotingClassifier(estimators=[('knn', knn), ('svm', svm), ('lr', lr)], voting='hard')\n",
    "voting_clf.fit(x_train, y_train)  # Use the training data\n",
    "predlabel = voting_clf.predict(x_test)  # Predict on the testing set\n",
    "\n",
    "# Confusion matrix\n",
    "confMat = metrics.confusion_matrix(y_test, predlabel)\n",
    "print(\"Confusion Matrix:\")\n",
    "print(confMat)\n",
    "\n",
    "# Calculating metrics\n",
    "accuracy(confMat)"
   ]
  }
 ],
 "metadata": {
  "kernelspec": {
   "display_name": "Python 3 (ipykernel)",
   "language": "python",
   "name": "python3"
  },
  "language_info": {
   "codemirror_mode": {
    "name": "ipython",
    "version": 3
   },
   "file_extension": ".py",
   "mimetype": "text/x-python",
   "name": "python",
   "nbconvert_exporter": "python",
   "pygments_lexer": "ipython3",
   "version": "3.9.13"
  },
  "toc": {
   "base_numbering": 1,
   "nav_menu": {},
   "number_sections": true,
   "sideBar": true,
   "skip_h1_title": false,
   "title_cell": "Table of Contents",
   "title_sidebar": "Contents",
   "toc_cell": false,
   "toc_position": {},
   "toc_section_display": true,
   "toc_window_display": true
  }
 },
 "nbformat": 4,
 "nbformat_minor": 2
}
